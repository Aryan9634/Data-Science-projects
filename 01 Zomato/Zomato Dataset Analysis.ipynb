{
 "cells": [
  {
   "cell_type": "markdown",
   "id": "a1478198",
   "metadata": {},
   "source": [
    "## EDA : Exploratory Data Analysis\n",
    "Exploratory Data Analysis refers to the critical process of performing initial investigations on data so as to discover patterns,to spot anomalies,to test hypothesis and to check assumptions with the help of summary statistics and graphical representations.\n",
    "____________________________________________________________________________"
   ]
  },
  {
   "cell_type": "markdown",
   "id": "50767fa9",
   "metadata": {},
   "source": [
    "## Zomato EDA\n",
    "Zomato is food delivery company and multinational restaurant aggregator. Zomato Food Delivery service is\n",
    "available in 24 countries and more than 10,000 cities as of 2019. The major objective is to perform Exploratory\n",
    "Data Analysis, Geospatial Analysis and Sentiment analysis using Zomato dataset.\n",
    "_________________________________________________________________________"
   ]
  },
  {
   "cell_type": "markdown",
   "id": "c8391f0d",
   "metadata": {},
   "source": [
    "Importing required modules for data manipulation and visiualization "
   ]
  },
  {
   "cell_type": "code",
   "execution_count": 1,
   "id": "81e3b4d3",
   "metadata": {},
   "outputs": [],
   "source": [
    "import numpy as np\n",
    "import pandas as pd\n",
    "import matplotlib.pyplot as plt\n",
    "import seaborn as sns\n",
    "%matplotlib inline"
   ]
  },
  {
   "cell_type": "markdown",
   "id": "f9afa202",
   "metadata": {},
   "source": [
    "Reading the Zomato dataset"
   ]
  },
  {
   "cell_type": "code",
   "execution_count": 2,
   "id": "47c1d2f3",
   "metadata": {},
   "outputs": [
    {
     "data": {
      "text/html": [
       "<div>\n",
       "<style scoped>\n",
       "    .dataframe tbody tr th:only-of-type {\n",
       "        vertical-align: middle;\n",
       "    }\n",
       "\n",
       "    .dataframe tbody tr th {\n",
       "        vertical-align: top;\n",
       "    }\n",
       "\n",
       "    .dataframe thead th {\n",
       "        text-align: right;\n",
       "    }\n",
       "</style>\n",
       "<table border=\"1\" class=\"dataframe\">\n",
       "  <thead>\n",
       "    <tr style=\"text-align: right;\">\n",
       "      <th></th>\n",
       "      <th>url</th>\n",
       "      <th>address</th>\n",
       "      <th>name</th>\n",
       "      <th>online_order</th>\n",
       "      <th>book_table</th>\n",
       "      <th>rate</th>\n",
       "      <th>votes</th>\n",
       "      <th>phone</th>\n",
       "      <th>location</th>\n",
       "      <th>rest_type</th>\n",
       "      <th>dish_liked</th>\n",
       "      <th>cuisines</th>\n",
       "      <th>approx_cost(for two people)</th>\n",
       "      <th>reviews_list</th>\n",
       "      <th>menu_item</th>\n",
       "      <th>listed_in(type)</th>\n",
       "      <th>listed_in(city)</th>\n",
       "    </tr>\n",
       "  </thead>\n",
       "  <tbody>\n",
       "    <tr>\n",
       "      <th>0</th>\n",
       "      <td>https://www.zomato.com/bangalore/jalsa-banasha...</td>\n",
       "      <td>942, 21st Main Road, 2nd Stage, Banashankari, ...</td>\n",
       "      <td>Jalsa</td>\n",
       "      <td>Yes</td>\n",
       "      <td>Yes</td>\n",
       "      <td>4.1/5</td>\n",
       "      <td>775</td>\n",
       "      <td>080 42297555\\r\\n+91 9743772233</td>\n",
       "      <td>Banashankari</td>\n",
       "      <td>Casual Dining</td>\n",
       "      <td>Pasta, Lunch Buffet, Masala Papad, Paneer Laja...</td>\n",
       "      <td>North Indian, Mughlai, Chinese</td>\n",
       "      <td>800</td>\n",
       "      <td>[('Rated 4.0', 'RATED\\n  A beautiful place to ...</td>\n",
       "      <td>[]</td>\n",
       "      <td>Buffet</td>\n",
       "      <td>Banashankari</td>\n",
       "    </tr>\n",
       "    <tr>\n",
       "      <th>1</th>\n",
       "      <td>https://www.zomato.com/bangalore/spice-elephan...</td>\n",
       "      <td>2nd Floor, 80 Feet Road, Near Big Bazaar, 6th ...</td>\n",
       "      <td>Spice Elephant</td>\n",
       "      <td>Yes</td>\n",
       "      <td>No</td>\n",
       "      <td>4.1/5</td>\n",
       "      <td>787</td>\n",
       "      <td>080 41714161</td>\n",
       "      <td>Banashankari</td>\n",
       "      <td>Casual Dining</td>\n",
       "      <td>Momos, Lunch Buffet, Chocolate Nirvana, Thai G...</td>\n",
       "      <td>Chinese, North Indian, Thai</td>\n",
       "      <td>800</td>\n",
       "      <td>[('Rated 4.0', 'RATED\\n  Had been here for din...</td>\n",
       "      <td>[]</td>\n",
       "      <td>Buffet</td>\n",
       "      <td>Banashankari</td>\n",
       "    </tr>\n",
       "    <tr>\n",
       "      <th>2</th>\n",
       "      <td>https://www.zomato.com/SanchurroBangalore?cont...</td>\n",
       "      <td>1112, Next to KIMS Medical College, 17th Cross...</td>\n",
       "      <td>San Churro Cafe</td>\n",
       "      <td>Yes</td>\n",
       "      <td>No</td>\n",
       "      <td>3.8/5</td>\n",
       "      <td>918</td>\n",
       "      <td>+91 9663487993</td>\n",
       "      <td>Banashankari</td>\n",
       "      <td>Cafe, Casual Dining</td>\n",
       "      <td>Churros, Cannelloni, Minestrone Soup, Hot Choc...</td>\n",
       "      <td>Cafe, Mexican, Italian</td>\n",
       "      <td>800</td>\n",
       "      <td>[('Rated 3.0', \"RATED\\n  Ambience is not that ...</td>\n",
       "      <td>[]</td>\n",
       "      <td>Buffet</td>\n",
       "      <td>Banashankari</td>\n",
       "    </tr>\n",
       "  </tbody>\n",
       "</table>\n",
       "</div>"
      ],
      "text/plain": [
       "                                                 url  \\\n",
       "0  https://www.zomato.com/bangalore/jalsa-banasha...   \n",
       "1  https://www.zomato.com/bangalore/spice-elephan...   \n",
       "2  https://www.zomato.com/SanchurroBangalore?cont...   \n",
       "\n",
       "                                             address             name  \\\n",
       "0  942, 21st Main Road, 2nd Stage, Banashankari, ...            Jalsa   \n",
       "1  2nd Floor, 80 Feet Road, Near Big Bazaar, 6th ...   Spice Elephant   \n",
       "2  1112, Next to KIMS Medical College, 17th Cross...  San Churro Cafe   \n",
       "\n",
       "  online_order book_table   rate  votes                           phone  \\\n",
       "0          Yes        Yes  4.1/5    775  080 42297555\\r\\n+91 9743772233   \n",
       "1          Yes         No  4.1/5    787                    080 41714161   \n",
       "2          Yes         No  3.8/5    918                  +91 9663487993   \n",
       "\n",
       "       location            rest_type  \\\n",
       "0  Banashankari        Casual Dining   \n",
       "1  Banashankari        Casual Dining   \n",
       "2  Banashankari  Cafe, Casual Dining   \n",
       "\n",
       "                                          dish_liked  \\\n",
       "0  Pasta, Lunch Buffet, Masala Papad, Paneer Laja...   \n",
       "1  Momos, Lunch Buffet, Chocolate Nirvana, Thai G...   \n",
       "2  Churros, Cannelloni, Minestrone Soup, Hot Choc...   \n",
       "\n",
       "                         cuisines approx_cost(for two people)  \\\n",
       "0  North Indian, Mughlai, Chinese                         800   \n",
       "1     Chinese, North Indian, Thai                         800   \n",
       "2          Cafe, Mexican, Italian                         800   \n",
       "\n",
       "                                        reviews_list menu_item  \\\n",
       "0  [('Rated 4.0', 'RATED\\n  A beautiful place to ...        []   \n",
       "1  [('Rated 4.0', 'RATED\\n  Had been here for din...        []   \n",
       "2  [('Rated 3.0', \"RATED\\n  Ambience is not that ...        []   \n",
       "\n",
       "  listed_in(type) listed_in(city)  \n",
       "0          Buffet    Banashankari  \n",
       "1          Buffet    Banashankari  \n",
       "2          Buffet    Banashankari  "
      ]
     },
     "execution_count": 2,
     "metadata": {},
     "output_type": "execute_result"
    }
   ],
   "source": [
    "zomato = pd.read_csv(\"zomato.csv\")\n",
    "zomato.head(3)"
   ]
  },
  {
   "cell_type": "markdown",
   "id": "b1fae0a1",
   "metadata": {},
   "source": [
    "### - Data Cleaning "
   ]
  },
  {
   "cell_type": "markdown",
   "id": "f67624e3",
   "metadata": {},
   "source": [
    "#### - Deleting redundant columns.\n",
    "\n",
    "Redundant columns are the columns which do not contribute in analysis of data or column in the spreadsheet table that does not contribute to the semantic meaning of the table.\n",
    "\n",
    "Columns : url , address , reviews_list , listed_in(city) , dish_liked , phone , menu_item are redundant columns"
   ]
  },
  {
   "cell_type": "code",
   "execution_count": 3,
   "id": "d24e789e",
   "metadata": {},
   "outputs": [],
   "source": [
    "zomato.drop([\"url\",\"address\",\"phone\",\"dish_liked\",\"reviews_list\",\"listed_in(city)\",\"menu_item\"],axis=1,inplace=True)"
   ]
  },
  {
   "cell_type": "code",
   "execution_count": 4,
   "id": "e5bb7cd8",
   "metadata": {},
   "outputs": [
    {
     "data": {
      "text/html": [
       "<div>\n",
       "<style scoped>\n",
       "    .dataframe tbody tr th:only-of-type {\n",
       "        vertical-align: middle;\n",
       "    }\n",
       "\n",
       "    .dataframe tbody tr th {\n",
       "        vertical-align: top;\n",
       "    }\n",
       "\n",
       "    .dataframe thead th {\n",
       "        text-align: right;\n",
       "    }\n",
       "</style>\n",
       "<table border=\"1\" class=\"dataframe\">\n",
       "  <thead>\n",
       "    <tr style=\"text-align: right;\">\n",
       "      <th></th>\n",
       "      <th>name</th>\n",
       "      <th>online_order</th>\n",
       "      <th>book_table</th>\n",
       "      <th>rate</th>\n",
       "      <th>votes</th>\n",
       "      <th>location</th>\n",
       "      <th>rest_type</th>\n",
       "      <th>cuisines</th>\n",
       "      <th>approx_cost(for two people)</th>\n",
       "      <th>listed_in(type)</th>\n",
       "    </tr>\n",
       "  </thead>\n",
       "  <tbody>\n",
       "    <tr>\n",
       "      <th>0</th>\n",
       "      <td>Jalsa</td>\n",
       "      <td>Yes</td>\n",
       "      <td>Yes</td>\n",
       "      <td>4.1/5</td>\n",
       "      <td>775</td>\n",
       "      <td>Banashankari</td>\n",
       "      <td>Casual Dining</td>\n",
       "      <td>North Indian, Mughlai, Chinese</td>\n",
       "      <td>800</td>\n",
       "      <td>Buffet</td>\n",
       "    </tr>\n",
       "    <tr>\n",
       "      <th>1</th>\n",
       "      <td>Spice Elephant</td>\n",
       "      <td>Yes</td>\n",
       "      <td>No</td>\n",
       "      <td>4.1/5</td>\n",
       "      <td>787</td>\n",
       "      <td>Banashankari</td>\n",
       "      <td>Casual Dining</td>\n",
       "      <td>Chinese, North Indian, Thai</td>\n",
       "      <td>800</td>\n",
       "      <td>Buffet</td>\n",
       "    </tr>\n",
       "    <tr>\n",
       "      <th>2</th>\n",
       "      <td>San Churro Cafe</td>\n",
       "      <td>Yes</td>\n",
       "      <td>No</td>\n",
       "      <td>3.8/5</td>\n",
       "      <td>918</td>\n",
       "      <td>Banashankari</td>\n",
       "      <td>Cafe, Casual Dining</td>\n",
       "      <td>Cafe, Mexican, Italian</td>\n",
       "      <td>800</td>\n",
       "      <td>Buffet</td>\n",
       "    </tr>\n",
       "  </tbody>\n",
       "</table>\n",
       "</div>"
      ],
      "text/plain": [
       "              name online_order book_table   rate  votes      location  \\\n",
       "0            Jalsa          Yes        Yes  4.1/5    775  Banashankari   \n",
       "1   Spice Elephant          Yes         No  4.1/5    787  Banashankari   \n",
       "2  San Churro Cafe          Yes         No  3.8/5    918  Banashankari   \n",
       "\n",
       "             rest_type                        cuisines  \\\n",
       "0        Casual Dining  North Indian, Mughlai, Chinese   \n",
       "1        Casual Dining     Chinese, North Indian, Thai   \n",
       "2  Cafe, Casual Dining          Cafe, Mexican, Italian   \n",
       "\n",
       "  approx_cost(for two people) listed_in(type)  \n",
       "0                         800          Buffet  \n",
       "1                         800          Buffet  \n",
       "2                         800          Buffet  "
      ]
     },
     "execution_count": 4,
     "metadata": {},
     "output_type": "execute_result"
    }
   ],
   "source": [
    "zomato.head(3)"
   ]
  },
  {
   "cell_type": "markdown",
   "id": "58924eb2",
   "metadata": {},
   "source": [
    "#### - Renaming the columns."
   ]
  },
  {
   "cell_type": "code",
   "execution_count": 5,
   "id": "2b9c7d06",
   "metadata": {},
   "outputs": [
    {
     "data": {
      "text/html": [
       "<div>\n",
       "<style scoped>\n",
       "    .dataframe tbody tr th:only-of-type {\n",
       "        vertical-align: middle;\n",
       "    }\n",
       "\n",
       "    .dataframe tbody tr th {\n",
       "        vertical-align: top;\n",
       "    }\n",
       "\n",
       "    .dataframe thead th {\n",
       "        text-align: right;\n",
       "    }\n",
       "</style>\n",
       "<table border=\"1\" class=\"dataframe\">\n",
       "  <thead>\n",
       "    <tr style=\"text-align: right;\">\n",
       "      <th></th>\n",
       "      <th>Restaurant</th>\n",
       "      <th>Online service</th>\n",
       "      <th>Reservation service</th>\n",
       "      <th>Rating</th>\n",
       "      <th>Votes</th>\n",
       "      <th>Location</th>\n",
       "      <th>Restaurant type</th>\n",
       "      <th>Cuisines</th>\n",
       "      <th>Cost for two</th>\n",
       "      <th>Category</th>\n",
       "    </tr>\n",
       "  </thead>\n",
       "  <tbody>\n",
       "    <tr>\n",
       "      <th>0</th>\n",
       "      <td>Jalsa</td>\n",
       "      <td>Yes</td>\n",
       "      <td>Yes</td>\n",
       "      <td>4.1/5</td>\n",
       "      <td>775</td>\n",
       "      <td>Banashankari</td>\n",
       "      <td>Casual Dining</td>\n",
       "      <td>North Indian, Mughlai, Chinese</td>\n",
       "      <td>800</td>\n",
       "      <td>Buffet</td>\n",
       "    </tr>\n",
       "    <tr>\n",
       "      <th>1</th>\n",
       "      <td>Spice Elephant</td>\n",
       "      <td>Yes</td>\n",
       "      <td>No</td>\n",
       "      <td>4.1/5</td>\n",
       "      <td>787</td>\n",
       "      <td>Banashankari</td>\n",
       "      <td>Casual Dining</td>\n",
       "      <td>Chinese, North Indian, Thai</td>\n",
       "      <td>800</td>\n",
       "      <td>Buffet</td>\n",
       "    </tr>\n",
       "    <tr>\n",
       "      <th>2</th>\n",
       "      <td>San Churro Cafe</td>\n",
       "      <td>Yes</td>\n",
       "      <td>No</td>\n",
       "      <td>3.8/5</td>\n",
       "      <td>918</td>\n",
       "      <td>Banashankari</td>\n",
       "      <td>Cafe, Casual Dining</td>\n",
       "      <td>Cafe, Mexican, Italian</td>\n",
       "      <td>800</td>\n",
       "      <td>Buffet</td>\n",
       "    </tr>\n",
       "  </tbody>\n",
       "</table>\n",
       "</div>"
      ],
      "text/plain": [
       "        Restaurant Online service Reservation service Rating  Votes  \\\n",
       "0            Jalsa            Yes                 Yes  4.1/5    775   \n",
       "1   Spice Elephant            Yes                  No  4.1/5    787   \n",
       "2  San Churro Cafe            Yes                  No  3.8/5    918   \n",
       "\n",
       "       Location      Restaurant type                        Cuisines  \\\n",
       "0  Banashankari        Casual Dining  North Indian, Mughlai, Chinese   \n",
       "1  Banashankari        Casual Dining     Chinese, North Indian, Thai   \n",
       "2  Banashankari  Cafe, Casual Dining          Cafe, Mexican, Italian   \n",
       "\n",
       "  Cost for two Category  \n",
       "0          800   Buffet  \n",
       "1          800   Buffet  \n",
       "2          800   Buffet  "
      ]
     },
     "execution_count": 5,
     "metadata": {},
     "output_type": "execute_result"
    }
   ],
   "source": [
    "zomato.rename(columns={\n",
    "    \"name\":\"Restaurant\",\n",
    "    \"online_order\":\"Online service\",\n",
    "    \"book_table\":\"Reservation service\",\n",
    "    \"rate\":\"Rating\",\n",
    "    \"votes\":\"Votes\",\n",
    "    \"location\":\"Location\",\n",
    "    \"rest_type\":\"Restaurant type\",\n",
    "    \"cuisines\":\"Cuisines\",\n",
    "    \"approx_cost(for two people)\":\"Cost for two\",\n",
    "    \"listed_in(type)\":\"Category\" \n",
    "},inplace=True)\n",
    "zomato.head(3)"
   ]
  },
  {
   "cell_type": "markdown",
   "id": "e8fbe91c",
   "metadata": {},
   "source": [
    "#### - Dropping duplicates"
   ]
  },
  {
   "cell_type": "code",
   "execution_count": 6,
   "id": "dccc2f08",
   "metadata": {},
   "outputs": [
    {
     "data": {
      "text/plain": [
       "False    35011\n",
       "True     16706\n",
       "dtype: int64"
      ]
     },
     "execution_count": 6,
     "metadata": {},
     "output_type": "execute_result"
    }
   ],
   "source": [
    "zomato.duplicated(keep=\"first\").value_counts()"
   ]
  },
  {
   "cell_type": "markdown",
   "id": "95c75f2c",
   "metadata": {},
   "source": [
    "There are 16706 duplicate rows , which should be dropped"
   ]
  },
  {
   "cell_type": "code",
   "execution_count": 7,
   "id": "47f75532",
   "metadata": {},
   "outputs": [],
   "source": [
    "zomato.drop_duplicates(inplace=True)"
   ]
  },
  {
   "cell_type": "code",
   "execution_count": 8,
   "id": "c08652d8",
   "metadata": {},
   "outputs": [
    {
     "data": {
      "text/plain": [
       "False    35011\n",
       "dtype: int64"
      ]
     },
     "execution_count": 8,
     "metadata": {},
     "output_type": "execute_result"
    }
   ],
   "source": [
    "zomato.duplicated().value_counts()"
   ]
  },
  {
   "cell_type": "markdown",
   "id": "6520c750",
   "metadata": {},
   "source": [
    "Thus removed all the duplicate rows from the dataframe"
   ]
  },
  {
   "cell_type": "markdown",
   "id": "f57833cb",
   "metadata": {},
   "source": [
    "#### - Cleaning individual columns."
   ]
  },
  {
   "cell_type": "code",
   "execution_count": 9,
   "id": "6848c2ed",
   "metadata": {},
   "outputs": [
    {
     "data": {
      "text/plain": [
       "Index(['Restaurant', 'Online service', 'Reservation service', 'Rating',\n",
       "       'Votes', 'Location', 'Restaurant type', 'Cuisines', 'Cost for two',\n",
       "       'Category'],\n",
       "      dtype='object')"
      ]
     },
     "execution_count": 9,
     "metadata": {},
     "output_type": "execute_result"
    }
   ],
   "source": [
    "zomato.columns"
   ]
  },
  {
   "cell_type": "markdown",
   "id": "758d73f3",
   "metadata": {},
   "source": [
    "- Restaurant"
   ]
  },
  {
   "cell_type": "code",
   "execution_count": 10,
   "id": "2e77bc96",
   "metadata": {
    "scrolled": true
   },
   "outputs": [
    {
     "data": {
      "text/plain": [
       "['Jalsa',\n",
       " 'Spice Elephant',\n",
       " 'San Churro Cafe',\n",
       " 'Addhuri Udupi Bhojana',\n",
       " 'Grand Village',\n",
       " 'Timepass Dinner',\n",
       " 'Rosewood International Hotel - Bar & Restaurant',\n",
       " 'Onesta',\n",
       " 'Penthouse Cafe',\n",
       " 'Smacznego',\n",
       " 'CafÃ\\x83Â\\x83Ã\\x82Â\\x83Ã\\x83Â\\x82Ã\\x82Â\\x83Ã\\x83Â\\x83Ã\\x82Â\\x82Ã\\x83Â\\x82Ã\\x82Â© Down The Alley',\n",
       " 'Cafe Shuffle',\n",
       " 'The Coffee Shack',\n",
       " 'Caf-Eleven',\n",
       " 'Cafe Vivacity',\n",
       " 'Catch-up-ino',\n",
       " \"Kirthi's Biryani\",\n",
       " 'T3H Cafe',\n",
       " '360 Atoms Restaurant And Cafe',\n",
       " 'The Vintage Cafe',\n",
       " 'Woodee Pizza',\n",
       " 'Cafe Coffee Day',\n",
       " 'My Tea House',\n",
       " 'Hide Out Cafe',\n",
       " 'CAFE NOVA',\n",
       " 'Coffee Tindi',\n",
       " 'Sea Green Cafe',\n",
       " 'Cuppa',\n",
       " \"Srinathji's Cafe\",\n",
       " 'Redberrys',\n",
       " 'Foodiction',\n",
       " 'Sweet Truth',\n",
       " 'Ovenstory Pizza',\n",
       " 'Faasos',\n",
       " 'Behrouz Biryani',\n",
       " 'Fast And Fresh',\n",
       " 'Szechuan Dragon',\n",
       " 'Empire Restaurant',\n",
       " 'Maruthi Davangere Benne Dosa',\n",
       " 'Chaatimes',\n",
       " 'Havyaka Mess',\n",
       " \"McDonald's\",\n",
       " \"Domino's Pizza\",\n",
       " 'Hotboxit',\n",
       " 'Kitchen Garden',\n",
       " 'Recipe',\n",
       " 'Beijing Bites',\n",
       " 'Tasty Bytes',\n",
       " 'Petoo',\n",
       " 'Shree Cool Point',\n",
       " 'Corner House Ice Cream',\n",
       " 'Biryanis And More',\n",
       " 'Roving Feast',\n",
       " 'FreshMenu',\n",
       " 'Banashankari Donne Biriyani',\n",
       " 'Wamama',\n",
       " 'Five Star Chicken',\n",
       " 'XO Belgian Waffle',\n",
       " 'Peppy Peppers',\n",
       " 'Goa 0 Km',\n",
       " 'Chinese Kitchen',\n",
       " '1947',\n",
       " 'Cake of the Day',\n",
       " 'Kabab Magic',\n",
       " \"Namma Brahmin's Idli\",\n",
       " 'Gustoes Beer House',\n",
       " 'Sugar Rush',\n",
       " 'Burger King',\n",
       " 'The Good Bowl',\n",
       " 'The Biryani Cafe',\n",
       " 'Spicy Tandoor',\n",
       " 'LSD Cafe',\n",
       " 'Rolls On Wheels',\n",
       " 'Om Sri Vinayaka Chats',\n",
       " 'Sri Guru Kottureshwara Davangere Benne Dosa',\n",
       " 'Devanna Dum Biriyani Centre',\n",
       " 'Kolbeh',\n",
       " 'Upahar Sagar',\n",
       " 'Kadalu Sea Food Restaurant',\n",
       " 'Frozen Bottle',\n",
       " 'Parimala Sweets',\n",
       " 'Vaishali Deluxe',\n",
       " 'Chill Out',\n",
       " 'The Big O Bakes',\n",
       " 'Meghana Foods',\n",
       " 'Krishna Sagar',\n",
       " 'Dessert Rose',\n",
       " 'Chickpet Donne Biryani House',\n",
       " 'Me And My Cake',\n",
       " 'Sunsadm',\n",
       " 'Annapooraneshwari Mess',\n",
       " \"Thanco's Natural Ice Creams\",\n",
       " 'Nandhini Deluxe',\n",
       " \"Vi Ra's Bar and Restaurant\",\n",
       " 'Kaggis',\n",
       " 'Ayda Persian Kitchen',\n",
       " 'Chatar Patar',\n",
       " 'Polar Bear',\n",
       " \"Kidambi's Kitchen\",\n",
       " 'Mane Thindi',\n",
       " 'Kotian Karavali Restaurant',\n",
       " 'Floured-Baked With Love',\n",
       " 'Cakes & Slices',\n",
       " 'Spice 9',\n",
       " 'Coffee Shopee',\n",
       " 'Naveen Kabab & Biriyani Mane',\n",
       " 'Katriguppe Donne Biryani',\n",
       " 'Hari Super Sandwich',\n",
       " 'Atithi Point Ande Ka Funda',\n",
       " 'Just Bake',\n",
       " 'Dharwad Line Bazaar Mishra Pedha',\n",
       " 'Cake Bite',\n",
       " \"Aarush's Food Plaza\",\n",
       " 'Wood Stove',\n",
       " 'Kulfi & More',\n",
       " 'Kannadigas Karavali',\n",
       " 'K27 - The Pub',\n",
       " 'Bengaluru Coffee House',\n",
       " 'New Mangalore Lunch Home',\n",
       " 'Coffee Bytes',\n",
       " 'Parjanya Chat Zone',\n",
       " \"Kwality Wall's Swirl's Happiness Station\",\n",
       " 'Soms Kitchen & Bakes',\n",
       " 'Banashankari Nati Style',\n",
       " 'Ruchi Maayaka',\n",
       " 'Mohitesh Hut Roll',\n",
       " 'Sri Basaveshwar Jolada Rotti Oota',\n",
       " 'Roll Magic Fast Food',\n",
       " 'Foodlieious Multi Cuisine',\n",
       " 'Thanishka Nati And Karavali Style',\n",
       " 'Swathi Cool Point',\n",
       " 'Kaumudis Juoice',\n",
       " 'Amma - Manae',\n",
       " 'Sri Sai Tiffannies',\n",
       " 'Hotel Andhra Speices',\n",
       " 'Sri Murari Family Restaurant',\n",
       " 'Aramane Donne Biriyani',\n",
       " 'Darkolates',\n",
       " 'Swaada Healthy Kitchen',\n",
       " 'Gawdaru Mane Beriyani',\n",
       " 'Melting Melodies',\n",
       " 'New Indraprasta',\n",
       " 'Anna Kuteera',\n",
       " 'Darbar',\n",
       " 'Vijayalakshmi',\n",
       " 'Sri Udupi Food Hub',\n",
       " 'Udupi Upahar',\n",
       " 'House Of Kebabs',\n",
       " 'Roll N Rock',\n",
       " 'BOX8- Desi Meals',\n",
       " 'KFC',\n",
       " 'Bitez',\n",
       " 'Roll Over',\n",
       " 'Imperial Restaurant',\n",
       " 'Lassi Shop',\n",
       " 'The Fortuna',\n",
       " 'Wahab',\n",
       " 'Al Diwan Biryanis And More',\n",
       " \"New Gowda's Fried Chicken\",\n",
       " 'Canton',\n",
       " 'Diabetics Dezire Sugarless Sweets and Bakes',\n",
       " 'The Blue Wagon - Kitchen',\n",
       " 'HOT COFFEE',\n",
       " 'Patio 805',\n",
       " 'Lassi Corner',\n",
       " 'Sagar Deluxe',\n",
       " 'Kanti Sweets',\n",
       " 'Vegetalia',\n",
       " 'Aramane Donne Biryani',\n",
       " 'Ande Ka Funda',\n",
       " 'Cake Ghar',\n",
       " 'Energy Addaa',\n",
       " 'Bhattara Bhojana',\n",
       " 'Tandoori Knight',\n",
       " 'Dev Sagar - Food Street',\n",
       " 'Mitraa Da Pizza',\n",
       " 'Paradise Premium',\n",
       " 'Grazers',\n",
       " 'Shakes Theory',\n",
       " '@Italy',\n",
       " 'Chilli Flakes',\n",
       " 'Calcutta Cafe',\n",
       " 'Old Mumbai Ice Cream',\n",
       " 'Donne Biriyani House',\n",
       " 'By 2 Coffee',\n",
       " \"Kedia's Fun Food\",\n",
       " 'Davangere Butter Dosa Hotel',\n",
       " 'Just Shawarma',\n",
       " 'Mini Punjabi Dhaba',\n",
       " 'Mulabagilu Dosa',\n",
       " 'Gokul Veg',\n",
       " 'Olive - Era',\n",
       " 'Udupi Ruchi',\n",
       " 'Madhappa Hindu Military Hotel',\n",
       " 'Gama Gama',\n",
       " 'Pizza Hut',\n",
       " 'Mangalore Pearl',\n",
       " 'Asha Sweets Centre',\n",
       " 'Twiststick House',\n",
       " 'Cool Corner',\n",
       " 'Pizza Mane',\n",
       " 'Dal Tadkaa',\n",
       " 'Chutney Chang',\n",
       " 'Mystique Palate',\n",
       " 'Thamboola',\n",
       " 'Castle Rock',\n",
       " 'Vietnamese Kitchen',\n",
       " 'C Corner',\n",
       " 'Paratha Merchant',\n",
       " 'North Rasoe',\n",
       " 'Inchara Restaurant',\n",
       " 'Toscano',\n",
       " 'Lord Of The Kitchen',\n",
       " 'Stoned Monkey',\n",
       " 'Central Jail Restaurant',\n",
       " 'Bella',\n",
       " 'Vennela Andhra Meals',\n",
       " 'New Prashanth Hotel',\n",
       " 'The Grillo',\n",
       " 'Re Malnad Nati Style Hotel',\n",
       " 'Karma Kaapi',\n",
       " \"Tiwari's\",\n",
       " 'Pizza Stop',\n",
       " \"Biggies Burger 'n' More\",\n",
       " \"Kollapuri's\",\n",
       " 'Sugar Stars Co',\n",
       " 'Bombay Kulfis',\n",
       " 'Kadamba Classic',\n",
       " 'RS Shiv Sagar',\n",
       " 'Kholi Mane',\n",
       " 'Harshi Super Sandwich',\n",
       " 'Cake Yard',\n",
       " 'Sri Udupi Veg',\n",
       " 'Cake Art',\n",
       " 'Aahar Cafe',\n",
       " 'Akash Gowdru Biryani Center',\n",
       " 'New Sri Udupi Restaurant',\n",
       " 'Potato House',\n",
       " 'Hotel Biriyani Counter',\n",
       " 'Matru Sagar',\n",
       " 'Ugadi',\n",
       " 'Sri Krishna Sweets',\n",
       " 'In Time Cane Juice',\n",
       " 'Subway',\n",
       " 'Daal Roti',\n",
       " 'The Lassi Park',\n",
       " 'A2B - Adyar Ananda Bhavan',\n",
       " 'Srikrishna Bhavan',\n",
       " 'Green Gardenia',\n",
       " 'J Spice',\n",
       " 'Karavali Family Restaurant',\n",
       " 'Karavali Lunch Home',\n",
       " 'Hatti Kaapi',\n",
       " \"Kolkata Kathi Roll's\",\n",
       " 'Upahara Darshini',\n",
       " 'The Chaat Shop',\n",
       " 'Anda Ka Funda',\n",
       " 'Shri Vinayaka Ice N Juice',\n",
       " 'Ibaco',\n",
       " 'Jalaram Sweets',\n",
       " 'Samskruti - Sanman Gardenia',\n",
       " 'Bendakaluru Bytes',\n",
       " 'Cocoa Bakes',\n",
       " 'Chumma Delicious',\n",
       " 'SSV Upahar',\n",
       " 'Dwaraka Grand',\n",
       " 'Gufha - The President Hotel',\n",
       " \"Tanna's Kitchen\",\n",
       " 'Shree Mandarathi Grand',\n",
       " 'Mojo Pizza - 2X Toppings',\n",
       " 'Iceberg Icecreams',\n",
       " 'South Kitchen',\n",
       " 'Chung Wah',\n",
       " 'Shanthi Sagar',\n",
       " 'Millet Mama',\n",
       " 'Bangarpet Chat Express',\n",
       " 'South Cool Point',\n",
       " 'Prems Graama Bhojanam',\n",
       " 'Java City',\n",
       " 'Kamat Bugle Rock',\n",
       " 'Puliyogare Point',\n",
       " 'Bangalore Agarwal Bhavan',\n",
       " 'Rustic Stove',\n",
       " 'Udupi Ruchi Grand',\n",
       " 'De Thaali',\n",
       " 'Just Thindi',\n",
       " 'Vasanth Vihar - Since 1965',\n",
       " 'Sea Spice by 7 Star',\n",
       " 'Desi Dawat',\n",
       " 'Cafe Aira',\n",
       " 'Donne Biriyani combos',\n",
       " 'Mast Punjabi',\n",
       " 'South Grand',\n",
       " 'The Pizzeria',\n",
       " 'Cafe Zone',\n",
       " 'Ruchis Point',\n",
       " 'Firangi Bake',\n",
       " 'The Royal Corner - Pai Viceroy',\n",
       " 'Hara Fine Dine',\n",
       " 'Chocoberry',\n",
       " 'Dakshin Grand',\n",
       " 'Sandwichwallas',\n",
       " 'Chai Mane',\n",
       " 'SLV Upachar',\n",
       " 'Waffle-A-Go Go',\n",
       " 'Cross Road Cafe',\n",
       " 'Anand Donne Biriyani',\n",
       " 'Seven Star',\n",
       " \"Stop 'N' Joy\",\n",
       " 'Sri Yaksha Shiv Sagar',\n",
       " 'Fudge',\n",
       " 'Just Bunny',\n",
       " 'Bakers Town',\n",
       " 'Shree Mahalakshmi Sweets',\n",
       " 'Kaapi Kendra',\n",
       " 'Ivy',\n",
       " 'The Airos',\n",
       " 'Chai Kraft',\n",
       " 'South Point Pub',\n",
       " 'The Trundle',\n",
       " 'The Krishna Grand Xpress',\n",
       " 'Sri Krishna Darshini',\n",
       " 'Shringar Sweets & Snacks',\n",
       " 'Udupi Grand',\n",
       " 'Ganesh Grand',\n",
       " 'Shreyas Upahar & Burger Point',\n",
       " 'Little Cafe',\n",
       " 'Mumbai Badam Milk & Lassi Center',\n",
       " 'Sri Krishna Sagar',\n",
       " 'Mylari Biryani Family Restaurant',\n",
       " '1980s Games Cafe',\n",
       " 'Kadala Tarangaa',\n",
       " 'Namma Biryani',\n",
       " \"Nandhanu's Rasoi\",\n",
       " 'Hotel Pork Paradise',\n",
       " 'As On Fire',\n",
       " 'J K Fish Land',\n",
       " 'Curry Leaves',\n",
       " 'Magic Meals',\n",
       " 'Desi Cream Junction',\n",
       " 'Drunken Monkey',\n",
       " \"Ruchi's Corner\",\n",
       " 'Tandoori Bytes',\n",
       " 'Bangalore Donne Biriyani',\n",
       " 'SGS Non Veg - Gundu Pulav',\n",
       " 'Keventers',\n",
       " 'Sree Sagar',\n",
       " 'Navi Food Point',\n",
       " 'Shawarma Inc',\n",
       " 'The Cafe Nuts and Bolts',\n",
       " 'AM WOW',\n",
       " 'Lalbagh Grand',\n",
       " 'Funjabi Curries',\n",
       " 'Eat Repeat',\n",
       " 'Salut',\n",
       " 'Nammura Donne Biriyani',\n",
       " 'Lassi Stop',\n",
       " 'Dakshin Kitchen',\n",
       " 'Sri Sai Cafe',\n",
       " 'Sri Sai 99 Variety Dosa',\n",
       " 'Utsav Restaurant',\n",
       " 'Crunch and Munch',\n",
       " 'Food Geek',\n",
       " 'Sri Krishna Aramane',\n",
       " 'Great Indian Rolls',\n",
       " 'Chats Point',\n",
       " 'Food Point',\n",
       " 'Swarga Ruchi',\n",
       " 'Kolkata King',\n",
       " \"Sandwich Mama's And Frozen Monster\",\n",
       " 'New Rajadhani Spicy',\n",
       " 'Big Mishra Pedha',\n",
       " 'VEGeatz',\n",
       " 'Foodizo',\n",
       " 'Food Springs',\n",
       " \"Chung's Chinese Corner\",\n",
       " 'Eurasia Pasta and Barbeque by Little Italy',\n",
       " 'Goli Vada Pav No. 1',\n",
       " \"Ragoo's\",\n",
       " 'Pure & Natural',\n",
       " 'Maiyas',\n",
       " 'Sip n Dine',\n",
       " 'Cafe Mondo',\n",
       " 'Jalpaan',\n",
       " \"Kataria's Pakwan\",\n",
       " 'Juicy Momos',\n",
       " 'Amande Patisserie',\n",
       " 'Anand Sweets and Savouries',\n",
       " 'Chicken Hunt',\n",
       " 'Swadesh Tadka',\n",
       " 'Cane-O-La',\n",
       " 'New Biryani Mane',\n",
       " 'Karnataka Bhel House',\n",
       " 'Sreeraj Lassi Bar',\n",
       " 'Juice Junction Food Court',\n",
       " \"Bunt's Biriyani Palace\",\n",
       " 'Chai Point',\n",
       " 'Janahaar',\n",
       " 'Utsav',\n",
       " 'Meat And Eat',\n",
       " 'Snacks Bite',\n",
       " 'The Spice Saga',\n",
       " 'Dakshin Cafe',\n",
       " 'Mr. Parathewala',\n",
       " 'Kaulige Millet Corner',\n",
       " 'Ifruit Ice Cream',\n",
       " 'Havmor',\n",
       " 'Grand Food',\n",
       " 'Dining Hut',\n",
       " '7 Hills Garden Restaurant',\n",
       " 'Desi Swaad',\n",
       " 'Yummy Momos',\n",
       " 'Masale Daan',\n",
       " 'Sri Manjunatha Tandoori Corner',\n",
       " 'Grow Fit',\n",
       " 'The House Of Vadapav',\n",
       " 'Cutcakes',\n",
       " 'Lassi Spot',\n",
       " 'Sandwich Hub',\n",
       " \"Healthy Bakes 'n' Brew\",\n",
       " 'Udupi Sri Krishna Cafe',\n",
       " 'Starlite Bakery & Fastfood',\n",
       " 'Veganbreak24x7',\n",
       " 'Aadhya Hotel',\n",
       " 'Dodda Mane Baaduta',\n",
       " 'Swadd Kitchen',\n",
       " 'Nandini Milk Parlour and Restaurant',\n",
       " 'Happy Chopsticks',\n",
       " 'Sai Super Sandwich',\n",
       " 'Right Pizza',\n",
       " 'Udupi Upachar',\n",
       " 'Davanagere Benne Dose Hut',\n",
       " 'The Sip Shop',\n",
       " 'Subz',\n",
       " 'Rajastani Rasoi',\n",
       " 'Sri Banashankari Upahara',\n",
       " 'Mint and Mustard',\n",
       " 'Chinese Square',\n",
       " 'Hyderabad Express',\n",
       " 'Punjabi Raswada',\n",
       " \"Vinny's\",\n",
       " \"Chetty's Corner\",\n",
       " \"Kapoor's Cafe\",\n",
       " 'Donne Biryani & Kabab Corner',\n",
       " 'Sukh Sagar',\n",
       " 'S M V Snacks Corner',\n",
       " 'Andhra Ruchulu',\n",
       " 'The Samosa Co',\n",
       " 'Steaming Mugs',\n",
       " 'Rajathadri Food Fort',\n",
       " 'Brew Meister',\n",
       " 'Rasoi',\n",
       " 'Mr. Singh Da Dhaba',\n",
       " 'Kababs N Biryani',\n",
       " 'Ayodhya Upachar',\n",
       " 'Biriyani Mane',\n",
       " 'Cafe Ajfan',\n",
       " 'Brundhavana Food Point',\n",
       " 'SLV Corner Restaurant',\n",
       " 'Biryani Royals Garden',\n",
       " 'Hotel New Karavali',\n",
       " 'The Krishna Grand',\n",
       " 'Roti Ghar',\n",
       " 'Multi Snacky Hub',\n",
       " 'Kettle & Kegs',\n",
       " 'Baisakhi',\n",
       " 'Poonam Sweets',\n",
       " \"Amma's Pastries\",\n",
       " 'The Lassi and Juice Park',\n",
       " 'Corner Stone',\n",
       " 'Arun Ice Cream',\n",
       " 'Sweet N Swirl',\n",
       " 'Mukesh Sweet Centre',\n",
       " 'Gopi Ice Creams',\n",
       " 'Sri Venkateshwara Sweet Meat Stall',\n",
       " 'Baskin Robbins',\n",
       " 'Srinivasa Brahmins Bakery',\n",
       " 'Jain Bakes',\n",
       " 'KC Das - Sweet Spot',\n",
       " 'A2B Veg - Adyar Ananda Bhavan',\n",
       " 'Cakecraft',\n",
       " 'Jcubez',\n",
       " 'Ferment',\n",
       " 'Blue Wings Bar & Restaurant',\n",
       " 'New Imperial Restaurant',\n",
       " '7 Hills Restaurant',\n",
       " 'Karavali Fish Center',\n",
       " \"Iyer's Tiffin Centre\",\n",
       " 'Kydz Adda',\n",
       " 'Food Box Cafe',\n",
       " 'Linnet Bar & Restaurant',\n",
       " 'Sri Ganesh Juice and Chats',\n",
       " 'Manifest Cafe',\n",
       " 'SLN Bar and Restaurant',\n",
       " 'Parijatha Paradise',\n",
       " 'Taaza Thindi',\n",
       " 'Kaapi Corner',\n",
       " 'Sri Laxmi Venkateshwara Coffee Bar',\n",
       " 'Messy Bowl',\n",
       " 'Brahmin Cafe',\n",
       " 'Hotel Mangala',\n",
       " 'Simple Thindies',\n",
       " 'SLV Swadishta',\n",
       " 'New Sagar Fast Food',\n",
       " 'Parama Ruchi',\n",
       " 'Thrilok Restaurant',\n",
       " 'Shri Guru Raghavendra Grand Veg',\n",
       " 'Hanumanthanagar Biryani Junction',\n",
       " 'SLV Refreshment',\n",
       " 'SVKP Daily Fresh',\n",
       " 'Srinagar Kabab Corner',\n",
       " 'Sri Venkateshwara Chat Centre',\n",
       " 'Vinay Bhel Corner',\n",
       " 'Roti Land',\n",
       " 'Nandi Chats and Juice',\n",
       " 'Yaarub Hotel',\n",
       " 'Rotti Mane',\n",
       " 'The Coorg Kitchen',\n",
       " 'FOOD ADDA',\n",
       " 'Hotel Nisarga',\n",
       " 'Yo Roll Corner',\n",
       " 'New Quality Dum Biryani',\n",
       " 'Sri Lakshmi Kabab Center',\n",
       " 'Cueferia A-Cafe',\n",
       " 'Dtink Lab',\n",
       " 'Shree Udupi South kitchen',\n",
       " 'Tasty Bites',\n",
       " 'Raams Chicken',\n",
       " 'Panchami',\n",
       " 'Bangalore Kabab Palace',\n",
       " 'Quality Dum Biriyani',\n",
       " 'Taja Coffee',\n",
       " 'New Prakash Hotel',\n",
       " 'Kings Court Daba',\n",
       " 'MM Tiffen Center',\n",
       " 'Sri Raghavendra Prasanna Coffee Beans Club',\n",
       " 'Sri Balaji Tiffin Centre',\n",
       " 'Kavali',\n",
       " 'Ranganna Military Hotel',\n",
       " 'Vidyarthi Bhavan',\n",
       " 'Bharjari Oota',\n",
       " 'Bridgeway',\n",
       " 'Soho Bar & Grill',\n",
       " 'Bhavani Restaurant',\n",
       " 'Zephyr',\n",
       " 'Hotel Dwarka',\n",
       " 'Nisarga Garden Restaurant',\n",
       " 'Ma-Arya Family Restaurant',\n",
       " 'Udupi Sri Krishna Bhavan',\n",
       " 'Ice Thunder',\n",
       " 'Mahalaxmi Tiffin Room',\n",
       " 'Basavanagudi Mylari',\n",
       " 'Shrinidhi Military Hotel',\n",
       " 'Pramukh Family Restaurant',\n",
       " 'Vybhava',\n",
       " 'Shree Venkateshwara North Karnataka Hotel',\n",
       " 'Anand Sagar Inn',\n",
       " 'Sangam Military Hotel',\n",
       " 'Pallavi Bar & Restaurant',\n",
       " 'Belly Squad Food Truck',\n",
       " 'Tejas Bar and Restaurant',\n",
       " 'Old Days North Indian Restaurant',\n",
       " '50-50 EATING HOUSE',\n",
       " 'Om Shiva Shakthi Chats Centre',\n",
       " 'Rolls Corner',\n",
       " \"Charisma's Matru Sagar\",\n",
       " 'New Ambur Hot Dum Biryani',\n",
       " 'Sticke2Waffles',\n",
       " 'Nimmoora Thindi',\n",
       " 'Oasis Food Center',\n",
       " 'Godumana Moddha Hotel',\n",
       " 'Ambur Dum Biriyani',\n",
       " 'Food Plaza',\n",
       " 'Deja Vu Resto Bar',\n",
       " 'Fattoush',\n",
       " 'Abhiruchi Hotel',\n",
       " 'Tulips',\n",
       " 'Barbeque Nation',\n",
       " 'Sattvam',\n",
       " '24th Main',\n",
       " 'Zaitoon',\n",
       " 'Mango Greens',\n",
       " 'Oye Amritsar',\n",
       " 'Melt - Eden Park',\n",
       " 'Crave Bit Cafe',\n",
       " 'Spice Code',\n",
       " 'The Onyx - The HHI Select Bengaluru',\n",
       " 'The Pavillion',\n",
       " 'Sankranthi Veg Restaurant',\n",
       " 'Tisano Cafe',\n",
       " 'Cafe Kabana',\n",
       " 'Butterly',\n",
       " 'Cafe Conico',\n",
       " 'Black Mug Cafe',\n",
       " '#refuel',\n",
       " 'WAFL',\n",
       " 'Vaho Kafe & Pressery',\n",
       " 'Dreamcatcher',\n",
       " 'Cafe Arabica',\n",
       " 'Starbucks',\n",
       " 'Smoor',\n",
       " 'Kalmane Koffees',\n",
       " 'Shee-Sha Cafe',\n",
       " 'Brews N Bites',\n",
       " 'D2V Cafe',\n",
       " 'Wellness Cafe',\n",
       " 'Cafe Talk',\n",
       " 'Cafe Choco Craze',\n",
       " 'Healthy Smoothie',\n",
       " 'Me N U',\n",
       " 'Slate Cafe',\n",
       " 'Dialogues',\n",
       " 'Cafe Zuppa',\n",
       " 'Mudpipe Cafe',\n",
       " 'TAB - Take A Break',\n",
       " 'Cafe Potpourri',\n",
       " 'De Oxford Cafe',\n",
       " 'Vinaya Coffee Moments',\n",
       " 'Brew Point',\n",
       " 'The Cravery',\n",
       " \"Anju's Cafe\",\n",
       " 'Furry Fairy Paw Paradise',\n",
       " 'Junkealth',\n",
       " 'Skytouch Le Cafe',\n",
       " 'Hearts Unlock Cafe',\n",
       " 'eat.fit',\n",
       " 'Sai Abhiruchi',\n",
       " 'Capsicum Family Restaurant',\n",
       " 'Box Magic',\n",
       " \"Maa'r Rannaghor\",\n",
       " 'Easy Bites',\n",
       " 'Hiyar Majhe Kolkata',\n",
       " 'Dabba Gosht',\n",
       " 'Punjabites',\n",
       " 'Sri Lakshmi Dhaba',\n",
       " 'Swadista Aahar',\n",
       " 'Vegetarea',\n",
       " 'Al-Bek',\n",
       " \"Aniram's\",\n",
       " 'Punjabi Nawabi',\n",
       " 'YummRajj',\n",
       " 'Swad Punjab Da',\n",
       " 'Roti Wala',\n",
       " 'Midnight Mania',\n",
       " 'Kitchens@JP Nagar',\n",
       " 'Krishna Kuteera',\n",
       " 'Apna Punjab',\n",
       " 'Paratha Junction',\n",
       " 'Nellore Bhojanam',\n",
       " 'Momoz',\n",
       " 'Kalingas',\n",
       " 'Kanteen The Eatery',\n",
       " 'Kullad Cafe',\n",
       " 'Litti Twist',\n",
       " 'Cakebuy',\n",
       " 'Poha House',\n",
       " 'Bathinda Tandoor',\n",
       " 'Delight Food',\n",
       " 'Andhra Kitchen',\n",
       " 'Veg By Nature',\n",
       " 'Chicken Magic',\n",
       " 'Swathi Restaurant',\n",
       " 'Fresh Kitchen',\n",
       " 'Hind Ka Chulah',\n",
       " 'Kuttanad',\n",
       " 'New Mahesh Friends Food Corner',\n",
       " 'Bohra Bohra CafÃ\\x83Â\\x83Ã\\x82Â\\x83Ã\\x83Â\\x82Ã\\x82Â\\x83Ã\\x83Â\\x83Ã\\x82Â\\x82Ã\\x83Â\\x82Ã\\x82Â©',\n",
       " 'Shree Krishna Sannidhi',\n",
       " 'BingeJoy!',\n",
       " 'Shiv Sai Hotel',\n",
       " 'MRA',\n",
       " 'Burj Hotel',\n",
       " 'Shaadi Ki Biryani',\n",
       " 'Madeena Hotel',\n",
       " 'Biryani Durbar',\n",
       " 'Adyar Ananda Bhavan Sweets',\n",
       " 'Mahesh Friends Food Center',\n",
       " 'Juice Shop',\n",
       " \"Dadi's Dum Biryani\",\n",
       " 'Krishna Kuteera South',\n",
       " 'Alankrutha',\n",
       " 'Paradise',\n",
       " 'Kabab Mehal',\n",
       " 'Mughlai Kitchen',\n",
       " 'Sri Punjabi Dhaba',\n",
       " 'Arabian Mexico',\n",
       " 'CakeZone',\n",
       " 'Fujian Express',\n",
       " 'Indian Food',\n",
       " 'Tandoori Paradise',\n",
       " 'Kolkata Kathi Rolls',\n",
       " 'Adithya',\n",
       " 'Cheesiano Pizza',\n",
       " 'Le Arabia',\n",
       " 'Nati Palace',\n",
       " \"Dande's Hyderabad Biryani\",\n",
       " 'Upahara Bhavan',\n",
       " 'Sher-E-Punjab',\n",
       " 'Shuddh Desi Khana',\n",
       " 'Karama Restaurant',\n",
       " 'Jaganath Hotel and Restaurant',\n",
       " \"Mani's Dum Biryani\",\n",
       " 'Amontron',\n",
       " 'A M Biryani Hotel',\n",
       " 'Birinz',\n",
       " 'Hyderabadi Bawarchi',\n",
       " 'Fish Chain',\n",
       " 'Prasiddhi Food Corner',\n",
       " 'Biriyani Bhatti',\n",
       " 'Hyderabad Biryaani House',\n",
       " \"Galito's\",\n",
       " 'C. K. Mega Hot Food',\n",
       " 'Red Chilli Restaurant',\n",
       " 'RSS Donne Biryani',\n",
       " 'Rajdhani Thali Restaurant',\n",
       " 'PHEW (Play Hard Eat Wild)',\n",
       " 'New Kabab Zone',\n",
       " 'Bawarchi Paradise',\n",
       " 'Shree Udupi Grand',\n",
       " 'Chicken County Grand',\n",
       " 'Darjeeling Momos & Fast Food Center',\n",
       " 'Veruthe Oru Thattukada',\n",
       " 'Savoury - Sea Shell Restaurant',\n",
       " 'Warm Oven',\n",
       " 'Kundana',\n",
       " 'Food Ka Masti',\n",
       " 'The Shawarma Shop',\n",
       " 'Momo Junction',\n",
       " 'Antilla Aromas',\n",
       " 'Punjabi Food Corner',\n",
       " 'Mealer.in',\n",
       " 'Pathaan Sir',\n",
       " 'Cold Stone Creamery',\n",
       " 'Amritsari Kulcha Land',\n",
       " 'Chokha Chowka',\n",
       " 'Gorbandh',\n",
       " 'Grills & Rolls',\n",
       " 'Bathinda Junction',\n",
       " 'Stories',\n",
       " \"New Gongura's\",\n",
       " 'Sagar Grand',\n",
       " 'UBQ By Barbeque Nation',\n",
       " 'Agarwal Food Service',\n",
       " \"Daniyal's\",\n",
       " 'Seasons',\n",
       " 'Chef Delicacies',\n",
       " 'Indiana Burgers',\n",
       " 'Moksha',\n",
       " 'Marwa Restaurant',\n",
       " 'Shanghai Court',\n",
       " 'Akshaya Donne Biriyani',\n",
       " 'Bhojohori Manna',\n",
       " 'Richie Rich',\n",
       " 'Hunger Bee',\n",
       " 'Yum In My Tum',\n",
       " 'Maggi N Maggi House',\n",
       " 'Fresh Dinner',\n",
       " 'B.M.W Bhookh Mitaane Wala',\n",
       " 'Biryani Miya',\n",
       " 'Krispy Kreme',\n",
       " 'Paani Kum Chai',\n",
       " 'Chulha Chauki Da Dhaba',\n",
       " 'Hotel Brundavan',\n",
       " \"Magix's Parattha Roll\",\n",
       " 'Elegant Dining',\n",
       " 'AlienSip',\n",
       " 'Waffle Head',\n",
       " 'Samruddhi Biryani',\n",
       " 'Basmati Delights',\n",
       " \"Charlee's Chicken\",\n",
       " 'Samosa Singh',\n",
       " 'Cravings',\n",
       " 'Nagas',\n",
       " 'Thalassery Restaurant',\n",
       " 'Matka',\n",
       " 'Punjabi Swag',\n",
       " 'Taco Bell',\n",
       " 'Ambur Star Dum Biryani',\n",
       " \"Ahmed's Little Hut\",\n",
       " \"Mother's Rasoi\",\n",
       " 'Dosa Bazaar',\n",
       " 'Babu Moshai',\n",
       " 'The Bong Palate',\n",
       " 'Gowdru Mane Oota',\n",
       " \"Chandrima's Kitchen\",\n",
       " 'Bikaner Jn',\n",
       " 'Crunch Pizzas',\n",
       " 'Slurpy Shakes',\n",
       " 'Lassi Berg',\n",
       " 'Kakal-Kai Ruchi',\n",
       " 'Manchu Cafe',\n",
       " 'Calorie Express',\n",
       " 'Thalis Of India',\n",
       " 'BANGALORE BOX',\n",
       " 'Hotel Khaaja',\n",
       " 'The Gujarat Express',\n",
       " 'Vishal Foods',\n",
       " 'Lassi Darbar',\n",
       " 'Chavadi',\n",
       " 'Nanna Munna Paratha House',\n",
       " 'Cucumber Town',\n",
       " 'Artinci Artisanal Ice Cream',\n",
       " 'Kolkata Famous Kati Roll',\n",
       " 'Nellore Ruchulu',\n",
       " 'Brewsky',\n",
       " 'Chefeana',\n",
       " 'Bangaliana',\n",
       " 'Gud Dhani',\n",
       " 'The Hunger Room',\n",
       " 'Parisar Veg Restaurant',\n",
       " 'Deejas Kitchen',\n",
       " 'Pancuzzi',\n",
       " 'Totus',\n",
       " \"Zhang's - Chinese Restaurant\",\n",
       " 'Shagun Sweets & Foods',\n",
       " 'Eat Well',\n",
       " \"Dev's Gugababa\",\n",
       " 'Oogway Express',\n",
       " 'Balaji Bombay Vada Pav Gujrati Dalebi',\n",
       " 'The Cake Ville',\n",
       " 'The Egg Factory',\n",
       " 'Chow San',\n",
       " 'New Udupi Grand',\n",
       " 'New Karawali Lunch Home',\n",
       " 'SR Choco Station',\n",
       " 'Bangalore Pantry',\n",
       " 'Momo Jojo',\n",
       " 'Pizza Palace',\n",
       " 'Simply Indian',\n",
       " 'Delhi Biryani Cafe',\n",
       " \"Rithika's Kitchen\",\n",
       " 'Punjabi Times',\n",
       " 'Tarbouche',\n",
       " 'Omleterian',\n",
       " 'Cravy Wings',\n",
       " 'Funky Punjab',\n",
       " 'A1 Garam Masala',\n",
       " 'Punjabi Corner',\n",
       " 'Guru Palace',\n",
       " 'Zeeshan',\n",
       " 'Ambara Gardenia',\n",
       " 'LayerBite',\n",
       " 'Bhavani Chats',\n",
       " 'Tandoor Chai House',\n",
       " 'More Pizza',\n",
       " 'Appana Restaurant',\n",
       " 'Crafted Plate',\n",
       " \"Shetty's Kitchen\",\n",
       " 'Machali Port',\n",
       " 'Naati Manae',\n",
       " 'Bottle Genie',\n",
       " 'Mad Over Biryani',\n",
       " 'Garma Garam',\n",
       " 'Sambram Biriyani Paradise',\n",
       " 'Mr. Meetharam',\n",
       " 'The Coastal Crew by Fujian on 24th',\n",
       " 'BIB - Breakfast in the Box',\n",
       " 'Angel Restaurant',\n",
       " 'Wow Momo',\n",
       " 'Pizza Da Dhaba',\n",
       " 'Kalpavruksha',\n",
       " 'Innerchef',\n",
       " 'Juice Land',\n",
       " 'Bombay Sandwich Company',\n",
       " 'Tandoor And Spice',\n",
       " 'Kitchen24',\n",
       " 'Rock Stone Ice Cream Factory',\n",
       " 'Paratha Plaza',\n",
       " 'Krishna Vijayashree',\n",
       " 'Soup Station',\n",
       " 'Tasty Point',\n",
       " 'Natural Mumbai Kulfi',\n",
       " 'Namma Kudla',\n",
       " 'Triveni',\n",
       " 'Wangs Kitchen',\n",
       " 'RK Fresh Food',\n",
       " 'Alif Restaurant',\n",
       " 'Dine One One Restaurant',\n",
       " 'Pallavas Veg Cuisine',\n",
       " 'The Food Cottage',\n",
       " 'Healthie',\n",
       " 'Brundhavana Pure Veg',\n",
       " 'Spice Up',\n",
       " 'North Chinese Centre',\n",
       " 'Suryawanshi',\n",
       " 'M-Aura Kitchen Cafe & More',\n",
       " 'Perch',\n",
       " 'Tempteys',\n",
       " 'World In A Bowl',\n",
       " 'DeliBox.in',\n",
       " 'FRYBIES',\n",
       " 'Crumb Together',\n",
       " 'The Foodyz',\n",
       " \"Bean D'er Cafe\",\n",
       " 'Chaat Chatore',\n",
       " 'Taste Of Kolkata',\n",
       " 'Y Not Restaurant',\n",
       " '24/7 Food Service',\n",
       " 'Kanti Bakes & Flakes',\n",
       " 'China Town 07',\n",
       " 'Modern Restaurant',\n",
       " 'Burrito Boys',\n",
       " 'The little Kitchen',\n",
       " 'Trippy Paradise',\n",
       " 'City Cafe',\n",
       " 'Biryani Magic',\n",
       " 'YumYumDilli',\n",
       " 'Nagarjuna',\n",
       " 'Laddoos',\n",
       " 'Smoke Oil Salt',\n",
       " 'Momo King',\n",
       " 'Waffle Stories',\n",
       " 'Late Night',\n",
       " 'Waffle Walle',\n",
       " 'Shake It Off',\n",
       " 'Bombay Kulfi',\n",
       " 'Chaat Central',\n",
       " 'Two Friends Cauldron',\n",
       " 'Bun Town',\n",
       " 'INDULGE by InnerChef',\n",
       " 'Garden Fresh',\n",
       " 'Dhabeliwala',\n",
       " \"Rayaan's BBQ\",\n",
       " 'Chaat Junction',\n",
       " 'Asharfilal',\n",
       " 'Street Foods by Punjab Grill',\n",
       " \"Tiwari's Ghee Paratha and Chats\",\n",
       " 'Spurthi Foods',\n",
       " 'Melting Pot at Woodrose',\n",
       " 'Pot Biryani',\n",
       " \"Thanco's Natural Ice Cream\",\n",
       " 'Mango Tree- The Beer Garden',\n",
       " 'Dessi Cuppa',\n",
       " 'Halli Mane MUDDE OOTA',\n",
       " \"Lyengar's Cakes N Cookies\",\n",
       " 'Eat & Joy Restaurant',\n",
       " 'YumYumSouth',\n",
       " 'Wow Vada Pav',\n",
       " 'Foreign CafÃ\\x83Â\\x83Ã\\x82Â\\x83Ã\\x83Â\\x82Ã\\x82Â\\x83Ã\\x83Â\\x83Ã\\x82Â\\x82Ã\\x83Â\\x82Ã\\x82Â©',\n",
       " 'The Jade Kitchen',\n",
       " 'Krishna Vaibhava',\n",
       " 'Nandhanus Rasoi',\n",
       " 'Donne Biriyani Mane',\n",
       " 'Fish And Dish',\n",
       " 'Miss Momo',\n",
       " 'Intalia',\n",
       " 'Chicken County Restaurant',\n",
       " 'Velvet Kitchen',\n",
       " 'Hotel Aradhana',\n",
       " 'The Chervil',\n",
       " 'Eatsomnia',\n",
       " 'Sri Rajasthani Foods',\n",
       " 'New Royal Treat',\n",
       " 'I Cool',\n",
       " 'The Kitchen',\n",
       " 'Mahek Pizza',\n",
       " 'KC Das- Sweet World',\n",
       " 'Panther Cafe',\n",
       " 'Lassi Ghar',\n",
       " 'Authentic Aandhra',\n",
       " 'Roots n Fruits',\n",
       " 'Indian Desi Momo',\n",
       " 'Kaizen Wellness Kitchen',\n",
       " 'Mad Over Donuts',\n",
       " 'Kolkata Famous Kati Rolls',\n",
       " 'Vinaya Cafe',\n",
       " 'RBP Greens Garden',\n",
       " 'Supreme Biryani',\n",
       " 'Dazu Momoz',\n",
       " 'Desi Dhaba',\n",
       " 'World of Waffles',\n",
       " \"Pika's Kitchen\",\n",
       " 'Dilli ??',\n",
       " 'Lassi Cafe',\n",
       " 'The London Shakes',\n",
       " 'New Mogul Empire',\n",
       " 'Atithi Biryani Corner',\n",
       " 'Oottupura Family Restaurant',\n",
       " 'Yumme Veg',\n",
       " 'Shree Guru Raghavendra Chats Chintamani Special',\n",
       " 'Vyanjan',\n",
       " 'Sri Sankara Cafe',\n",
       " 'Bhaijaan Barbeques',\n",
       " 'Namana Garden',\n",
       " 'Chatter Platter',\n",
       " 'Momo Time',\n",
       " 'Bikaneri Sweets',\n",
       " \"Watson's\",\n",
       " 'Sri Nandi Grand',\n",
       " 'Chicken Man',\n",
       " 'Only Sharjah',\n",
       " \"Chef Baker's\",\n",
       " 'Sree Ganesha Fruits & Juice',\n",
       " 'Nandhana Palace',\n",
       " 'Happy Eats',\n",
       " 'Biryani Nights',\n",
       " 'Thejas Bhavan',\n",
       " 'Kababish Restaurant',\n",
       " 'Graffitea',\n",
       " 'Gappe',\n",
       " ...]"
      ]
     },
     "execution_count": 10,
     "metadata": {},
     "output_type": "execute_result"
    }
   ],
   "source": [
    "list(zomato.Restaurant.unique())"
   ]
  },
  {
   "cell_type": "markdown",
   "id": "492cbc5d",
   "metadata": {},
   "source": [
    "As we can see column \"Restuarnt\" contains a garbage value \"CafÃ\\x83Â\\x83Ã\\x82Â\\x83Ã\\x83Â\\x82Ã\\x82Â\\x83Ã\\x83Â\\x83Ã\\x82Â\\x82Ã\\x83Â\\x82Ã\\x82Â©\", so we need to remove it"
   ]
  },
  {
   "cell_type": "code",
   "execution_count": 11,
   "id": "4a286819",
   "metadata": {},
   "outputs": [
    {
     "data": {
      "text/plain": [
       "['Jalsa',\n",
       " 'Spice Elephant',\n",
       " 'San Churro Cafe',\n",
       " 'Addhuri Udupi Bhojana',\n",
       " 'Grand Village',\n",
       " 'Timepass Dinner',\n",
       " 'Rosewood International Hotel - Bar & Restaurant',\n",
       " 'Onesta',\n",
       " 'Penthouse Cafe',\n",
       " 'Smacznego',\n",
       " ' Down The Alley',\n",
       " 'Cafe Shuffle',\n",
       " 'The Coffee Shack',\n",
       " 'Caf-Eleven',\n",
       " 'Cafe Vivacity',\n",
       " 'Catch-up-ino',\n",
       " \"Kirthi's Biryani\",\n",
       " 'T3H Cafe',\n",
       " '360 Atoms Restaurant And Cafe',\n",
       " 'The Vintage Cafe',\n",
       " 'Woodee Pizza',\n",
       " 'Cafe Coffee Day',\n",
       " 'My Tea House',\n",
       " 'Hide Out Cafe',\n",
       " 'CAFE NOVA',\n",
       " 'Coffee Tindi',\n",
       " 'Sea Green Cafe',\n",
       " 'Cuppa',\n",
       " \"Srinathji's Cafe\",\n",
       " 'Redberrys',\n",
       " 'Foodiction',\n",
       " 'Sweet Truth',\n",
       " 'Ovenstory Pizza',\n",
       " 'Faasos',\n",
       " 'Behrouz Biryani',\n",
       " 'Fast And Fresh',\n",
       " 'Szechuan Dragon',\n",
       " 'Empire Restaurant',\n",
       " 'Maruthi Davangere Benne Dosa',\n",
       " 'Chaatimes',\n",
       " 'Havyaka Mess',\n",
       " \"McDonald's\",\n",
       " \"Domino's Pizza\",\n",
       " 'Hotboxit',\n",
       " 'Kitchen Garden',\n",
       " 'Recipe',\n",
       " 'Beijing Bites',\n",
       " 'Tasty Bytes',\n",
       " 'Petoo',\n",
       " 'Shree Cool Point',\n",
       " 'Corner House Ice Cream',\n",
       " 'Biryanis And More',\n",
       " 'Roving Feast',\n",
       " 'FreshMenu',\n",
       " 'Banashankari Donne Biriyani',\n",
       " 'Wamama',\n",
       " 'Five Star Chicken',\n",
       " 'XO Belgian Waffle',\n",
       " 'Peppy Peppers',\n",
       " 'Goa 0 Km',\n",
       " 'Chinese Kitchen',\n",
       " '1947',\n",
       " 'Cake of the Day',\n",
       " 'Kabab Magic',\n",
       " \"Namma Brahmin's Idli\",\n",
       " 'Gustoes Beer House',\n",
       " 'Sugar Rush',\n",
       " 'Burger King',\n",
       " 'The Good Bowl',\n",
       " 'The Biryani Cafe',\n",
       " 'Spicy Tandoor',\n",
       " 'LSD Cafe',\n",
       " 'Rolls On Wheels',\n",
       " 'Om Sri Vinayaka Chats',\n",
       " 'Sri Guru Kottureshwara Davangere Benne Dosa',\n",
       " 'Devanna Dum Biriyani Centre',\n",
       " 'Kolbeh',\n",
       " 'Upahar Sagar',\n",
       " 'Kadalu Sea Food Restaurant',\n",
       " 'Frozen Bottle',\n",
       " 'Parimala Sweets',\n",
       " 'Vaishali Deluxe',\n",
       " 'Chill Out',\n",
       " 'The Big O Bakes',\n",
       " 'Meghana Foods',\n",
       " 'Krishna Sagar',\n",
       " 'Dessert Rose',\n",
       " 'Chickpet Donne Biryani House',\n",
       " 'Me And My Cake',\n",
       " 'Sunsadm',\n",
       " 'Annapooraneshwari Mess',\n",
       " \"Thanco's Natural Ice Creams\",\n",
       " 'Nandhini Deluxe',\n",
       " \"Vi Ra's Bar and Restaurant\",\n",
       " 'Kaggis',\n",
       " 'Ayda Persian Kitchen',\n",
       " 'Chatar Patar',\n",
       " 'Polar Bear',\n",
       " \"Kidambi's Kitchen\",\n",
       " 'Mane Thindi',\n",
       " 'Kotian Karavali Restaurant',\n",
       " 'Floured-Baked With Love',\n",
       " 'Cakes & Slices',\n",
       " 'Spice 9',\n",
       " 'Coffee Shopee',\n",
       " 'Naveen Kabab & Biriyani Mane',\n",
       " 'Katriguppe Donne Biryani',\n",
       " 'Hari Super Sandwich',\n",
       " 'Atithi Point Ande Ka Funda',\n",
       " 'Just Bake',\n",
       " 'Dharwad Line Bazaar Mishra Pedha',\n",
       " 'Cake Bite',\n",
       " \"Aarush's Food Plaza\",\n",
       " 'Wood Stove',\n",
       " 'Kulfi & More',\n",
       " 'Kannadigas Karavali',\n",
       " 'K27 - The Pub',\n",
       " 'Bengaluru Coffee House',\n",
       " 'New Mangalore Lunch Home',\n",
       " 'Coffee Bytes',\n",
       " 'Parjanya Chat Zone',\n",
       " \"Kwality Wall's Swirl's Happiness Station\",\n",
       " 'Soms Kitchen & Bakes',\n",
       " 'Banashankari Nati Style',\n",
       " 'Ruchi Maayaka',\n",
       " 'Mohitesh Hut Roll',\n",
       " 'Sri Basaveshwar Jolada Rotti Oota',\n",
       " 'Roll Magic Fast Food',\n",
       " 'Foodlieious Multi Cuisine',\n",
       " 'Thanishka Nati And Karavali Style',\n",
       " 'Swathi Cool Point',\n",
       " 'Kaumudis Juoice',\n",
       " 'Amma - Manae',\n",
       " 'Sri Sai Tiffannies',\n",
       " 'Hotel Andhra Speices',\n",
       " 'Sri Murari Family Restaurant',\n",
       " 'Aramane Donne Biriyani',\n",
       " 'Darkolates',\n",
       " 'Swaada Healthy Kitchen',\n",
       " 'Gawdaru Mane Beriyani',\n",
       " 'Melting Melodies',\n",
       " 'New Indraprasta',\n",
       " 'Anna Kuteera',\n",
       " 'Darbar',\n",
       " 'Vijayalakshmi',\n",
       " 'Sri Udupi Food Hub',\n",
       " 'Udupi Upahar',\n",
       " 'House Of Kebabs',\n",
       " 'Roll N Rock',\n",
       " 'BOX8- Desi Meals',\n",
       " 'KFC',\n",
       " 'Bitez',\n",
       " 'Roll Over',\n",
       " 'Imperial Restaurant',\n",
       " 'Lassi Shop',\n",
       " 'The Fortuna',\n",
       " 'Wahab',\n",
       " 'Al Diwan Biryanis And More',\n",
       " \"New Gowda's Fried Chicken\",\n",
       " 'Canton',\n",
       " 'Diabetics Dezire Sugarless Sweets and Bakes',\n",
       " 'The Blue Wagon - Kitchen',\n",
       " 'HOT COFFEE',\n",
       " 'Patio 805',\n",
       " 'Lassi Corner',\n",
       " 'Sagar Deluxe',\n",
       " 'Kanti Sweets',\n",
       " 'Vegetalia',\n",
       " 'Aramane Donne Biryani',\n",
       " 'Ande Ka Funda',\n",
       " 'Cake Ghar',\n",
       " 'Energy Addaa',\n",
       " 'Bhattara Bhojana',\n",
       " 'Tandoori Knight',\n",
       " 'Dev Sagar - Food Street',\n",
       " 'Mitraa Da Pizza',\n",
       " 'Paradise Premium',\n",
       " 'Grazers',\n",
       " 'Shakes Theory',\n",
       " '@Italy',\n",
       " 'Chilli Flakes',\n",
       " 'Calcutta Cafe',\n",
       " 'Old Mumbai Ice Cream',\n",
       " 'Donne Biriyani House',\n",
       " 'By 2 Coffee',\n",
       " \"Kedia's Fun Food\",\n",
       " 'Davangere Butter Dosa Hotel',\n",
       " 'Just Shawarma',\n",
       " 'Mini Punjabi Dhaba',\n",
       " 'Mulabagilu Dosa',\n",
       " 'Gokul Veg',\n",
       " 'Olive - Era',\n",
       " 'Udupi Ruchi',\n",
       " 'Madhappa Hindu Military Hotel',\n",
       " 'Gama Gama',\n",
       " 'Pizza Hut',\n",
       " 'Mangalore Pearl',\n",
       " 'Asha Sweets Centre',\n",
       " 'Twiststick House',\n",
       " 'Cool Corner',\n",
       " 'Pizza Mane',\n",
       " 'Dal Tadkaa',\n",
       " 'Chutney Chang',\n",
       " 'Mystique Palate',\n",
       " 'Thamboola',\n",
       " 'Castle Rock',\n",
       " 'Vietnamese Kitchen',\n",
       " 'C Corner',\n",
       " 'Paratha Merchant',\n",
       " 'North Rasoe',\n",
       " 'Inchara Restaurant',\n",
       " 'Toscano',\n",
       " 'Lord Of The Kitchen',\n",
       " 'Stoned Monkey',\n",
       " 'Central Jail Restaurant',\n",
       " 'Bella',\n",
       " 'Vennela Andhra Meals',\n",
       " 'New Prashanth Hotel',\n",
       " 'The Grillo',\n",
       " 'Re Malnad Nati Style Hotel',\n",
       " 'Karma Kaapi',\n",
       " \"Tiwari's\",\n",
       " 'Pizza Stop',\n",
       " \"Biggies Burger 'n' More\",\n",
       " \"Kollapuri's\",\n",
       " 'Sugar Stars Co',\n",
       " 'Bombay Kulfis',\n",
       " 'Kadamba Classic',\n",
       " 'RS Shiv Sagar',\n",
       " 'Kholi Mane',\n",
       " 'Harshi Super Sandwich',\n",
       " 'Cake Yard',\n",
       " 'Sri Udupi Veg',\n",
       " 'Cake Art',\n",
       " 'Aahar Cafe',\n",
       " 'Akash Gowdru Biryani Center',\n",
       " 'New Sri Udupi Restaurant',\n",
       " 'Potato House',\n",
       " 'Hotel Biriyani Counter',\n",
       " 'Matru Sagar',\n",
       " 'Ugadi',\n",
       " 'Sri Krishna Sweets',\n",
       " 'In Time Cane Juice',\n",
       " 'Subway',\n",
       " 'Daal Roti',\n",
       " 'The Lassi Park',\n",
       " 'A2B - Adyar Ananda Bhavan',\n",
       " 'Srikrishna Bhavan',\n",
       " 'Green Gardenia',\n",
       " 'J Spice',\n",
       " 'Karavali Family Restaurant',\n",
       " 'Karavali Lunch Home',\n",
       " 'Hatti Kaapi',\n",
       " \"Kolkata Kathi Roll's\",\n",
       " 'Upahara Darshini',\n",
       " 'The Chaat Shop',\n",
       " 'Anda Ka Funda',\n",
       " 'Shri Vinayaka Ice N Juice',\n",
       " 'Ibaco',\n",
       " 'Jalaram Sweets',\n",
       " 'Samskruti - Sanman Gardenia',\n",
       " 'Bendakaluru Bytes',\n",
       " 'Cocoa Bakes',\n",
       " 'Chumma Delicious',\n",
       " 'SSV Upahar',\n",
       " 'Dwaraka Grand',\n",
       " 'Gufha - The President Hotel',\n",
       " \"Tanna's Kitchen\",\n",
       " 'Shree Mandarathi Grand',\n",
       " 'Mojo Pizza - 2X Toppings',\n",
       " 'Iceberg Icecreams',\n",
       " 'South Kitchen',\n",
       " 'Chung Wah',\n",
       " 'Shanthi Sagar',\n",
       " 'Millet Mama',\n",
       " 'Bangarpet Chat Express',\n",
       " 'South Cool Point',\n",
       " 'Prems Graama Bhojanam',\n",
       " 'Java City',\n",
       " 'Kamat Bugle Rock',\n",
       " 'Puliyogare Point',\n",
       " 'Bangalore Agarwal Bhavan',\n",
       " 'Rustic Stove',\n",
       " 'Udupi Ruchi Grand',\n",
       " 'De Thaali',\n",
       " 'Just Thindi',\n",
       " 'Vasanth Vihar - Since 1965',\n",
       " 'Sea Spice by 7 Star',\n",
       " 'Desi Dawat',\n",
       " 'Cafe Aira',\n",
       " 'Donne Biriyani combos',\n",
       " 'Mast Punjabi',\n",
       " 'South Grand',\n",
       " 'The Pizzeria',\n",
       " 'Cafe Zone',\n",
       " 'Ruchis Point',\n",
       " 'Firangi Bake',\n",
       " 'The Royal Corner - Pai Viceroy',\n",
       " 'Hara Fine Dine',\n",
       " 'Chocoberry',\n",
       " 'Dakshin Grand',\n",
       " 'Sandwichwallas',\n",
       " 'Chai Mane',\n",
       " 'SLV Upachar',\n",
       " 'Waffle-A-Go Go',\n",
       " 'Cross Road Cafe',\n",
       " 'Anand Donne Biriyani',\n",
       " 'Seven Star',\n",
       " \"Stop 'N' Joy\",\n",
       " 'Sri Yaksha Shiv Sagar',\n",
       " 'Fudge',\n",
       " 'Just Bunny',\n",
       " 'Bakers Town',\n",
       " 'Shree Mahalakshmi Sweets',\n",
       " 'Kaapi Kendra',\n",
       " 'Ivy',\n",
       " 'The Airos',\n",
       " 'Chai Kraft',\n",
       " 'South Point Pub',\n",
       " 'The Trundle',\n",
       " 'The Krishna Grand Xpress',\n",
       " 'Sri Krishna Darshini',\n",
       " 'Shringar Sweets & Snacks',\n",
       " 'Udupi Grand',\n",
       " 'Ganesh Grand',\n",
       " 'Shreyas Upahar & Burger Point',\n",
       " 'Little Cafe',\n",
       " 'Mumbai Badam Milk & Lassi Center',\n",
       " 'Sri Krishna Sagar',\n",
       " 'Mylari Biryani Family Restaurant',\n",
       " '1980s Games Cafe',\n",
       " 'Kadala Tarangaa',\n",
       " 'Namma Biryani',\n",
       " \"Nandhanu's Rasoi\",\n",
       " 'Hotel Pork Paradise',\n",
       " 'As On Fire',\n",
       " 'J K Fish Land',\n",
       " 'Curry Leaves',\n",
       " 'Magic Meals',\n",
       " 'Desi Cream Junction',\n",
       " 'Drunken Monkey',\n",
       " \"Ruchi's Corner\",\n",
       " 'Tandoori Bytes',\n",
       " 'Bangalore Donne Biriyani',\n",
       " 'SGS Non Veg - Gundu Pulav',\n",
       " 'Keventers',\n",
       " 'Sree Sagar',\n",
       " 'Navi Food Point',\n",
       " 'Shawarma Inc',\n",
       " 'The Cafe Nuts and Bolts',\n",
       " 'AM WOW',\n",
       " 'Lalbagh Grand',\n",
       " 'Funjabi Curries',\n",
       " 'Eat Repeat',\n",
       " 'Salut',\n",
       " 'Nammura Donne Biriyani',\n",
       " 'Lassi Stop',\n",
       " 'Dakshin Kitchen',\n",
       " 'Sri Sai Cafe',\n",
       " 'Sri Sai 99 Variety Dosa',\n",
       " 'Utsav Restaurant',\n",
       " 'Crunch and Munch',\n",
       " 'Food Geek',\n",
       " 'Sri Krishna Aramane',\n",
       " 'Great Indian Rolls',\n",
       " 'Chats Point',\n",
       " 'Food Point',\n",
       " 'Swarga Ruchi',\n",
       " 'Kolkata King',\n",
       " \"Sandwich Mama's And Frozen Monster\",\n",
       " 'New Rajadhani Spicy',\n",
       " 'Big Mishra Pedha',\n",
       " 'VEGeatz',\n",
       " 'Foodizo',\n",
       " 'Food Springs',\n",
       " \"Chung's Chinese Corner\",\n",
       " 'Eurasia Pasta and Barbeque by Little Italy',\n",
       " 'Goli Vada Pav No. 1',\n",
       " \"Ragoo's\",\n",
       " 'Pure & Natural',\n",
       " 'Maiyas',\n",
       " 'Sip n Dine',\n",
       " 'Cafe Mondo',\n",
       " 'Jalpaan',\n",
       " \"Kataria's Pakwan\",\n",
       " 'Juicy Momos',\n",
       " 'Amande Patisserie',\n",
       " 'Anand Sweets and Savouries',\n",
       " 'Chicken Hunt',\n",
       " 'Swadesh Tadka',\n",
       " 'Cane-O-La',\n",
       " 'New Biryani Mane',\n",
       " 'Karnataka Bhel House',\n",
       " 'Sreeraj Lassi Bar',\n",
       " 'Juice Junction Food Court',\n",
       " \"Bunt's Biriyani Palace\",\n",
       " 'Chai Point',\n",
       " 'Janahaar',\n",
       " 'Utsav',\n",
       " 'Meat And Eat',\n",
       " 'Snacks Bite',\n",
       " 'The Spice Saga',\n",
       " 'Dakshin Cafe',\n",
       " 'Mr. Parathewala',\n",
       " 'Kaulige Millet Corner',\n",
       " 'Ifruit Ice Cream',\n",
       " 'Havmor',\n",
       " 'Grand Food',\n",
       " 'Dining Hut',\n",
       " '7 Hills Garden Restaurant',\n",
       " 'Desi Swaad',\n",
       " 'Yummy Momos',\n",
       " 'Masale Daan',\n",
       " 'Sri Manjunatha Tandoori Corner',\n",
       " 'Grow Fit',\n",
       " 'The House Of Vadapav',\n",
       " 'Cutcakes',\n",
       " 'Lassi Spot',\n",
       " 'Sandwich Hub',\n",
       " \"Healthy Bakes 'n' Brew\",\n",
       " 'Udupi Sri Krishna Cafe',\n",
       " 'Starlite Bakery & Fastfood',\n",
       " 'Veganbreak24x7',\n",
       " 'Aadhya Hotel',\n",
       " 'Dodda Mane Baaduta',\n",
       " 'Swadd Kitchen',\n",
       " 'Nandini Milk Parlour and Restaurant',\n",
       " 'Happy Chopsticks',\n",
       " 'Sai Super Sandwich',\n",
       " 'Right Pizza',\n",
       " 'Udupi Upachar',\n",
       " 'Davanagere Benne Dose Hut',\n",
       " 'The Sip Shop',\n",
       " 'Subz',\n",
       " 'Rajastani Rasoi',\n",
       " 'Sri Banashankari Upahara',\n",
       " 'Mint and Mustard',\n",
       " 'Chinese Square',\n",
       " 'Hyderabad Express',\n",
       " 'Punjabi Raswada',\n",
       " \"Vinny's\",\n",
       " \"Chetty's Corner\",\n",
       " \"Kapoor's Cafe\",\n",
       " 'Donne Biryani & Kabab Corner',\n",
       " 'Sukh Sagar',\n",
       " 'S M V Snacks Corner',\n",
       " 'Andhra Ruchulu',\n",
       " 'The Samosa Co',\n",
       " 'Steaming Mugs',\n",
       " 'Rajathadri Food Fort',\n",
       " 'Brew Meister',\n",
       " 'Rasoi',\n",
       " 'Mr. Singh Da Dhaba',\n",
       " 'Kababs N Biryani',\n",
       " 'Ayodhya Upachar',\n",
       " 'Biriyani Mane',\n",
       " 'Cafe Ajfan',\n",
       " 'Brundhavana Food Point',\n",
       " 'SLV Corner Restaurant',\n",
       " 'Biryani Royals Garden',\n",
       " 'Hotel New Karavali',\n",
       " 'The Krishna Grand',\n",
       " 'Roti Ghar',\n",
       " 'Multi Snacky Hub',\n",
       " 'Kettle & Kegs',\n",
       " 'Baisakhi',\n",
       " 'Poonam Sweets',\n",
       " \"Amma's Pastries\",\n",
       " 'The Lassi and Juice Park',\n",
       " 'Corner Stone',\n",
       " 'Arun Ice Cream',\n",
       " 'Sweet N Swirl',\n",
       " 'Mukesh Sweet Centre',\n",
       " 'Gopi Ice Creams',\n",
       " 'Sri Venkateshwara Sweet Meat Stall',\n",
       " 'Baskin Robbins',\n",
       " 'Srinivasa Brahmins Bakery',\n",
       " 'Jain Bakes',\n",
       " 'KC Das - Sweet Spot',\n",
       " 'A2B Veg - Adyar Ananda Bhavan',\n",
       " 'Cakecraft',\n",
       " 'Jcubez',\n",
       " 'Ferment',\n",
       " 'Blue Wings Bar & Restaurant',\n",
       " 'New Imperial Restaurant',\n",
       " '7 Hills Restaurant',\n",
       " 'Karavali Fish Center',\n",
       " \"Iyer's Tiffin Centre\",\n",
       " 'Kydz Adda',\n",
       " 'Food Box Cafe',\n",
       " 'Linnet Bar & Restaurant',\n",
       " 'Sri Ganesh Juice and Chats',\n",
       " 'Manifest Cafe',\n",
       " 'SLN Bar and Restaurant',\n",
       " 'Parijatha Paradise',\n",
       " 'Taaza Thindi',\n",
       " 'Kaapi Corner',\n",
       " 'Sri Laxmi Venkateshwara Coffee Bar',\n",
       " 'Messy Bowl',\n",
       " 'Brahmin Cafe',\n",
       " 'Hotel Mangala',\n",
       " 'Simple Thindies',\n",
       " 'SLV Swadishta',\n",
       " 'New Sagar Fast Food',\n",
       " 'Parama Ruchi',\n",
       " 'Thrilok Restaurant',\n",
       " 'Shri Guru Raghavendra Grand Veg',\n",
       " 'Hanumanthanagar Biryani Junction',\n",
       " 'SLV Refreshment',\n",
       " 'SVKP Daily Fresh',\n",
       " 'Srinagar Kabab Corner',\n",
       " 'Sri Venkateshwara Chat Centre',\n",
       " 'Vinay Bhel Corner',\n",
       " 'Roti Land',\n",
       " 'Nandi Chats and Juice',\n",
       " 'Yaarub Hotel',\n",
       " 'Rotti Mane',\n",
       " 'The Coorg Kitchen',\n",
       " 'FOOD ADDA',\n",
       " 'Hotel Nisarga',\n",
       " 'Yo Roll Corner',\n",
       " 'New Quality Dum Biryani',\n",
       " 'Sri Lakshmi Kabab Center',\n",
       " 'Cueferia A-Cafe',\n",
       " 'Dtink Lab',\n",
       " 'Shree Udupi South kitchen',\n",
       " 'Tasty Bites',\n",
       " 'Raams Chicken',\n",
       " 'Panchami',\n",
       " 'Bangalore Kabab Palace',\n",
       " 'Quality Dum Biriyani',\n",
       " 'Taja Coffee',\n",
       " 'New Prakash Hotel',\n",
       " 'Kings Court Daba',\n",
       " 'MM Tiffen Center',\n",
       " 'Sri Raghavendra Prasanna Coffee Beans Club',\n",
       " 'Sri Balaji Tiffin Centre',\n",
       " 'Kavali',\n",
       " 'Ranganna Military Hotel',\n",
       " 'Vidyarthi Bhavan',\n",
       " 'Bharjari Oota',\n",
       " 'Bridgeway',\n",
       " 'Soho Bar & Grill',\n",
       " 'Bhavani Restaurant',\n",
       " 'Zephyr',\n",
       " 'Hotel Dwarka',\n",
       " 'Nisarga Garden Restaurant',\n",
       " 'Ma-Arya Family Restaurant',\n",
       " 'Udupi Sri Krishna Bhavan',\n",
       " 'Ice Thunder',\n",
       " 'Mahalaxmi Tiffin Room',\n",
       " 'Basavanagudi Mylari',\n",
       " 'Shrinidhi Military Hotel',\n",
       " 'Pramukh Family Restaurant',\n",
       " 'Vybhava',\n",
       " 'Shree Venkateshwara North Karnataka Hotel',\n",
       " 'Anand Sagar Inn',\n",
       " 'Sangam Military Hotel',\n",
       " 'Pallavi Bar & Restaurant',\n",
       " 'Belly Squad Food Truck',\n",
       " 'Tejas Bar and Restaurant',\n",
       " 'Old Days North Indian Restaurant',\n",
       " '50-50 EATING HOUSE',\n",
       " 'Om Shiva Shakthi Chats Centre',\n",
       " 'Rolls Corner',\n",
       " \"Charisma's Matru Sagar\",\n",
       " 'New Ambur Hot Dum Biryani',\n",
       " 'Sticke2Waffles',\n",
       " 'Nimmoora Thindi',\n",
       " 'Oasis Food Center',\n",
       " 'Godumana Moddha Hotel',\n",
       " 'Ambur Dum Biriyani',\n",
       " 'Food Plaza',\n",
       " 'Deja Vu Resto Bar',\n",
       " 'Fattoush',\n",
       " 'Abhiruchi Hotel',\n",
       " 'Tulips',\n",
       " 'Barbeque Nation',\n",
       " 'Sattvam',\n",
       " '24th Main',\n",
       " 'Zaitoon',\n",
       " 'Mango Greens',\n",
       " 'Oye Amritsar',\n",
       " 'Melt - Eden Park',\n",
       " 'Crave Bit Cafe',\n",
       " 'Spice Code',\n",
       " 'The Onyx - The HHI Select Bengaluru',\n",
       " 'The Pavillion',\n",
       " 'Sankranthi Veg Restaurant',\n",
       " 'Tisano Cafe',\n",
       " 'Cafe Kabana',\n",
       " 'Butterly',\n",
       " 'Cafe Conico',\n",
       " 'Black Mug Cafe',\n",
       " '#refuel',\n",
       " 'WAFL',\n",
       " 'Vaho Kafe & Pressery',\n",
       " 'Dreamcatcher',\n",
       " 'Cafe Arabica',\n",
       " 'Starbucks',\n",
       " 'Smoor',\n",
       " 'Kalmane Koffees',\n",
       " 'Shee-Sha Cafe',\n",
       " 'Brews N Bites',\n",
       " 'D2V Cafe',\n",
       " 'Wellness Cafe',\n",
       " 'Cafe Talk',\n",
       " 'Cafe Choco Craze',\n",
       " 'Healthy Smoothie',\n",
       " 'Me N U',\n",
       " 'Slate Cafe',\n",
       " 'Dialogues',\n",
       " 'Cafe Zuppa',\n",
       " 'Mudpipe Cafe',\n",
       " 'TAB - Take A Break',\n",
       " 'Cafe Potpourri',\n",
       " 'De Oxford Cafe',\n",
       " 'Vinaya Coffee Moments',\n",
       " 'Brew Point',\n",
       " 'The Cravery',\n",
       " \"Anju's Cafe\",\n",
       " 'Furry Fairy Paw Paradise',\n",
       " 'Junkealth',\n",
       " 'Skytouch Le Cafe',\n",
       " 'Hearts Unlock Cafe',\n",
       " 'eat.fit',\n",
       " 'Sai Abhiruchi',\n",
       " 'Capsicum Family Restaurant',\n",
       " 'Box Magic',\n",
       " \"Maa'r Rannaghor\",\n",
       " 'Easy Bites',\n",
       " 'Hiyar Majhe Kolkata',\n",
       " 'Dabba Gosht',\n",
       " 'Punjabites',\n",
       " 'Sri Lakshmi Dhaba',\n",
       " 'Swadista Aahar',\n",
       " 'Vegetarea',\n",
       " 'Al-Bek',\n",
       " \"Aniram's\",\n",
       " 'Punjabi Nawabi',\n",
       " 'YummRajj',\n",
       " 'Swad Punjab Da',\n",
       " 'Roti Wala',\n",
       " 'Midnight Mania',\n",
       " 'Kitchens@JP Nagar',\n",
       " 'Krishna Kuteera',\n",
       " 'Apna Punjab',\n",
       " 'Paratha Junction',\n",
       " 'Nellore Bhojanam',\n",
       " 'Momoz',\n",
       " 'Kalingas',\n",
       " 'Kanteen The Eatery',\n",
       " 'Kullad Cafe',\n",
       " 'Litti Twist',\n",
       " 'Cakebuy',\n",
       " 'Poha House',\n",
       " 'Bathinda Tandoor',\n",
       " 'Delight Food',\n",
       " 'Andhra Kitchen',\n",
       " 'Veg By Nature',\n",
       " 'Chicken Magic',\n",
       " 'Swathi Restaurant',\n",
       " 'Fresh Kitchen',\n",
       " 'Hind Ka Chulah',\n",
       " 'Kuttanad',\n",
       " 'New Mahesh Friends Food Corner',\n",
       " 'Bohra Bohra ',\n",
       " 'Shree Krishna Sannidhi',\n",
       " 'BingeJoy!',\n",
       " 'Shiv Sai Hotel',\n",
       " 'MRA',\n",
       " 'Burj Hotel',\n",
       " 'Shaadi Ki Biryani',\n",
       " 'Madeena Hotel',\n",
       " 'Biryani Durbar',\n",
       " 'Adyar Ananda Bhavan Sweets',\n",
       " 'Mahesh Friends Food Center',\n",
       " 'Juice Shop',\n",
       " \"Dadi's Dum Biryani\",\n",
       " 'Krishna Kuteera South',\n",
       " 'Alankrutha',\n",
       " 'Paradise',\n",
       " 'Kabab Mehal',\n",
       " 'Mughlai Kitchen',\n",
       " 'Sri Punjabi Dhaba',\n",
       " 'Arabian Mexico',\n",
       " 'CakeZone',\n",
       " 'Fujian Express',\n",
       " 'Indian Food',\n",
       " 'Tandoori Paradise',\n",
       " 'Kolkata Kathi Rolls',\n",
       " 'Adithya',\n",
       " 'Cheesiano Pizza',\n",
       " 'Le Arabia',\n",
       " 'Nati Palace',\n",
       " \"Dande's Hyderabad Biryani\",\n",
       " 'Upahara Bhavan',\n",
       " 'Sher-E-Punjab',\n",
       " 'Shuddh Desi Khana',\n",
       " 'Karama Restaurant',\n",
       " 'Jaganath Hotel and Restaurant',\n",
       " \"Mani's Dum Biryani\",\n",
       " 'Amontron',\n",
       " 'A M Biryani Hotel',\n",
       " 'Birinz',\n",
       " 'Hyderabadi Bawarchi',\n",
       " 'Fish Chain',\n",
       " 'Prasiddhi Food Corner',\n",
       " 'Biriyani Bhatti',\n",
       " 'Hyderabad Biryaani House',\n",
       " \"Galito's\",\n",
       " 'C. K. Mega Hot Food',\n",
       " 'Red Chilli Restaurant',\n",
       " 'RSS Donne Biryani',\n",
       " 'Rajdhani Thali Restaurant',\n",
       " 'PHEW (Play Hard Eat Wild)',\n",
       " 'New Kabab Zone',\n",
       " 'Bawarchi Paradise',\n",
       " 'Shree Udupi Grand',\n",
       " 'Chicken County Grand',\n",
       " 'Darjeeling Momos & Fast Food Center',\n",
       " 'Veruthe Oru Thattukada',\n",
       " 'Savoury - Sea Shell Restaurant',\n",
       " 'Warm Oven',\n",
       " 'Kundana',\n",
       " 'Food Ka Masti',\n",
       " 'The Shawarma Shop',\n",
       " 'Momo Junction',\n",
       " 'Antilla Aromas',\n",
       " 'Punjabi Food Corner',\n",
       " 'Mealer.in',\n",
       " 'Pathaan Sir',\n",
       " 'Cold Stone Creamery',\n",
       " 'Amritsari Kulcha Land',\n",
       " 'Chokha Chowka',\n",
       " 'Gorbandh',\n",
       " 'Grills & Rolls',\n",
       " 'Bathinda Junction',\n",
       " 'Stories',\n",
       " \"New Gongura's\",\n",
       " 'Sagar Grand',\n",
       " 'UBQ By Barbeque Nation',\n",
       " 'Agarwal Food Service',\n",
       " \"Daniyal's\",\n",
       " 'Seasons',\n",
       " 'Chef Delicacies',\n",
       " 'Indiana Burgers',\n",
       " 'Moksha',\n",
       " 'Marwa Restaurant',\n",
       " 'Shanghai Court',\n",
       " 'Akshaya Donne Biriyani',\n",
       " 'Bhojohori Manna',\n",
       " 'Richie Rich',\n",
       " 'Hunger Bee',\n",
       " 'Yum In My Tum',\n",
       " 'Maggi N Maggi House',\n",
       " 'Fresh Dinner',\n",
       " 'B.M.W Bhookh Mitaane Wala',\n",
       " 'Biryani Miya',\n",
       " 'Krispy Kreme',\n",
       " 'Paani Kum Chai',\n",
       " 'Chulha Chauki Da Dhaba',\n",
       " 'Hotel Brundavan',\n",
       " \"Magix's Parattha Roll\",\n",
       " 'Elegant Dining',\n",
       " 'AlienSip',\n",
       " 'Waffle Head',\n",
       " 'Samruddhi Biryani',\n",
       " 'Basmati Delights',\n",
       " \"Charlee's Chicken\",\n",
       " 'Samosa Singh',\n",
       " 'Cravings',\n",
       " 'Nagas',\n",
       " 'Thalassery Restaurant',\n",
       " 'Matka',\n",
       " 'Punjabi Swag',\n",
       " 'Taco Bell',\n",
       " 'Ambur Star Dum Biryani',\n",
       " \"Ahmed's Little Hut\",\n",
       " \"Mother's Rasoi\",\n",
       " 'Dosa Bazaar',\n",
       " 'Babu Moshai',\n",
       " 'The Bong Palate',\n",
       " 'Gowdru Mane Oota',\n",
       " \"Chandrima's Kitchen\",\n",
       " 'Bikaner Jn',\n",
       " 'Crunch Pizzas',\n",
       " 'Slurpy Shakes',\n",
       " 'Lassi Berg',\n",
       " 'Kakal-Kai Ruchi',\n",
       " 'Manchu Cafe',\n",
       " 'Calorie Express',\n",
       " 'Thalis Of India',\n",
       " 'BANGALORE BOX',\n",
       " 'Hotel Khaaja',\n",
       " 'The Gujarat Express',\n",
       " 'Vishal Foods',\n",
       " 'Lassi Darbar',\n",
       " 'Chavadi',\n",
       " 'Nanna Munna Paratha House',\n",
       " 'Cucumber Town',\n",
       " 'Artinci Artisanal Ice Cream',\n",
       " 'Kolkata Famous Kati Roll',\n",
       " 'Nellore Ruchulu',\n",
       " 'Brewsky',\n",
       " 'Chefeana',\n",
       " 'Bangaliana',\n",
       " 'Gud Dhani',\n",
       " 'The Hunger Room',\n",
       " 'Parisar Veg Restaurant',\n",
       " 'Deejas Kitchen',\n",
       " 'Pancuzzi',\n",
       " 'Totus',\n",
       " \"Zhang's - Chinese Restaurant\",\n",
       " 'Shagun Sweets & Foods',\n",
       " 'Eat Well',\n",
       " \"Dev's Gugababa\",\n",
       " 'Oogway Express',\n",
       " 'Balaji Bombay Vada Pav Gujrati Dalebi',\n",
       " 'The Cake Ville',\n",
       " 'The Egg Factory',\n",
       " 'Chow San',\n",
       " 'New Udupi Grand',\n",
       " 'New Karawali Lunch Home',\n",
       " 'SR Choco Station',\n",
       " 'Bangalore Pantry',\n",
       " 'Momo Jojo',\n",
       " 'Pizza Palace',\n",
       " 'Simply Indian',\n",
       " 'Delhi Biryani Cafe',\n",
       " \"Rithika's Kitchen\",\n",
       " 'Punjabi Times',\n",
       " 'Tarbouche',\n",
       " 'Omleterian',\n",
       " 'Cravy Wings',\n",
       " 'Funky Punjab',\n",
       " 'A1 Garam Masala',\n",
       " 'Punjabi Corner',\n",
       " 'Guru Palace',\n",
       " 'Zeeshan',\n",
       " 'Ambara Gardenia',\n",
       " 'LayerBite',\n",
       " 'Bhavani Chats',\n",
       " 'Tandoor Chai House',\n",
       " 'More Pizza',\n",
       " 'Appana Restaurant',\n",
       " 'Crafted Plate',\n",
       " \"Shetty's Kitchen\",\n",
       " 'Machali Port',\n",
       " 'Naati Manae',\n",
       " 'Bottle Genie',\n",
       " 'Mad Over Biryani',\n",
       " 'Garma Garam',\n",
       " 'Sambram Biriyani Paradise',\n",
       " 'Mr. Meetharam',\n",
       " 'The Coastal Crew by Fujian on 24th',\n",
       " 'BIB - Breakfast in the Box',\n",
       " 'Angel Restaurant',\n",
       " 'Wow Momo',\n",
       " 'Pizza Da Dhaba',\n",
       " 'Kalpavruksha',\n",
       " 'Innerchef',\n",
       " 'Juice Land',\n",
       " 'Bombay Sandwich Company',\n",
       " 'Tandoor And Spice',\n",
       " 'Kitchen24',\n",
       " 'Rock Stone Ice Cream Factory',\n",
       " 'Paratha Plaza',\n",
       " 'Krishna Vijayashree',\n",
       " 'Soup Station',\n",
       " 'Tasty Point',\n",
       " 'Natural Mumbai Kulfi',\n",
       " 'Namma Kudla',\n",
       " 'Triveni',\n",
       " 'Wangs Kitchen',\n",
       " 'RK Fresh Food',\n",
       " 'Alif Restaurant',\n",
       " 'Dine One One Restaurant',\n",
       " 'Pallavas Veg Cuisine',\n",
       " 'The Food Cottage',\n",
       " 'Healthie',\n",
       " 'Brundhavana Pure Veg',\n",
       " 'Spice Up',\n",
       " 'North Chinese Centre',\n",
       " 'Suryawanshi',\n",
       " 'M-Aura Kitchen Cafe & More',\n",
       " 'Perch',\n",
       " 'Tempteys',\n",
       " 'World In A Bowl',\n",
       " 'DeliBox.in',\n",
       " 'FRYBIES',\n",
       " 'Crumb Together',\n",
       " 'The Foodyz',\n",
       " \"Bean D'er Cafe\",\n",
       " 'Chaat Chatore',\n",
       " 'Taste Of Kolkata',\n",
       " 'Y Not Restaurant',\n",
       " '24/7 Food Service',\n",
       " 'Kanti Bakes & Flakes',\n",
       " 'China Town 07',\n",
       " 'Modern Restaurant',\n",
       " 'Burrito Boys',\n",
       " 'The little Kitchen',\n",
       " 'Trippy Paradise',\n",
       " 'City Cafe',\n",
       " 'Biryani Magic',\n",
       " 'YumYumDilli',\n",
       " 'Nagarjuna',\n",
       " 'Laddoos',\n",
       " 'Smoke Oil Salt',\n",
       " 'Momo King',\n",
       " 'Waffle Stories',\n",
       " 'Late Night',\n",
       " 'Waffle Walle',\n",
       " 'Shake It Off',\n",
       " 'Bombay Kulfi',\n",
       " 'Chaat Central',\n",
       " 'Two Friends Cauldron',\n",
       " 'Bun Town',\n",
       " 'INDULGE by InnerChef',\n",
       " 'Garden Fresh',\n",
       " 'Dhabeliwala',\n",
       " \"Rayaan's BBQ\",\n",
       " 'Chaat Junction',\n",
       " 'Asharfilal',\n",
       " 'Street Foods by Punjab Grill',\n",
       " \"Tiwari's Ghee Paratha and Chats\",\n",
       " 'Spurthi Foods',\n",
       " 'Melting Pot at Woodrose',\n",
       " 'Pot Biryani',\n",
       " \"Thanco's Natural Ice Cream\",\n",
       " 'Mango Tree- The Beer Garden',\n",
       " 'Dessi Cuppa',\n",
       " 'Halli Mane MUDDE OOTA',\n",
       " \"Lyengar's Cakes N Cookies\",\n",
       " 'Eat & Joy Restaurant',\n",
       " 'YumYumSouth',\n",
       " 'Wow Vada Pav',\n",
       " 'Foreign ',\n",
       " 'The Jade Kitchen',\n",
       " 'Krishna Vaibhava',\n",
       " 'Nandhanus Rasoi',\n",
       " 'Donne Biriyani Mane',\n",
       " 'Fish And Dish',\n",
       " 'Miss Momo',\n",
       " 'Intalia',\n",
       " 'Chicken County Restaurant',\n",
       " 'Velvet Kitchen',\n",
       " 'Hotel Aradhana',\n",
       " 'The Chervil',\n",
       " 'Eatsomnia',\n",
       " 'Sri Rajasthani Foods',\n",
       " 'New Royal Treat',\n",
       " 'I Cool',\n",
       " 'The Kitchen',\n",
       " 'Mahek Pizza',\n",
       " 'KC Das- Sweet World',\n",
       " 'Panther Cafe',\n",
       " 'Lassi Ghar',\n",
       " 'Authentic Aandhra',\n",
       " 'Roots n Fruits',\n",
       " 'Indian Desi Momo',\n",
       " 'Kaizen Wellness Kitchen',\n",
       " 'Mad Over Donuts',\n",
       " 'Kolkata Famous Kati Rolls',\n",
       " 'Vinaya Cafe',\n",
       " 'RBP Greens Garden',\n",
       " 'Supreme Biryani',\n",
       " 'Dazu Momoz',\n",
       " 'Desi Dhaba',\n",
       " 'World of Waffles',\n",
       " \"Pika's Kitchen\",\n",
       " 'Dilli ??',\n",
       " 'Lassi Cafe',\n",
       " 'The London Shakes',\n",
       " 'New Mogul Empire',\n",
       " 'Atithi Biryani Corner',\n",
       " 'Oottupura Family Restaurant',\n",
       " 'Yumme Veg',\n",
       " 'Shree Guru Raghavendra Chats Chintamani Special',\n",
       " 'Vyanjan',\n",
       " 'Sri Sankara Cafe',\n",
       " 'Bhaijaan Barbeques',\n",
       " 'Namana Garden',\n",
       " 'Chatter Platter',\n",
       " 'Momo Time',\n",
       " 'Bikaneri Sweets',\n",
       " \"Watson's\",\n",
       " 'Sri Nandi Grand',\n",
       " 'Chicken Man',\n",
       " 'Only Sharjah',\n",
       " \"Chef Baker's\",\n",
       " 'Sree Ganesha Fruits & Juice',\n",
       " 'Nandhana Palace',\n",
       " 'Happy Eats',\n",
       " 'Biryani Nights',\n",
       " 'Thejas Bhavan',\n",
       " 'Kababish Restaurant',\n",
       " 'Graffitea',\n",
       " 'Gappe',\n",
       " ...]"
      ]
     },
     "execution_count": 11,
     "metadata": {},
     "output_type": "execute_result"
    }
   ],
   "source": [
    "zomato.replace(\"CafÃ\\x83Â\\x83Ã\\x82Â\\x83Ã\\x83Â\\x82Ã\\x82Â\\x83Ã\\x83Â\\x83Ã\\x82Â\\x82Ã\\x83Â\\x82Ã\\x82Â©\",\"\",regex=True,inplace=True)\n",
    "list(zomato.Restaurant.unique())"
   ]
  },
  {
   "cell_type": "markdown",
   "id": "4e36f4f6",
   "metadata": {},
   "source": [
    "Thus we have successfully removed the garbage values from the Restaurant column"
   ]
  },
  {
   "cell_type": "markdown",
   "id": "83770dca",
   "metadata": {},
   "source": [
    "- Online Service"
   ]
  },
  {
   "cell_type": "code",
   "execution_count": 12,
   "id": "878abd31",
   "metadata": {
    "scrolled": false
   },
   "outputs": [
    {
     "data": {
      "text/plain": [
       "False    35011\n",
       "Name: Online service, dtype: int64"
      ]
     },
     "execution_count": 12,
     "metadata": {},
     "output_type": "execute_result"
    }
   ],
   "source": [
    "zomato[\"Online service\"].isnull().value_counts()"
   ]
  },
  {
   "cell_type": "markdown",
   "id": "a1fa1f84",
   "metadata": {},
   "source": [
    "Online  Service column do not contain any null values"
   ]
  },
  {
   "cell_type": "code",
   "execution_count": 13,
   "id": "18066cea",
   "metadata": {
    "scrolled": true
   },
   "outputs": [
    {
     "data": {
      "text/plain": [
       "Yes    20813\n",
       "No     14198\n",
       "Name: Online service, dtype: int64"
      ]
     },
     "execution_count": 13,
     "metadata": {},
     "output_type": "execute_result"
    }
   ],
   "source": [
    "zomato[\"Online service\"].value_counts()"
   ]
  },
  {
   "cell_type": "markdown",
   "id": "99bb66e8",
   "metadata": {},
   "source": [
    "Online Service column contain only two categorical values : 'Yes' and 'No' , thus we do not need to clean this column"
   ]
  },
  {
   "cell_type": "markdown",
   "id": "4acd04b8",
   "metadata": {},
   "source": [
    "- Reservation Service"
   ]
  },
  {
   "cell_type": "code",
   "execution_count": 14,
   "id": "c7eb759f",
   "metadata": {
    "scrolled": true
   },
   "outputs": [
    {
     "data": {
      "text/plain": [
       "False    35011\n",
       "Name: Reservation service, dtype: int64"
      ]
     },
     "execution_count": 14,
     "metadata": {},
     "output_type": "execute_result"
    }
   ],
   "source": [
    "zomato[\"Reservation service\"].isnull().value_counts()"
   ]
  },
  {
   "cell_type": "markdown",
   "id": "f34168aa",
   "metadata": {},
   "source": [
    "Reservation service column do not contain any null values"
   ]
  },
  {
   "cell_type": "code",
   "execution_count": 15,
   "id": "84d63632",
   "metadata": {
    "scrolled": true
   },
   "outputs": [
    {
     "data": {
      "text/plain": [
       "No     29609\n",
       "Yes     5402\n",
       "Name: Reservation service, dtype: int64"
      ]
     },
     "execution_count": 15,
     "metadata": {},
     "output_type": "execute_result"
    }
   ],
   "source": [
    "zomato[\"Reservation service\"].value_counts()"
   ]
  },
  {
   "cell_type": "markdown",
   "id": "540cc790",
   "metadata": {},
   "source": [
    "Reservation service column contain only two categorical values : 'Yes' and 'No' , thus we do not need to clean this column"
   ]
  },
  {
   "cell_type": "markdown",
   "id": "e95ab4e6",
   "metadata": {},
   "source": [
    "- Rating"
   ]
  },
  {
   "cell_type": "code",
   "execution_count": 16,
   "id": "f74361b3",
   "metadata": {
    "scrolled": false
   },
   "outputs": [
    {
     "data": {
      "text/plain": [
       "False    31241\n",
       "True      3770\n",
       "Name: Rating, dtype: int64"
      ]
     },
     "execution_count": 16,
     "metadata": {},
     "output_type": "execute_result"
    }
   ],
   "source": [
    "zomato[\"Rating\"].isnull().value_counts()"
   ]
  },
  {
   "cell_type": "markdown",
   "id": "fca7468b",
   "metadata": {},
   "source": [
    "Rating column contains 3770 null values , which we'll remove afterwards"
   ]
  },
  {
   "cell_type": "code",
   "execution_count": 17,
   "id": "86fde69e",
   "metadata": {
    "scrolled": true
   },
   "outputs": [
    {
     "data": {
      "text/plain": [
       "array(['4.1/5', '3.8/5', '3.7/5', '3.6/5', '4.6/5', '4.0/5', '4.2/5',\n",
       "       '3.9/5', '3.1/5', '3.0/5', '3.2/5', '3.3/5', '2.8/5', '4.4/5',\n",
       "       '4.3/5', 'NEW', '2.9/5', '3.5/5', nan, '2.6/5', '3.8 /5', '3.4/5',\n",
       "       '4.5/5', '2.5/5', '2.7/5', '4.7/5', '2.4/5', '2.2/5', '2.3/5',\n",
       "       '3.4 /5', '-', '3.6 /5', '4.8/5', '3.9 /5', '4.2 /5', '4.0 /5',\n",
       "       '4.1 /5', '3.7 /5', '3.1 /5', '2.9 /5', '3.3 /5', '2.8 /5',\n",
       "       '3.5 /5', '2.7 /5', '2.5 /5', '3.2 /5', '2.6 /5', '4.5 /5',\n",
       "       '4.3 /5', '4.4 /5', '4.9/5', '2.1/5', '2.0/5', '1.8/5', '4.6 /5',\n",
       "       '4.9 /5', '3.0 /5', '4.8 /5', '2.3 /5', '4.7 /5', '2.4 /5',\n",
       "       '2.1 /5', '2.2 /5', '2.0 /5', '1.8 /5'], dtype=object)"
      ]
     },
     "execution_count": 17,
     "metadata": {},
     "output_type": "execute_result"
    }
   ],
   "source": [
    "zomato[\"Rating\"].unique()"
   ]
  },
  {
   "cell_type": "code",
   "execution_count": 18,
   "id": "78fe562c",
   "metadata": {},
   "outputs": [
    {
     "data": {
      "text/plain": [
       "1258"
      ]
     },
     "execution_count": 18,
     "metadata": {},
     "output_type": "execute_result"
    }
   ],
   "source": [
    "list(zomato[\"Rating\"]).count(\"NEW\")"
   ]
  },
  {
   "cell_type": "markdown",
   "id": "0f209574",
   "metadata": {},
   "source": [
    "As we can see Rating columns consists for null values,\"-\",1258 \"NEW\" values other than the required values , thus we need to clean the \"NEW\" and \"-\" values from the Rating column\n",
    "\n",
    "Note: NEW stands for restaurants whose ratings have yet to be defined , possible reasons : Restaurant has just started functioning , Restaurant has just started catching the eyes of people , Rating system or criteria has been just introduced \n",
    "\n",
    "So total 1258 Restaurants fall under this type"
   ]
  },
  {
   "cell_type": "code",
   "execution_count": 19,
   "id": "c3b3f60b",
   "metadata": {},
   "outputs": [],
   "source": [
    "zomato[\"Rating\"].replace({\"NEW|-\":\"0/0\"},regex=True,inplace=True)"
   ]
  },
  {
   "cell_type": "code",
   "execution_count": 20,
   "id": "6e6f22a4",
   "metadata": {
    "scrolled": true
   },
   "outputs": [
    {
     "data": {
      "text/plain": [
       "array(['4.1/5', '3.8/5', '3.7/5', '3.6/5', '4.6/5', '4.0/5', '4.2/5',\n",
       "       '3.9/5', '3.1/5', '3.0/5', '3.2/5', '3.3/5', '2.8/5', '4.4/5',\n",
       "       '4.3/5', '0/0', '2.9/5', '3.5/5', nan, '2.6/5', '3.8 /5', '3.4/5',\n",
       "       '4.5/5', '2.5/5', '2.7/5', '4.7/5', '2.4/5', '2.2/5', '2.3/5',\n",
       "       '3.4 /5', '3.6 /5', '4.8/5', '3.9 /5', '4.2 /5', '4.0 /5',\n",
       "       '4.1 /5', '3.7 /5', '3.1 /5', '2.9 /5', '3.3 /5', '2.8 /5',\n",
       "       '3.5 /5', '2.7 /5', '2.5 /5', '3.2 /5', '2.6 /5', '4.5 /5',\n",
       "       '4.3 /5', '4.4 /5', '4.9/5', '2.1/5', '2.0/5', '1.8/5', '4.6 /5',\n",
       "       '4.9 /5', '3.0 /5', '4.8 /5', '2.3 /5', '4.7 /5', '2.4 /5',\n",
       "       '2.1 /5', '2.2 /5', '2.0 /5', '1.8 /5'], dtype=object)"
      ]
     },
     "execution_count": 20,
     "metadata": {},
     "output_type": "execute_result"
    }
   ],
   "source": [
    "zomato[\"Rating\"].unique()"
   ]
  },
  {
   "cell_type": "markdown",
   "id": "32012857",
   "metadata": {},
   "source": [
    "Here we have replaced the \"NEW\" values and \"-\" values with \"0/0\", since the restaurants may be newly opened , thus their rating is 0\n",
    "\n",
    "Now we need to convert the values of Rating column in numerical format for further processing "
   ]
  },
  {
   "cell_type": "code",
   "execution_count": 21,
   "id": "9bf07182",
   "metadata": {
    "scrolled": true
   },
   "outputs": [
    {
     "data": {
      "text/plain": [
       "0    4.1\n",
       "1    4.1\n",
       "2    3.8\n",
       "Name: Rating, dtype: float64"
      ]
     },
     "execution_count": 21,
     "metadata": {},
     "output_type": "execute_result"
    }
   ],
   "source": [
    "zomato[\"Rating\"]=zomato[\"Rating\"].apply(lambda x:float(str(x).split(\"/\")[0]))\n",
    "zomato[\"Rating\"].head(3)"
   ]
  },
  {
   "cell_type": "markdown",
   "id": "712212c9",
   "metadata": {},
   "source": [
    "Here we gave converted the Rating values to float data type"
   ]
  },
  {
   "cell_type": "markdown",
   "id": "8f5a38f5",
   "metadata": {},
   "source": [
    "- Votes"
   ]
  },
  {
   "cell_type": "code",
   "execution_count": 22,
   "id": "762e7b0c",
   "metadata": {
    "scrolled": true
   },
   "outputs": [
    {
     "data": {
      "text/plain": [
       "False    35011\n",
       "Name: Votes, dtype: int64"
      ]
     },
     "execution_count": 22,
     "metadata": {},
     "output_type": "execute_result"
    }
   ],
   "source": [
    "zomato.Votes.isnull().value_counts()"
   ]
  },
  {
   "cell_type": "markdown",
   "id": "4d99fc11",
   "metadata": {},
   "source": [
    "Votes column do not contain any null values "
   ]
  },
  {
   "cell_type": "code",
   "execution_count": 23,
   "id": "e50e2d41",
   "metadata": {
    "scrolled": true
   },
   "outputs": [
    {
     "data": {
      "text/plain": [
       "0    775\n",
       "1    787\n",
       "2    918\n",
       "Name: Votes, dtype: int64"
      ]
     },
     "execution_count": 23,
     "metadata": {},
     "output_type": "execute_result"
    }
   ],
   "source": [
    "zomato.Votes.head(3)"
   ]
  },
  {
   "cell_type": "markdown",
   "id": "802fa494",
   "metadata": {},
   "source": [
    "The data type is already in required format so we do not need to make any changes or cleaning"
   ]
  },
  {
   "cell_type": "markdown",
   "id": "f84d08e7",
   "metadata": {},
   "source": [
    "- Location"
   ]
  },
  {
   "cell_type": "code",
   "execution_count": 24,
   "id": "58dd8fa8",
   "metadata": {
    "scrolled": true
   },
   "outputs": [
    {
     "data": {
      "text/plain": [
       "False    34997\n",
       "True        14\n",
       "Name: Location, dtype: int64"
      ]
     },
     "execution_count": 24,
     "metadata": {},
     "output_type": "execute_result"
    }
   ],
   "source": [
    "zomato.Location.isnull().value_counts()"
   ]
  },
  {
   "cell_type": "markdown",
   "id": "79878106",
   "metadata": {},
   "source": [
    "Location column consists of 14 null values which we will drop later"
   ]
  },
  {
   "cell_type": "markdown",
   "id": "2eb3e821",
   "metadata": {},
   "source": [
    "- Restaurant type"
   ]
  },
  {
   "cell_type": "code",
   "execution_count": 25,
   "id": "718d0023",
   "metadata": {
    "scrolled": true
   },
   "outputs": [
    {
     "data": {
      "text/plain": [
       "False    34855\n",
       "True       156\n",
       "Name: Restaurant type, dtype: int64"
      ]
     },
     "execution_count": 25,
     "metadata": {},
     "output_type": "execute_result"
    }
   ],
   "source": [
    "zomato[\"Restaurant type\"].isnull().value_counts()"
   ]
  },
  {
   "cell_type": "markdown",
   "id": "1cb365a7",
   "metadata": {},
   "source": [
    "Restaurant type column consists of 156 null values which we will drop later"
   ]
  },
  {
   "cell_type": "code",
   "execution_count": 26,
   "id": "ad7ec9fe",
   "metadata": {
    "scrolled": true
   },
   "outputs": [
    {
     "data": {
      "text/plain": [
       "False    34978\n",
       "True        33\n",
       "Name: Cuisines, dtype: int64"
      ]
     },
     "execution_count": 26,
     "metadata": {},
     "output_type": "execute_result"
    }
   ],
   "source": [
    "zomato[\"Cuisines\"].isnull().value_counts()"
   ]
  },
  {
   "cell_type": "markdown",
   "id": "58541c92",
   "metadata": {},
   "source": [
    "Cuisines column consists of 33 null values which we will drop later"
   ]
  },
  {
   "cell_type": "markdown",
   "id": "71e8bde2",
   "metadata": {},
   "source": [
    "- Cost for two"
   ]
  },
  {
   "cell_type": "code",
   "execution_count": 27,
   "id": "ef0948a5",
   "metadata": {
    "scrolled": true
   },
   "outputs": [
    {
     "data": {
      "text/plain": [
       "False    34790\n",
       "True       221\n",
       "Name: Cost for two, dtype: int64"
      ]
     },
     "execution_count": 27,
     "metadata": {},
     "output_type": "execute_result"
    }
   ],
   "source": [
    "zomato['Cost for two'].isnull().value_counts()"
   ]
  },
  {
   "cell_type": "markdown",
   "id": "fc46b692",
   "metadata": {},
   "source": [
    "'Cost for two' column consists of 221 null values which we will drop later"
   ]
  },
  {
   "cell_type": "code",
   "execution_count": 28,
   "id": "25280996",
   "metadata": {
    "scrolled": true
   },
   "outputs": [
    {
     "data": {
      "text/plain": [
       "array(['800', '300', '600', '700', '550', '500', '450', '650', '400',\n",
       "       '900', '200', '750', '150', '850', '100', '1,200', '350', '250',\n",
       "       '950', '1,000', '1,500', '1,300', '199', '80', '1,100', '160',\n",
       "       '1,600', '230', '130', '50', '190', '1,700', nan, '1,400', '180',\n",
       "       '1,350', '2,200', '2,000', '1,800', '1,900', '330', '2,500',\n",
       "       '2,100', '3,000', '2,800', '3,400', '40', '1,250', '3,500',\n",
       "       '4,000', '2,400', '2,600', '120', '1,450', '469', '70', '3,200',\n",
       "       '60', '560', '240', '360', '6,000', '1,050', '2,300', '4,100',\n",
       "       '5,000', '3,700', '1,650', '2,700', '4,500', '140'], dtype=object)"
      ]
     },
     "execution_count": 28,
     "metadata": {},
     "output_type": "execute_result"
    }
   ],
   "source": [
    "zomato['Cost for two'].unique()"
   ]
  },
  {
   "cell_type": "markdown",
   "id": "956a4372",
   "metadata": {},
   "source": [
    "Here we need to convert the values into numerical format for which we need to remove the comas from the values and then convert to floats"
   ]
  },
  {
   "cell_type": "code",
   "execution_count": 29,
   "id": "fba9bfc8",
   "metadata": {},
   "outputs": [
    {
     "data": {
      "text/plain": [
       "0    800.0\n",
       "1    800.0\n",
       "2    800.0\n",
       "Name: Cost for two, dtype: float64"
      ]
     },
     "execution_count": 29,
     "metadata": {},
     "output_type": "execute_result"
    }
   ],
   "source": [
    "zomato[\"Cost for two\"]=zomato['Cost for two'].apply(lambda x:float(\"\".join(str(x).split(\",\"))))\n",
    "zomato[\"Cost for two\"].head(3)"
   ]
  },
  {
   "cell_type": "markdown",
   "id": "7daf7c4c",
   "metadata": {},
   "source": [
    "Here we gave converted the \"Cost for two\" values to required format and float data type"
   ]
  },
  {
   "cell_type": "markdown",
   "id": "3773561a",
   "metadata": {},
   "source": [
    "- Category"
   ]
  },
  {
   "cell_type": "code",
   "execution_count": 30,
   "id": "696bcc15",
   "metadata": {
    "scrolled": true
   },
   "outputs": [
    {
     "data": {
      "text/plain": [
       "False    35011\n",
       "Name: Category, dtype: int64"
      ]
     },
     "execution_count": 30,
     "metadata": {},
     "output_type": "execute_result"
    }
   ],
   "source": [
    "zomato.Category.isnull().value_counts()"
   ]
  },
  {
   "cell_type": "markdown",
   "id": "19b84247",
   "metadata": {},
   "source": [
    "Online Service column do not contain any null values"
   ]
  },
  {
   "cell_type": "code",
   "execution_count": 31,
   "id": "2a71ee78",
   "metadata": {
    "scrolled": true
   },
   "outputs": [
    {
     "data": {
      "text/plain": [
       "Delivery              16169\n",
       "Dine-out              12929\n",
       "Desserts               2476\n",
       "Cafes                  1249\n",
       "Drinks & nightlife      909\n",
       "Buffet                  674\n",
       "Pubs and bars           605\n",
       "Name: Category, dtype: int64"
      ]
     },
     "execution_count": 31,
     "metadata": {},
     "output_type": "execute_result"
    }
   ],
   "source": [
    "zomato.Category.value_counts()"
   ]
  },
  {
   "cell_type": "markdown",
   "id": "7e543488",
   "metadata": {},
   "source": [
    "Category columns are in required categorical format does we do not need to make any changes in the column"
   ]
  },
  {
   "cell_type": "markdown",
   "id": "947429d6",
   "metadata": {},
   "source": [
    "#### - Removing NaN values from the dataset"
   ]
  },
  {
   "cell_type": "code",
   "execution_count": 32,
   "id": "e09339d7",
   "metadata": {
    "scrolled": true
   },
   "outputs": [
    {
     "name": "stdout",
     "output_type": "stream",
     "text": [
      "Restaurant                0\n",
      "Online service            0\n",
      "Reservation service       0\n",
      "Rating                 3770\n",
      "Votes                     0\n",
      "Location                 14\n",
      "Restaurant type         156\n",
      "Cuisines                 33\n",
      "Cost for two            221\n",
      "Category                  0\n",
      "dtype: int64\n",
      "\n",
      "Total null values :  4194\n"
     ]
    }
   ],
   "source": [
    "print(zomato.isnull().sum())\n",
    "print(\"\\nTotal null values : \",zomato.isnull().sum().sum())"
   ]
  },
  {
   "cell_type": "markdown",
   "id": "8a6b4f74",
   "metadata": {},
   "source": [
    "Here columns Rating,Location,Restaurant type,Cuisines,Cost for two contain null values , all together there are 4194 null values which we need to drop"
   ]
  },
  {
   "cell_type": "code",
   "execution_count": 33,
   "id": "b1d9434c",
   "metadata": {
    "scrolled": false
   },
   "outputs": [],
   "source": [
    "zomato=zomato.dropna()"
   ]
  },
  {
   "cell_type": "code",
   "execution_count": 34,
   "id": "9391931d",
   "metadata": {
    "scrolled": false
   },
   "outputs": [
    {
     "data": {
      "text/plain": [
       "Restaurant             0\n",
       "Online service         0\n",
       "Reservation service    0\n",
       "Rating                 0\n",
       "Votes                  0\n",
       "Location               0\n",
       "Restaurant type        0\n",
       "Cuisines               0\n",
       "Cost for two           0\n",
       "Category               0\n",
       "dtype: int64"
      ]
     },
     "execution_count": 34,
     "metadata": {},
     "output_type": "execute_result"
    }
   ],
   "source": [
    "zomato.isnull().sum()"
   ]
  },
  {
   "cell_type": "markdown",
   "id": "673c86c5",
   "metadata": {},
   "source": [
    "Here we have successfully dropped all the null columns from the dataset"
   ]
  },
  {
   "cell_type": "markdown",
   "id": "4ac74c8d",
   "metadata": {},
   "source": [
    "#### - Some more transformations"
   ]
  },
  {
   "cell_type": "markdown",
   "id": "2e776d22",
   "metadata": {},
   "source": [
    "Depending upon the cost for two people we will classify the restaurants in categories like Very low, Low, Moderate, High ,Very high"
   ]
  },
  {
   "cell_type": "code",
   "execution_count": 35,
   "id": "a74c733d",
   "metadata": {},
   "outputs": [
    {
     "name": "stdout",
     "output_type": "stream",
     "text": [
      "Minimum cost :  40.0 \n",
      "Maximum cost :  6000.0\n"
     ]
    }
   ],
   "source": [
    "print(\"Minimum cost : \",zomato[\"Cost for two\"].min(),\"\\nMaximum cost : \",zomato[\"Cost for two\"].max())"
   ]
  },
  {
   "cell_type": "code",
   "execution_count": 36,
   "id": "ab23a2a5",
   "metadata": {},
   "outputs": [
    {
     "data": {
      "text/plain": [
       "array([  40., 1530., 3020., 4510., 6000.])"
      ]
     },
     "execution_count": 36,
     "metadata": {},
     "output_type": "execute_result"
    }
   ],
   "source": [
    "np.linspace(40,6000,5)"
   ]
  },
  {
   "cell_type": "markdown",
   "id": "28e99982",
   "metadata": {},
   "source": [
    "Criteria for splitting in the above cell"
   ]
  },
  {
   "cell_type": "code",
   "execution_count": 37,
   "id": "3fffa508",
   "metadata": {},
   "outputs": [
    {
     "data": {
      "text/plain": [
       "Low          29526\n",
       "Moderate      1370\n",
       "High            59\n",
       "Very high        3\n",
       "Name: Price level, dtype: int64"
      ]
     },
     "execution_count": 37,
     "metadata": {},
     "output_type": "execute_result"
    }
   ],
   "source": [
    "zomato[\"Price level\"]=\"x\"\n",
    "zomato.loc[(zomato[\"Cost for two\"]>=40)&(zomato[\"Cost for two\"]<=1530),\"Price level\"]=\"Low\"\n",
    "zomato.loc[(zomato[\"Cost for two\"]>1530)&(zomato[\"Cost for two\"]<=3020),\"Price level\"]=\"Moderate\"\n",
    "zomato.loc[(zomato[\"Cost for two\"]>3020)&(zomato[\"Cost for two\"]<=4510),\"Price level\"]=\"High\"\n",
    "zomato.loc[(zomato[\"Cost for two\"]>4510),\"Price level\"]=\"Very high\"\n",
    "zomato[\"Price level\"].value_counts()"
   ]
  },
  {
   "cell_type": "markdown",
   "id": "90ed9a1a",
   "metadata": {},
   "source": [
    "### - Data Visualization "
   ]
  },
  {
   "cell_type": "code",
   "execution_count": 38,
   "id": "3bb61b62",
   "metadata": {
    "scrolled": true
   },
   "outputs": [
    {
     "data": {
      "text/html": [
       "<div>\n",
       "<style scoped>\n",
       "    .dataframe tbody tr th:only-of-type {\n",
       "        vertical-align: middle;\n",
       "    }\n",
       "\n",
       "    .dataframe tbody tr th {\n",
       "        vertical-align: top;\n",
       "    }\n",
       "\n",
       "    .dataframe thead th {\n",
       "        text-align: right;\n",
       "    }\n",
       "</style>\n",
       "<table border=\"1\" class=\"dataframe\">\n",
       "  <thead>\n",
       "    <tr style=\"text-align: right;\">\n",
       "      <th></th>\n",
       "      <th>Restaurant</th>\n",
       "      <th>Online service</th>\n",
       "      <th>Reservation service</th>\n",
       "      <th>Rating</th>\n",
       "      <th>Votes</th>\n",
       "      <th>Location</th>\n",
       "      <th>Restaurant type</th>\n",
       "      <th>Cuisines</th>\n",
       "      <th>Cost for two</th>\n",
       "      <th>Category</th>\n",
       "      <th>Price level</th>\n",
       "    </tr>\n",
       "  </thead>\n",
       "  <tbody>\n",
       "    <tr>\n",
       "      <th>0</th>\n",
       "      <td>Jalsa</td>\n",
       "      <td>Yes</td>\n",
       "      <td>Yes</td>\n",
       "      <td>4.1</td>\n",
       "      <td>775</td>\n",
       "      <td>Banashankari</td>\n",
       "      <td>Casual Dining</td>\n",
       "      <td>North Indian, Mughlai, Chinese</td>\n",
       "      <td>800.0</td>\n",
       "      <td>Buffet</td>\n",
       "      <td>Low</td>\n",
       "    </tr>\n",
       "    <tr>\n",
       "      <th>1</th>\n",
       "      <td>Spice Elephant</td>\n",
       "      <td>Yes</td>\n",
       "      <td>No</td>\n",
       "      <td>4.1</td>\n",
       "      <td>787</td>\n",
       "      <td>Banashankari</td>\n",
       "      <td>Casual Dining</td>\n",
       "      <td>Chinese, North Indian, Thai</td>\n",
       "      <td>800.0</td>\n",
       "      <td>Buffet</td>\n",
       "      <td>Low</td>\n",
       "    </tr>\n",
       "    <tr>\n",
       "      <th>2</th>\n",
       "      <td>San Churro Cafe</td>\n",
       "      <td>Yes</td>\n",
       "      <td>No</td>\n",
       "      <td>3.8</td>\n",
       "      <td>918</td>\n",
       "      <td>Banashankari</td>\n",
       "      <td>Cafe, Casual Dining</td>\n",
       "      <td>Cafe, Mexican, Italian</td>\n",
       "      <td>800.0</td>\n",
       "      <td>Buffet</td>\n",
       "      <td>Low</td>\n",
       "    </tr>\n",
       "    <tr>\n",
       "      <th>3</th>\n",
       "      <td>Addhuri Udupi Bhojana</td>\n",
       "      <td>No</td>\n",
       "      <td>No</td>\n",
       "      <td>3.7</td>\n",
       "      <td>88</td>\n",
       "      <td>Banashankari</td>\n",
       "      <td>Quick Bites</td>\n",
       "      <td>South Indian, North Indian</td>\n",
       "      <td>300.0</td>\n",
       "      <td>Buffet</td>\n",
       "      <td>Low</td>\n",
       "    </tr>\n",
       "  </tbody>\n",
       "</table>\n",
       "</div>"
      ],
      "text/plain": [
       "              Restaurant Online service Reservation service  Rating  Votes  \\\n",
       "0                  Jalsa            Yes                 Yes     4.1    775   \n",
       "1         Spice Elephant            Yes                  No     4.1    787   \n",
       "2        San Churro Cafe            Yes                  No     3.8    918   \n",
       "3  Addhuri Udupi Bhojana             No                  No     3.7     88   \n",
       "\n",
       "       Location      Restaurant type                        Cuisines  \\\n",
       "0  Banashankari        Casual Dining  North Indian, Mughlai, Chinese   \n",
       "1  Banashankari        Casual Dining     Chinese, North Indian, Thai   \n",
       "2  Banashankari  Cafe, Casual Dining          Cafe, Mexican, Italian   \n",
       "3  Banashankari          Quick Bites      South Indian, North Indian   \n",
       "\n",
       "   Cost for two Category Price level  \n",
       "0         800.0   Buffet         Low  \n",
       "1         800.0   Buffet         Low  \n",
       "2         800.0   Buffet         Low  \n",
       "3         300.0   Buffet         Low  "
      ]
     },
     "execution_count": 38,
     "metadata": {},
     "output_type": "execute_result"
    }
   ],
   "source": [
    "zomato.head(4)"
   ]
  },
  {
   "cell_type": "code",
   "execution_count": 39,
   "id": "ea316ced",
   "metadata": {
    "scrolled": false
   },
   "outputs": [
    {
     "data": {
      "text/plain": [
       "<AxesSubplot:xlabel='Online service', ylabel='count'>"
      ]
     },
     "execution_count": 39,
     "metadata": {},
     "output_type": "execute_result"
    },
    {
     "data": {
      "image/png": "[encoded data removed]",
      "text/plain": [
       "<Figure size 432x288 with 1 Axes>"
      ]
     },
     "metadata": {
      "needs_background": "light"
     },
     "output_type": "display_data"
    }
   ],
   "source": [
    "sns.countplot(x=\"Online service\",data=zomato)"
   ]
  },
  {
   "cell_type": "markdown",
   "id": "5595ae48",
   "metadata": {},
   "source": [
    "Here we can infer that the number of restaurants providing online service is more than that of restaurants which do not, with the digitalization of society it is obvious that most of the businesses have adapted digital means for business.  \n",
    "\n",
    "There still exists restaurants who do not offer online services, reasons may be financial, geographical, lack of facilities, etc. "
   ]
  },
  {
   "cell_type": "code",
   "execution_count": 40,
   "id": "182969ac",
   "metadata": {
    "scrolled": true
   },
   "outputs": [
    {
     "data": {
      "text/plain": [
       "<AxesSubplot:xlabel='Online service', ylabel='Rating'>"
      ]
     },
     "execution_count": 40,
     "metadata": {},
     "output_type": "execute_result"
    },
    {
     "data": {
      "image/png": "[encoded data removed]",
      "text/plain": [
       "<Figure size 432x288 with 1 Axes>"
      ]
     },
     "metadata": {
      "needs_background": "light"
     },
     "output_type": "display_data"
    }
   ],
   "source": [
    "sns.barplot(x='Online service',y=\"Rating\",data=zomato)"
   ]
  },
  {
   "cell_type": "markdown",
   "id": "31dc6879",
   "metadata": {},
   "source": [
    "Here we can infer that Rating of the restaurtants who offer online services have higher ratings as compared to restaurants which do not "
   ]
  },
  {
   "cell_type": "code",
   "execution_count": 41,
   "id": "d570fa49",
   "metadata": {
    "scrolled": true
   },
   "outputs": [
    {
     "data": {
      "text/plain": [
       "<AxesSubplot:xlabel='Reservation service', ylabel='count'>"
      ]
     },
     "execution_count": 41,
     "metadata": {},
     "output_type": "execute_result"
    },
    {
     "data": {
      "image/png": "[encoded data removed]",
      "text/plain": [
       "<Figure size 432x288 with 1 Axes>"
      ]
     },
     "metadata": {
      "needs_background": "light"
     },
     "output_type": "display_data"
    }
   ],
   "source": [
    "sns.countplot(x=\"Reservation service\",data=zomato)"
   ]
  },
  {
   "cell_type": "markdown",
   "id": "3284b5e9",
   "metadata": {},
   "source": [
    "Here we can infer that hotels providing reservation services are lesser in number as compared to those which do not"
   ]
  },
  {
   "cell_type": "code",
   "execution_count": 42,
   "id": "ee981c27",
   "metadata": {
    "scrolled": false
   },
   "outputs": [
    {
     "data": {
      "text/plain": [
       "<AxesSubplot:xlabel='Reservation service', ylabel='Rating'>"
      ]
     },
     "execution_count": 42,
     "metadata": {},
     "output_type": "execute_result"
    },
    {
     "data": {
      "image/png": "[encoded data removed]",
      "text/plain": [
       "<Figure size 432x288 with 1 Axes>"
      ]
     },
     "metadata": {
      "needs_background": "light"
     },
     "output_type": "display_data"
    }
   ],
   "source": [
    "sns.barplot(x=\"Reservation service\",y=\"Rating\",data=zomato)"
   ]
  },
  {
   "cell_type": "markdown",
   "id": "643ea6b6",
   "metadata": {},
   "source": [
    "Here we can infer that hotels providing reservation services have higher ratings than the hotels which do not."
   ]
  },
  {
   "cell_type": "code",
   "execution_count": 43,
   "id": "17115d0a",
   "metadata": {
    "scrolled": true
   },
   "outputs": [
    {
     "data": {
      "text/plain": [
       "<AxesSubplot:xlabel='Location'>"
      ]
     },
     "execution_count": 43,
     "metadata": {},
     "output_type": "execute_result"
    },
    {
     "data": {
      "image/png": "[encoded data removed]",
      "text/plain": [
       "<Figure size 720x360 with 1 Axes>"
      ]
     },
     "metadata": {
      "needs_background": "light"
     },
     "output_type": "display_data"
    }
   ],
   "source": [
    "(zomato.groupby([\"Location\"])['Rating'].mean()).nlargest(5).plot(kind=\"line\",figsize=(10,5))"
   ]
  },
  {
   "cell_type": "markdown",
   "id": "ca84b74e",
   "metadata": {},
   "source": [
    "Here we can infer that location \"Lavelle Road\" is the best location for providing food service"
   ]
  },
  {
   "cell_type": "code",
   "execution_count": 44,
   "id": "2fd2ec28",
   "metadata": {
    "scrolled": true
   },
   "outputs": [
    {
     "data": {
      "text/plain": [
       "<AxesSubplot:xlabel='Location'>"
      ]
     },
     "execution_count": 44,
     "metadata": {},
     "output_type": "execute_result"
    },
    {
     "data": {
      "image/png": "[encoded data removed]",
      "text/plain": [
       "<Figure size 1152x360 with 1 Axes>"
      ]
     },
     "metadata": {
      "needs_background": "light"
     },
     "output_type": "display_data"
    }
   ],
   "source": [
    "a = zomato.groupby(\"Location\")[\"Rating\"].mean().head(15)\n",
    "a.plot(kind=\"line\",figsize=(16,5))"
   ]
  },
  {
   "cell_type": "markdown",
   "id": "0395bda0",
   "metadata": {},
   "source": [
    "Here we can infer that Restaurants at locations BTM, Banaswadi, Basavanagudi, Belandur, CV Raman Nagar, Commmercail Street have near about similar ratings in the range of 3.3 to 3.5 and Church Street has the highest rating followed by Brigade road."
   ]
  },
  {
   "cell_type": "code",
   "execution_count": 45,
   "id": "33007753",
   "metadata": {
    "scrolled": true
   },
   "outputs": [
    {
     "data": {
      "text/plain": [
       "<AxesSubplot:xlabel='count', ylabel='Category'>"
      ]
     },
     "execution_count": 45,
     "metadata": {},
     "output_type": "execute_result"
    },
    {
     "data": {
      "image/png": "[encoded data removed]",
      "text/plain": [
       "<Figure size 432x288 with 1 Axes>"
      ]
     },
     "metadata": {
      "needs_background": "light"
     },
     "output_type": "display_data"
    }
   ],
   "source": [
    "sns.countplot(y=\"Category\",data=zomato)"
   ]
  },
  {
   "cell_type": "markdown",
   "id": "b5a1c14b",
   "metadata": {},
   "source": [
    "Here we can infer that restaurants of delivery category are abundant followed by Dine-out and lowest being the buffet and Pubs"
   ]
  },
  {
   "cell_type": "code",
   "execution_count": 46,
   "id": "bab3d09b",
   "metadata": {},
   "outputs": [
    {
     "data": {
      "text/plain": [
       "<AxesSubplot:xlabel='Restaurant type'>"
      ]
     },
     "execution_count": 46,
     "metadata": {},
     "output_type": "execute_result"
    },
    {
     "data": {
      "image/png": "[encoded data removed]",
      "text/plain": [
       "<Figure size 1152x360 with 1 Axes>"
      ]
     },
     "metadata": {
      "needs_background": "light"
     },
     "output_type": "display_data"
    }
   ],
   "source": [
    "(zomato.groupby(\"Restaurant type\")[\"Rating\"].mean().head(15)).plot(kind=\"line\",figsize=(16,5))"
   ]
  },
  {
   "cell_type": "code",
   "execution_count": 47,
   "id": "b11534e9",
   "metadata": {},
   "outputs": [
    {
     "data": {
      "text/plain": [
       "<AxesSubplot:xlabel='Cost for two', ylabel='Restaurant'>"
      ]
     },
     "execution_count": 47,
     "metadata": {},
     "output_type": "execute_result"
    },
    {
     "data": {
      "image/png": "[encoded data removed]",
      "text/plain": [
       "<Figure size 432x288 with 1 Axes>"
      ]
     },
     "metadata": {
      "needs_background": "light"
     },
     "output_type": "display_data"
    }
   ],
   "source": [
    "sns.barplot(x=\"Cost for two\",y=\"Restaurant\",data=zomato[[\"Restaurant\",\"Cost for two\"]].nlargest(15,\"Cost for two\"))"
   ]
  },
  {
   "cell_type": "markdown",
   "id": "d1268c3d",
   "metadata": {},
   "source": [
    "Here we can infer that Le Cirque Signature-The Leela Palace is the costliest restaurants followed by Royal Afghan-ITC Windsor"
   ]
  },
  {
   "cell_type": "code",
   "execution_count": 48,
   "id": "52cf0932",
   "metadata": {
    "scrolled": true
   },
   "outputs": [
    {
     "data": {
      "text/plain": [
       "<AxesSubplot:ylabel='Location'>"
      ]
     },
     "execution_count": 48,
     "metadata": {},
     "output_type": "execute_result"
    },
    {
     "data": {
      "image/png": "[encoded data removed]",
      "text/plain": [
       "<Figure size 720x360 with 1 Axes>"
      ]
     },
     "metadata": {
      "needs_background": "light"
     },
     "output_type": "display_data"
    }
   ],
   "source": [
    "(zomato.groupby(\"Location\")[\"Location\"].count().nlargest(10)).plot(kind=\"barh\",color=\"red\",figsize=(10,5))"
   ]
  },
  {
   "cell_type": "markdown",
   "id": "d8628888",
   "metadata": {},
   "source": [
    "Here we can infer that the location BTM consists maximum number of restaurants followed by Indiranagar"
   ]
  },
  {
   "cell_type": "code",
   "execution_count": 49,
   "id": "47e26b83",
   "metadata": {
    "scrolled": false
   },
   "outputs": [
    {
     "data": {
      "text/plain": [
       "<AxesSubplot:>"
      ]
     },
     "execution_count": 49,
     "metadata": {},
     "output_type": "execute_result"
    },
    {
     "data": {
      "image/png": "[encoded data removed]",
      "text/plain": [
       "<Figure size 1152x360 with 1 Axes>"
      ]
     },
     "metadata": {
      "needs_background": "light"
     },
     "output_type": "display_data"
    }
   ],
   "source": [
    "(zomato[\"Restaurant type\"].value_counts().head(6)).plot(kind=\"line\",figsize=(16,5))"
   ]
  },
  {
   "cell_type": "markdown",
   "id": "aa6b877a",
   "metadata": {},
   "source": [
    "Here we can infer that restaurants of type Quick bites are abundant followed by casual dining"
   ]
  },
  {
   "cell_type": "code",
   "execution_count": 50,
   "id": "d59e5b27",
   "metadata": {
    "scrolled": false
   },
   "outputs": [
    {
     "data": {
      "text/plain": [
       "<seaborn.axisgrid.JointGrid at 0x1dc04492b60>"
      ]
     },
     "execution_count": 50,
     "metadata": {},
     "output_type": "execute_result"
    },
    {
     "data": {
      "image/png": "[encoded data removed]",
      "text/plain": [
       "<Figure size 648x648 with 3 Axes>"
      ]
     },
     "metadata": {
      "needs_background": "light"
     },
     "output_type": "display_data"
    }
   ],
   "source": [
    "sns.jointplot(x=\"Rating\",y=\"Votes\",data=zomato,kind=\"reg\",color=\"green\",height=9)"
   ]
  },
  {
   "cell_type": "markdown",
   "id": "6fb4daf9",
   "metadata": {},
   "source": [
    "Here we can infer that votes are directly proportional to rating and vice-versa , votes increase as rating increases as well as restaurants having rating between 4 to 5 recieve wide range of votes, dominant being the range 0 to 5000."
   ]
  },
  {
   "cell_type": "code",
   "execution_count": 51,
   "id": "d8645722",
   "metadata": {
    "scrolled": true
   },
   "outputs": [
    {
     "data": {
      "text/plain": [
       "<AxesSubplot:xlabel='Price level', ylabel='count'>"
      ]
     },
     "execution_count": 51,
     "metadata": {},
     "output_type": "execute_result"
    },
    {
     "data": {
      "image/png": "[encoded data removed]",
      "text/plain": [
       "<Figure size 432x288 with 1 Axes>"
      ]
     },
     "metadata": {
      "needs_background": "light"
     },
     "output_type": "display_data"
    }
   ],
   "source": [
    "sns.countplot(x=\"Price level\",data=zomato)"
   ]
  },
  {
   "cell_type": "markdown",
   "id": "a11b938c",
   "metadata": {},
   "source": [
    "Here we can infer that restaurants with low prices are abundant whereas there are very less number of costly restaurants"
   ]
  },
  {
   "cell_type": "code",
   "execution_count": 83,
   "id": "be14fba2",
   "metadata": {},
   "outputs": [
    {
     "data": {
      "text/plain": [
       "<AxesSubplot:xlabel='Price level', ylabel='Votes'>"
      ]
     },
     "execution_count": 83,
     "metadata": {},
     "output_type": "execute_result"
    },
    {
     "data": {
      "image/png": "[encoded data removed]",
      "text/plain": [
       "<Figure size 1008x432 with 2 Axes>"
      ]
     },
     "metadata": {
      "needs_background": "light"
     },
     "output_type": "display_data"
    }
   ],
   "source": [
    "plt.figure(figsize=(14,6))\n",
    "sns.lineplot(x=\"Price level\",y=\"Rating\",data=zomato,ax=plt.subplot(1,2,1))\n",
    "sns.lineplot(x=\"Price level\",y=\"Votes\",data=zomato,ax=plt.subplot(1,2,2))"
   ]
  },
  {
   "cell_type": "markdown",
   "id": "434f6b6d",
   "metadata": {},
   "source": [
    "Here we can infer that as price of restaurants increase , ratings increase as well also restaurants with moderate price range recieve maximum votes and restaurants with high price range recieve less votes, There might be multiple reasons for that\n",
    "- Since the number of costly reastaurants is less , people going there are going to be less and there are high chances of those people to give a good feedback thus keeping the rating high coz of few people who rated them good\n",
    "- Restaurants might be worth the money , most of the people went there rated them well.\n",
    "- Restaurants with low pricing serve a lot of people , thus is rated by large number of people, here ratings may vary from 1 to 5 depending upon the customer satisfaction.\n"
   ]
  },
  {
   "cell_type": "markdown",
   "id": "f246a60e",
   "metadata": {},
   "source": [
    "## Conclusions"
   ]
  },
  {
   "cell_type": "markdown",
   "id": "68ef626c",
   "metadata": {},
   "source": [
    "#### 1.) 1258 restaurants have been newly developed \n",
    "\n",
    "#### 2.) For restaurants to increase their profit rate , they need to provide online servies as well as table reservation services to the customers\n",
    "\n",
    "#### 3.) Delivery service is one of the major services to gain the attention of customers, thus restaurants need to provide delivery service "
   ]
  },
  {
   "cell_type": "code",
   "execution_count": 113,
   "id": "ac07fece",
   "metadata": {},
   "outputs": [
    {
     "data": {
      "text/html": [
       "<div>\n",
       "<style scoped>\n",
       "    .dataframe tbody tr th:only-of-type {\n",
       "        vertical-align: middle;\n",
       "    }\n",
       "\n",
       "    .dataframe tbody tr th {\n",
       "        vertical-align: top;\n",
       "    }\n",
       "\n",
       "    .dataframe thead th {\n",
       "        text-align: right;\n",
       "    }\n",
       "</style>\n",
       "<table border=\"1\" class=\"dataframe\">\n",
       "  <thead>\n",
       "    <tr style=\"text-align: right;\">\n",
       "      <th>Price level</th>\n",
       "      <th>High</th>\n",
       "      <th>Low</th>\n",
       "      <th>Moderate</th>\n",
       "      <th>Very high</th>\n",
       "    </tr>\n",
       "    <tr>\n",
       "      <th>Category</th>\n",
       "      <th></th>\n",
       "      <th></th>\n",
       "      <th></th>\n",
       "      <th></th>\n",
       "    </tr>\n",
       "  </thead>\n",
       "  <tbody>\n",
       "    <tr>\n",
       "      <th>Buffet</th>\n",
       "      <td>4.250000</td>\n",
       "      <td>3.895010</td>\n",
       "      <td>4.191667</td>\n",
       "      <td>NaN</td>\n",
       "    </tr>\n",
       "    <tr>\n",
       "      <th>Cafes</th>\n",
       "      <td>NaN</td>\n",
       "      <td>3.745579</td>\n",
       "      <td>4.115789</td>\n",
       "      <td>NaN</td>\n",
       "    </tr>\n",
       "    <tr>\n",
       "      <th>Delivery</th>\n",
       "      <td>NaN</td>\n",
       "      <td>3.501410</td>\n",
       "      <td>4.243455</td>\n",
       "      <td>NaN</td>\n",
       "    </tr>\n",
       "    <tr>\n",
       "      <th>Desserts</th>\n",
       "      <td>NaN</td>\n",
       "      <td>3.634950</td>\n",
       "      <td>4.185714</td>\n",
       "      <td>NaN</td>\n",
       "    </tr>\n",
       "    <tr>\n",
       "      <th>Dine-out</th>\n",
       "      <td>4.262791</td>\n",
       "      <td>3.506152</td>\n",
       "      <td>4.168521</td>\n",
       "      <td>4.3</td>\n",
       "    </tr>\n",
       "    <tr>\n",
       "      <th>Drinks &amp; nightlife</th>\n",
       "      <td>4.250000</td>\n",
       "      <td>3.956192</td>\n",
       "      <td>4.093033</td>\n",
       "      <td>NaN</td>\n",
       "    </tr>\n",
       "    <tr>\n",
       "      <th>Pubs and bars</th>\n",
       "      <td>4.250000</td>\n",
       "      <td>3.914009</td>\n",
       "      <td>3.992308</td>\n",
       "      <td>NaN</td>\n",
       "    </tr>\n",
       "  </tbody>\n",
       "</table>\n",
       "</div>"
      ],
      "text/plain": [
       "Price level             High       Low  Moderate  Very high\n",
       "Category                                                   \n",
       "Buffet              4.250000  3.895010  4.191667        NaN\n",
       "Cafes                    NaN  3.745579  4.115789        NaN\n",
       "Delivery                 NaN  3.501410  4.243455        NaN\n",
       "Desserts                 NaN  3.634950  4.185714        NaN\n",
       "Dine-out            4.262791  3.506152  4.168521        4.3\n",
       "Drinks & nightlife  4.250000  3.956192  4.093033        NaN\n",
       "Pubs and bars       4.250000  3.914009  3.992308        NaN"
      ]
     },
     "execution_count": 113,
     "metadata": {},
     "output_type": "execute_result"
    }
   ],
   "source": [
    "datadf = (zomato.groupby([\"Category\",\"Price level\"])[\"Rating\"].mean()).unstack()\n",
    "# sns.barplot(x=\"datadf.values\",y=\"datadf.columns\",data=datadf,hue=datadf.index)\n",
    "datadf"
   ]
  },
  {
   "cell_type": "code",
   "execution_count": 138,
   "id": "a9b23139",
   "metadata": {},
   "outputs": [
    {
     "data": {
      "text/html": [
       "<div>\n",
       "<style scoped>\n",
       "    .dataframe tbody tr th:only-of-type {\n",
       "        vertical-align: middle;\n",
       "    }\n",
       "\n",
       "    .dataframe tbody tr th {\n",
       "        vertical-align: top;\n",
       "    }\n",
       "\n",
       "    .dataframe thead th {\n",
       "        text-align: right;\n",
       "    }\n",
       "</style>\n",
       "<table border=\"1\" class=\"dataframe\">\n",
       "  <thead>\n",
       "    <tr style=\"text-align: right;\">\n",
       "      <th></th>\n",
       "      <th>Category</th>\n",
       "      <th>Price level</th>\n",
       "      <th>Rating</th>\n",
       "    </tr>\n",
       "  </thead>\n",
       "  <tbody>\n",
       "    <tr>\n",
       "      <th>0</th>\n",
       "      <td>Buffet</td>\n",
       "      <td>High</td>\n",
       "      <td>4.250000</td>\n",
       "    </tr>\n",
       "    <tr>\n",
       "      <th>1</th>\n",
       "      <td>Buffet</td>\n",
       "      <td>Low</td>\n",
       "      <td>3.895010</td>\n",
       "    </tr>\n",
       "    <tr>\n",
       "      <th>2</th>\n",
       "      <td>Buffet</td>\n",
       "      <td>Moderate</td>\n",
       "      <td>4.191667</td>\n",
       "    </tr>\n",
       "    <tr>\n",
       "      <th>3</th>\n",
       "      <td>Cafes</td>\n",
       "      <td>Low</td>\n",
       "      <td>3.745579</td>\n",
       "    </tr>\n",
       "    <tr>\n",
       "      <th>4</th>\n",
       "      <td>Cafes</td>\n",
       "      <td>Moderate</td>\n",
       "      <td>4.115789</td>\n",
       "    </tr>\n",
       "    <tr>\n",
       "      <th>5</th>\n",
       "      <td>Delivery</td>\n",
       "      <td>Low</td>\n",
       "      <td>3.501410</td>\n",
       "    </tr>\n",
       "    <tr>\n",
       "      <th>6</th>\n",
       "      <td>Delivery</td>\n",
       "      <td>Moderate</td>\n",
       "      <td>4.243455</td>\n",
       "    </tr>\n",
       "    <tr>\n",
       "      <th>7</th>\n",
       "      <td>Desserts</td>\n",
       "      <td>Low</td>\n",
       "      <td>3.634950</td>\n",
       "    </tr>\n",
       "    <tr>\n",
       "      <th>8</th>\n",
       "      <td>Desserts</td>\n",
       "      <td>Moderate</td>\n",
       "      <td>4.185714</td>\n",
       "    </tr>\n",
       "    <tr>\n",
       "      <th>9</th>\n",
       "      <td>Dine-out</td>\n",
       "      <td>High</td>\n",
       "      <td>4.262791</td>\n",
       "    </tr>\n",
       "    <tr>\n",
       "      <th>10</th>\n",
       "      <td>Dine-out</td>\n",
       "      <td>Low</td>\n",
       "      <td>3.506152</td>\n",
       "    </tr>\n",
       "    <tr>\n",
       "      <th>11</th>\n",
       "      <td>Dine-out</td>\n",
       "      <td>Moderate</td>\n",
       "      <td>4.168521</td>\n",
       "    </tr>\n",
       "    <tr>\n",
       "      <th>12</th>\n",
       "      <td>Dine-out</td>\n",
       "      <td>Very high</td>\n",
       "      <td>4.300000</td>\n",
       "    </tr>\n",
       "    <tr>\n",
       "      <th>13</th>\n",
       "      <td>Drinks &amp; nightlife</td>\n",
       "      <td>High</td>\n",
       "      <td>4.250000</td>\n",
       "    </tr>\n",
       "    <tr>\n",
       "      <th>14</th>\n",
       "      <td>Drinks &amp; nightlife</td>\n",
       "      <td>Low</td>\n",
       "      <td>3.956192</td>\n",
       "    </tr>\n",
       "    <tr>\n",
       "      <th>15</th>\n",
       "      <td>Drinks &amp; nightlife</td>\n",
       "      <td>Moderate</td>\n",
       "      <td>4.093033</td>\n",
       "    </tr>\n",
       "    <tr>\n",
       "      <th>16</th>\n",
       "      <td>Pubs and bars</td>\n",
       "      <td>High</td>\n",
       "      <td>4.250000</td>\n",
       "    </tr>\n",
       "    <tr>\n",
       "      <th>17</th>\n",
       "      <td>Pubs and bars</td>\n",
       "      <td>Low</td>\n",
       "      <td>3.914009</td>\n",
       "    </tr>\n",
       "    <tr>\n",
       "      <th>18</th>\n",
       "      <td>Pubs and bars</td>\n",
       "      <td>Moderate</td>\n",
       "      <td>3.992308</td>\n",
       "    </tr>\n",
       "  </tbody>\n",
       "</table>\n",
       "</div>"
      ],
      "text/plain": [
       "              Category Price level    Rating\n",
       "0               Buffet        High  4.250000\n",
       "1               Buffet         Low  3.895010\n",
       "2               Buffet    Moderate  4.191667\n",
       "3                Cafes         Low  3.745579\n",
       "4                Cafes    Moderate  4.115789\n",
       "5             Delivery         Low  3.501410\n",
       "6             Delivery    Moderate  4.243455\n",
       "7             Desserts         Low  3.634950\n",
       "8             Desserts    Moderate  4.185714\n",
       "9             Dine-out        High  4.262791\n",
       "10            Dine-out         Low  3.506152\n",
       "11            Dine-out    Moderate  4.168521\n",
       "12            Dine-out   Very high  4.300000\n",
       "13  Drinks & nightlife        High  4.250000\n",
       "14  Drinks & nightlife         Low  3.956192\n",
       "15  Drinks & nightlife    Moderate  4.093033\n",
       "16       Pubs and bars        High  4.250000\n",
       "17       Pubs and bars         Low  3.914009\n",
       "18       Pubs and bars    Moderate  3.992308"
      ]
     },
     "execution_count": 138,
     "metadata": {},
     "output_type": "execute_result"
    }
   ],
   "source": [
    "# sns.barplot(data=datadf,x=datadf.index)\n",
    "# datadf\n",
    "s=(zomato.groupby([\"Category\",\"Price level\"])[\"Rating\"].mean())\n",
    "s=pd.DataFrame(s).reset_index()\n",
    "# s['Category']\n",
    "s"
   ]
  },
  {
   "cell_type": "code",
   "execution_count": 140,
   "id": "506005c4",
   "metadata": {},
   "outputs": [
    {
     "data": {
      "text/plain": [
       "<AxesSubplot:xlabel='Category', ylabel='Rating'>"
      ]
     },
     "execution_count": 140,
     "metadata": {},
     "output_type": "execute_result"
    },
    {
     "data": {
      "image/png": "[encoded data removed]",
      "text/plain": [
       "<Figure size 432x288 with 1 Axes>"
      ]
     },
     "metadata": {
      "needs_background": "light"
     },
     "output_type": "display_data"
    }
   ],
   "source": [
    "sns.barplot(data=s,x='Category',y='Rating',hue='Price level')"
   ]
  },
  {
   "cell_type": "code",
   "execution_count": null,
   "id": "c7d5afb1",
   "metadata": {},
   "outputs": [],
   "source": []
  },
  {
   "cell_type": "code",
   "execution_count": null,
   "id": "ea51c190",
   "metadata": {},
   "outputs": [],
   "source": []
  }
 ],
 "metadata": {
  "kernelspec": {
   "display_name": "Python 3 (ipykernel)",
   "language": "python",
   "name": "python3"
  },
  "language_info": {
   "codemirror_mode": {
    "name": "ipython",
    "version": 3
   },
   "file_extension": ".py",
   "mimetype": "text/x-python",
   "name": "python",
   "nbconvert_exporter": "python",
   "pygments_lexer": "ipython3",
   "version": "3.10.0"
  }
 },
 "nbformat": 4,
 "nbformat_minor": 5
}
