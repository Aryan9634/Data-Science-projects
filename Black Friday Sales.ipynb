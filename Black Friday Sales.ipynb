{
 "cells": [
  {
   "cell_type": "markdown",
   "id": "227229d9",
   "metadata": {},
   "source": [
    "## EDA : Exploratory Data Analysis\n",
    "Exploratory Data Analysis refers to the critical process of performing initial investigations on data so as to discover patterns,to spot anomalies,to test hypothesis and to check assumptions with the help of summary statistics and graphical representations."
   ]
  },
  {
   "cell_type": "markdown",
   "id": "8f6b479f",
   "metadata": {},
   "source": [
    "## About dataset\n",
    "A retail company “ABC Private Limited” wants to understand the customer purchase behaviour (specifically, purchase amount) against various products of different categories. They have shared purchase summary of various customers for selected high volume products from last month.\n",
    "The data set also contains customer demographics (age, gender, marital status, citytype, stayincurrentcity), product details (productid and product category) and Total purchaseamount from last month.\n",
    "______________________________________________________________"
   ]
  },
  {
   "cell_type": "markdown",
   "id": "1cfdb5de",
   "metadata": {},
   "source": [
    "Importing required modules for data manipulation and visiualization"
   ]
  },
  {
   "cell_type": "code",
   "execution_count": 1,
   "id": "38940e99",
   "metadata": {},
   "outputs": [],
   "source": [
    "import numpy as np\n",
    "import pandas as pd\n",
    "import matplotlib.pyplot as plt\n",
    "import seaborn as sns\n",
    "%matplotlib inline"
   ]
  },
  {
   "cell_type": "markdown",
   "id": "6f59ef42",
   "metadata": {},
   "source": [
    "Reading Black Friday Sales dataset"
   ]
  },
  {
   "cell_type": "code",
   "execution_count": 2,
   "id": "ce41c324",
   "metadata": {},
   "outputs": [
    {
     "data": {
      "text/html": [
       "<div>\n",
       "<style scoped>\n",
       "    .dataframe tbody tr th:only-of-type {\n",
       "        vertical-align: middle;\n",
       "    }\n",
       "\n",
       "    .dataframe tbody tr th {\n",
       "        vertical-align: top;\n",
       "    }\n",
       "\n",
       "    .dataframe thead th {\n",
       "        text-align: right;\n",
       "    }\n",
       "</style>\n",
       "<table border=\"1\" class=\"dataframe\">\n",
       "  <thead>\n",
       "    <tr style=\"text-align: right;\">\n",
       "      <th></th>\n",
       "      <th>User_ID</th>\n",
       "      <th>Product_ID</th>\n",
       "      <th>Gender</th>\n",
       "      <th>Age</th>\n",
       "      <th>Occupation</th>\n",
       "      <th>City_Category</th>\n",
       "      <th>Stay_In_Current_City_Years</th>\n",
       "      <th>Marital_Status</th>\n",
       "      <th>Product_Category_1</th>\n",
       "      <th>Product_Category_2</th>\n",
       "      <th>Product_Category_3</th>\n",
       "      <th>Purchase</th>\n",
       "    </tr>\n",
       "  </thead>\n",
       "  <tbody>\n",
       "    <tr>\n",
       "      <th>0</th>\n",
       "      <td>1000001</td>\n",
       "      <td>P00069042</td>\n",
       "      <td>F</td>\n",
       "      <td>0-17</td>\n",
       "      <td>10</td>\n",
       "      <td>A</td>\n",
       "      <td>2</td>\n",
       "      <td>0</td>\n",
       "      <td>3</td>\n",
       "      <td>NaN</td>\n",
       "      <td>NaN</td>\n",
       "      <td>8370</td>\n",
       "    </tr>\n",
       "    <tr>\n",
       "      <th>1</th>\n",
       "      <td>1000001</td>\n",
       "      <td>P00248942</td>\n",
       "      <td>F</td>\n",
       "      <td>0-17</td>\n",
       "      <td>10</td>\n",
       "      <td>A</td>\n",
       "      <td>2</td>\n",
       "      <td>0</td>\n",
       "      <td>1</td>\n",
       "      <td>6.0</td>\n",
       "      <td>14.0</td>\n",
       "      <td>15200</td>\n",
       "    </tr>\n",
       "    <tr>\n",
       "      <th>2</th>\n",
       "      <td>1000001</td>\n",
       "      <td>P00087842</td>\n",
       "      <td>F</td>\n",
       "      <td>0-17</td>\n",
       "      <td>10</td>\n",
       "      <td>A</td>\n",
       "      <td>2</td>\n",
       "      <td>0</td>\n",
       "      <td>12</td>\n",
       "      <td>NaN</td>\n",
       "      <td>NaN</td>\n",
       "      <td>1422</td>\n",
       "    </tr>\n",
       "  </tbody>\n",
       "</table>\n",
       "</div>"
      ],
      "text/plain": [
       "   User_ID Product_ID Gender   Age  Occupation City_Category  \\\n",
       "0  1000001  P00069042      F  0-17          10             A   \n",
       "1  1000001  P00248942      F  0-17          10             A   \n",
       "2  1000001  P00087842      F  0-17          10             A   \n",
       "\n",
       "  Stay_In_Current_City_Years  Marital_Status  Product_Category_1  \\\n",
       "0                          2               0                   3   \n",
       "1                          2               0                   1   \n",
       "2                          2               0                  12   \n",
       "\n",
       "   Product_Category_2  Product_Category_3  Purchase  \n",
       "0                 NaN                 NaN      8370  \n",
       "1                 6.0                14.0     15200  \n",
       "2                 NaN                 NaN      1422  "
      ]
     },
     "execution_count": 2,
     "metadata": {},
     "output_type": "execute_result"
    }
   ],
   "source": [
    "bfs = pd.read_csv(\"C:/Data/Study/Ai_adventures/Projects/02 Black Friday Sales_EDA/train.csv\")\n",
    "bfs.head(3)"
   ]
  },
  {
   "cell_type": "markdown",
   "id": "0360e2f3",
   "metadata": {},
   "source": [
    "### DATA PREPROCESSING "
   ]
  },
  {
   "cell_type": "markdown",
   "id": "2c7f8d6e",
   "metadata": {},
   "source": [
    "#### - Information about dataset"
   ]
  },
  {
   "cell_type": "code",
   "execution_count": 3,
   "id": "25ff866f",
   "metadata": {},
   "outputs": [
    {
     "data": {
      "text/html": [
       "<div>\n",
       "<style scoped>\n",
       "    .dataframe tbody tr th:only-of-type {\n",
       "        vertical-align: middle;\n",
       "    }\n",
       "\n",
       "    .dataframe tbody tr th {\n",
       "        vertical-align: top;\n",
       "    }\n",
       "\n",
       "    .dataframe thead th {\n",
       "        text-align: right;\n",
       "    }\n",
       "</style>\n",
       "<table border=\"1\" class=\"dataframe\">\n",
       "  <thead>\n",
       "    <tr style=\"text-align: right;\">\n",
       "      <th></th>\n",
       "      <th>User_ID</th>\n",
       "      <th>Occupation</th>\n",
       "      <th>Marital_Status</th>\n",
       "      <th>Product_Category_1</th>\n",
       "      <th>Product_Category_2</th>\n",
       "      <th>Product_Category_3</th>\n",
       "      <th>Purchase</th>\n",
       "    </tr>\n",
       "  </thead>\n",
       "  <tbody>\n",
       "    <tr>\n",
       "      <th>count</th>\n",
       "      <td>5.500680e+05</td>\n",
       "      <td>550068.000000</td>\n",
       "      <td>550068.000000</td>\n",
       "      <td>550068.000000</td>\n",
       "      <td>376430.000000</td>\n",
       "      <td>166821.000000</td>\n",
       "      <td>550068.000000</td>\n",
       "    </tr>\n",
       "    <tr>\n",
       "      <th>mean</th>\n",
       "      <td>1.003029e+06</td>\n",
       "      <td>8.076707</td>\n",
       "      <td>0.409653</td>\n",
       "      <td>5.404270</td>\n",
       "      <td>9.842329</td>\n",
       "      <td>12.668243</td>\n",
       "      <td>9263.968713</td>\n",
       "    </tr>\n",
       "    <tr>\n",
       "      <th>std</th>\n",
       "      <td>1.727592e+03</td>\n",
       "      <td>6.522660</td>\n",
       "      <td>0.491770</td>\n",
       "      <td>3.936211</td>\n",
       "      <td>5.086590</td>\n",
       "      <td>4.125338</td>\n",
       "      <td>5023.065394</td>\n",
       "    </tr>\n",
       "    <tr>\n",
       "      <th>min</th>\n",
       "      <td>1.000001e+06</td>\n",
       "      <td>0.000000</td>\n",
       "      <td>0.000000</td>\n",
       "      <td>1.000000</td>\n",
       "      <td>2.000000</td>\n",
       "      <td>3.000000</td>\n",
       "      <td>12.000000</td>\n",
       "    </tr>\n",
       "    <tr>\n",
       "      <th>25%</th>\n",
       "      <td>1.001516e+06</td>\n",
       "      <td>2.000000</td>\n",
       "      <td>0.000000</td>\n",
       "      <td>1.000000</td>\n",
       "      <td>5.000000</td>\n",
       "      <td>9.000000</td>\n",
       "      <td>5823.000000</td>\n",
       "    </tr>\n",
       "    <tr>\n",
       "      <th>50%</th>\n",
       "      <td>1.003077e+06</td>\n",
       "      <td>7.000000</td>\n",
       "      <td>0.000000</td>\n",
       "      <td>5.000000</td>\n",
       "      <td>9.000000</td>\n",
       "      <td>14.000000</td>\n",
       "      <td>8047.000000</td>\n",
       "    </tr>\n",
       "    <tr>\n",
       "      <th>75%</th>\n",
       "      <td>1.004478e+06</td>\n",
       "      <td>14.000000</td>\n",
       "      <td>1.000000</td>\n",
       "      <td>8.000000</td>\n",
       "      <td>15.000000</td>\n",
       "      <td>16.000000</td>\n",
       "      <td>12054.000000</td>\n",
       "    </tr>\n",
       "    <tr>\n",
       "      <th>max</th>\n",
       "      <td>1.006040e+06</td>\n",
       "      <td>20.000000</td>\n",
       "      <td>1.000000</td>\n",
       "      <td>20.000000</td>\n",
       "      <td>18.000000</td>\n",
       "      <td>18.000000</td>\n",
       "      <td>23961.000000</td>\n",
       "    </tr>\n",
       "  </tbody>\n",
       "</table>\n",
       "</div>"
      ],
      "text/plain": [
       "            User_ID     Occupation  Marital_Status  Product_Category_1  \\\n",
       "count  5.500680e+05  550068.000000   550068.000000       550068.000000   \n",
       "mean   1.003029e+06       8.076707        0.409653            5.404270   \n",
       "std    1.727592e+03       6.522660        0.491770            3.936211   \n",
       "min    1.000001e+06       0.000000        0.000000            1.000000   \n",
       "25%    1.001516e+06       2.000000        0.000000            1.000000   \n",
       "50%    1.003077e+06       7.000000        0.000000            5.000000   \n",
       "75%    1.004478e+06      14.000000        1.000000            8.000000   \n",
       "max    1.006040e+06      20.000000        1.000000           20.000000   \n",
       "\n",
       "       Product_Category_2  Product_Category_3       Purchase  \n",
       "count       376430.000000       166821.000000  550068.000000  \n",
       "mean             9.842329           12.668243    9263.968713  \n",
       "std              5.086590            4.125338    5023.065394  \n",
       "min              2.000000            3.000000      12.000000  \n",
       "25%              5.000000            9.000000    5823.000000  \n",
       "50%              9.000000           14.000000    8047.000000  \n",
       "75%             15.000000           16.000000   12054.000000  \n",
       "max             18.000000           18.000000   23961.000000  "
      ]
     },
     "execution_count": 3,
     "metadata": {},
     "output_type": "execute_result"
    }
   ],
   "source": [
    "bfs.describe()"
   ]
  },
  {
   "cell_type": "code",
   "execution_count": 4,
   "id": "8ad594ac",
   "metadata": {},
   "outputs": [
    {
     "name": "stdout",
     "output_type": "stream",
     "text": [
      "<class 'pandas.core.frame.DataFrame'>\n",
      "RangeIndex: 550068 entries, 0 to 550067\n",
      "Data columns (total 12 columns):\n",
      " #   Column                      Non-Null Count   Dtype  \n",
      "---  ------                      --------------   -----  \n",
      " 0   User_ID                     550068 non-null  int64  \n",
      " 1   Product_ID                  550068 non-null  object \n",
      " 2   Gender                      550068 non-null  object \n",
      " 3   Age                         550068 non-null  object \n",
      " 4   Occupation                  550068 non-null  int64  \n",
      " 5   City_Category               550068 non-null  object \n",
      " 6   Stay_In_Current_City_Years  550068 non-null  object \n",
      " 7   Marital_Status              550068 non-null  int64  \n",
      " 8   Product_Category_1          550068 non-null  int64  \n",
      " 9   Product_Category_2          376430 non-null  float64\n",
      " 10  Product_Category_3          166821 non-null  float64\n",
      " 11  Purchase                    550068 non-null  int64  \n",
      "dtypes: float64(2), int64(5), object(5)\n",
      "memory usage: 50.4+ MB\n"
     ]
    }
   ],
   "source": [
    "bfs.info()"
   ]
  },
  {
   "cell_type": "markdown",
   "id": "ba1bb437",
   "metadata": {},
   "source": [
    "This means that the columns Product_Category_2,Product_Category_3 contain 173638,383247 null values respectively  "
   ]
  },
  {
   "cell_type": "markdown",
   "id": "25c7280d",
   "metadata": {},
   "source": [
    "#### - Renaming columns"
   ]
  },
  {
   "cell_type": "code",
   "execution_count": 5,
   "id": "73bc0496",
   "metadata": {},
   "outputs": [
    {
     "data": {
      "text/plain": [
       "Index(['User_ID', 'Product_ID', 'Gender', 'Age', 'Occupation', 'City_Category',\n",
       "       'Stay_In_Current_City_Years', 'Marital_Status', 'Product_Category_1',\n",
       "       'Product_Category_2', 'Product_Category_3', 'Purchase'],\n",
       "      dtype='object')"
      ]
     },
     "execution_count": 5,
     "metadata": {},
     "output_type": "execute_result"
    }
   ],
   "source": [
    "bfs.columns"
   ]
  },
  {
   "cell_type": "code",
   "execution_count": 6,
   "id": "b13377d9",
   "metadata": {},
   "outputs": [
    {
     "data": {
      "text/plain": [
       "Index(['User_ID', 'Product_ID', 'Gender', 'Age', 'Occupation', 'City',\n",
       "       'Duration', 'Married', 'Product 1', 'Product 2', 'Product 3',\n",
       "       'Purchase'],\n",
       "      dtype='object')"
      ]
     },
     "execution_count": 6,
     "metadata": {},
     "output_type": "execute_result"
    }
   ],
   "source": [
    "bfs.rename(columns={\"City_Category\":\"City\",\n",
    "                   \"Stay_In_Current_City_Years\":\"Duration\",\n",
    "                   \"Marital_Status\":\"Married\",\n",
    "                   \"Product_Category_1\":\"Product 1\",\n",
    "                   \"Product_Category_2\":\"Product 2\",\n",
    "                   \"Product_Category_3\":\"Product 3\"},inplace=True)\n",
    "bfs.columns"
   ]
  },
  {
   "cell_type": "markdown",
   "id": "0ef195a1",
   "metadata": {},
   "source": [
    "#### - Checking for duplicate records"
   ]
  },
  {
   "cell_type": "code",
   "execution_count": 7,
   "id": "ce8f0710",
   "metadata": {},
   "outputs": [
    {
     "data": {
      "text/plain": [
       "False    550068\n",
       "dtype: int64"
      ]
     },
     "execution_count": 7,
     "metadata": {},
     "output_type": "execute_result"
    }
   ],
   "source": [
    "bfs.duplicated().value_counts()"
   ]
  },
  {
   "cell_type": "markdown",
   "id": "6b83af5c",
   "metadata": {},
   "source": [
    "This infers that there are no duplicate records in the dataset"
   ]
  },
  {
   "cell_type": "markdown",
   "id": "457cc081",
   "metadata": {},
   "source": [
    "#### - Individual column processing "
   ]
  },
  {
   "cell_type": "code",
   "execution_count": 8,
   "id": "5776565c",
   "metadata": {
    "scrolled": true
   },
   "outputs": [
    {
     "data": {
      "text/plain": [
       "M    414259\n",
       "F    135809\n",
       "Name: Gender, dtype: int64"
      ]
     },
     "execution_count": 8,
     "metadata": {},
     "output_type": "execute_result"
    }
   ],
   "source": [
    "bfs.Gender.value_counts()"
   ]
  },
  {
   "cell_type": "markdown",
   "id": "1e0f94b0",
   "metadata": {},
   "source": [
    "Gender column consists of only two values \"M\" and \"F\" and do not have any null values, which is the required format so we do not need to make any changes"
   ]
  },
  {
   "cell_type": "code",
   "execution_count": 9,
   "id": "b840d88b",
   "metadata": {},
   "outputs": [
    {
     "data": {
      "text/plain": [
       "26-35    219587\n",
       "36-45    110013\n",
       "18-25     99660\n",
       "46-50     45701\n",
       "51-55     38501\n",
       "55+       21504\n",
       "0-17      15102\n",
       "Name: Age, dtype: int64"
      ]
     },
     "execution_count": 9,
     "metadata": {},
     "output_type": "execute_result"
    }
   ],
   "source": [
    "bfs.Age.value_counts()"
   ]
  },
  {
   "cell_type": "markdown",
   "id": "2798aa4f",
   "metadata": {},
   "source": [
    "Here we will convert the range of age to categories;\n",
    "\n",
    "0-25 : Adult\n",
    "\n",
    "26-50 : Middle-aged\n",
    "\n",
    "51+ : Old-aged"
   ]
  },
  {
   "cell_type": "code",
   "execution_count": 10,
   "id": "98949a08",
   "metadata": {},
   "outputs": [
    {
     "data": {
      "text/plain": [
       "Middle-aged    375301\n",
       "Adult          114762\n",
       "Old-aged        60005\n",
       "Name: Age, dtype: int64"
      ]
     },
     "execution_count": 10,
     "metadata": {},
     "output_type": "execute_result"
    }
   ],
   "source": [
    "bfs.replace({\"Age\":{\n",
    "    \"0-17\":\"Adult\",\"18-25\":\"Adult\",\n",
    "    \"26-35\":\"Middle-aged\",\"36-45\":\"Middle-aged\",\"46-50\":\"Middle-aged\",\n",
    "    \"51-55\":\"Old-aged\",\"55+\":\"Old-aged\"}},inplace=True)\n",
    "bfs.Age.value_counts()"
   ]
  },
  {
   "cell_type": "markdown",
   "id": "e74cd97e",
   "metadata": {},
   "source": [
    "Here we have successfully classified the age groups in three categories"
   ]
  },
  {
   "cell_type": "code",
   "execution_count": 11,
   "id": "c271857b",
   "metadata": {},
   "outputs": [
    {
     "data": {
      "text/html": [
       "<div>\n",
       "<style scoped>\n",
       "    .dataframe tbody tr th:only-of-type {\n",
       "        vertical-align: middle;\n",
       "    }\n",
       "\n",
       "    .dataframe tbody tr th {\n",
       "        vertical-align: top;\n",
       "    }\n",
       "\n",
       "    .dataframe thead th {\n",
       "        text-align: right;\n",
       "    }\n",
       "</style>\n",
       "<table border=\"1\" class=\"dataframe\">\n",
       "  <thead>\n",
       "    <tr style=\"text-align: right;\">\n",
       "      <th></th>\n",
       "      <th>User_ID</th>\n",
       "      <th>Product_ID</th>\n",
       "      <th>Gender</th>\n",
       "      <th>Age</th>\n",
       "      <th>Occupation</th>\n",
       "      <th>City</th>\n",
       "      <th>Duration</th>\n",
       "      <th>Married</th>\n",
       "      <th>Product 1</th>\n",
       "      <th>Product 2</th>\n",
       "      <th>Product 3</th>\n",
       "      <th>Purchase</th>\n",
       "    </tr>\n",
       "  </thead>\n",
       "  <tbody>\n",
       "    <tr>\n",
       "      <th>0</th>\n",
       "      <td>1000001</td>\n",
       "      <td>P00069042</td>\n",
       "      <td>F</td>\n",
       "      <td>Adult</td>\n",
       "      <td>10</td>\n",
       "      <td>A</td>\n",
       "      <td>2</td>\n",
       "      <td>0</td>\n",
       "      <td>3</td>\n",
       "      <td>NaN</td>\n",
       "      <td>NaN</td>\n",
       "      <td>8370</td>\n",
       "    </tr>\n",
       "    <tr>\n",
       "      <th>1</th>\n",
       "      <td>1000001</td>\n",
       "      <td>P00248942</td>\n",
       "      <td>F</td>\n",
       "      <td>Adult</td>\n",
       "      <td>10</td>\n",
       "      <td>A</td>\n",
       "      <td>2</td>\n",
       "      <td>0</td>\n",
       "      <td>1</td>\n",
       "      <td>6.0</td>\n",
       "      <td>14.0</td>\n",
       "      <td>15200</td>\n",
       "    </tr>\n",
       "    <tr>\n",
       "      <th>2</th>\n",
       "      <td>1000001</td>\n",
       "      <td>P00087842</td>\n",
       "      <td>F</td>\n",
       "      <td>Adult</td>\n",
       "      <td>10</td>\n",
       "      <td>A</td>\n",
       "      <td>2</td>\n",
       "      <td>0</td>\n",
       "      <td>12</td>\n",
       "      <td>NaN</td>\n",
       "      <td>NaN</td>\n",
       "      <td>1422</td>\n",
       "    </tr>\n",
       "  </tbody>\n",
       "</table>\n",
       "</div>"
      ],
      "text/plain": [
       "   User_ID Product_ID Gender    Age  Occupation City Duration  Married  \\\n",
       "0  1000001  P00069042      F  Adult          10    A        2        0   \n",
       "1  1000001  P00248942      F  Adult          10    A        2        0   \n",
       "2  1000001  P00087842      F  Adult          10    A        2        0   \n",
       "\n",
       "   Product 1  Product 2  Product 3  Purchase  \n",
       "0          3        NaN        NaN      8370  \n",
       "1          1        6.0       14.0     15200  \n",
       "2         12        NaN        NaN      1422  "
      ]
     },
     "execution_count": 11,
     "metadata": {},
     "output_type": "execute_result"
    }
   ],
   "source": [
    "bfs.head(3)"
   ]
  },
  {
   "cell_type": "markdown",
   "id": "c1b92f0a",
   "metadata": {},
   "source": [
    "#### - Processing null values\n",
    "\n",
    "Only columns Product_Category_2, Product_Category_3 contain null values , so we will replace null values with 0, assuming 0 stands for Unknown category "
   ]
  },
  {
   "cell_type": "code",
   "execution_count": 32,
   "id": "05bdb8b8",
   "metadata": {},
   "outputs": [
    {
     "data": {
      "text/plain": [
       "(8.0, 16.0)"
      ]
     },
     "execution_count": 32,
     "metadata": {},
     "output_type": "execute_result"
    }
   ],
   "source": [
    "a1,b1=[(bfs[bfs.loc[:,\"City\"]==\"A\"]).groupby(\"Product 2\")[\"Product 2\"].count().idxmax(),(bfs[bfs.loc[:,\"City\"]==\"A\"]).groupby(\"Product 3\")[\"Product 3\"].count().idxmax()]\n",
    "a1,b1"
   ]
  },
  {
   "cell_type": "code",
   "execution_count": 33,
   "id": "bacf0640",
   "metadata": {},
   "outputs": [
    {
     "data": {
      "text/plain": [
       "(8.0, 16.0)"
      ]
     },
     "execution_count": 33,
     "metadata": {},
     "output_type": "execute_result"
    }
   ],
   "source": [
    "a2,b2=[(bfs[bfs.loc[:,\"City\"]==\"B\"]).groupby(\"Product 2\")[\"Product 2\"].count().idxmax(),(bfs[bfs.loc[:,\"City\"]==\"B\"]).groupby(\"Product 3\")[\"Product 3\"].count().idxmax()]\n",
    "a2,b2"
   ]
  },
  {
   "cell_type": "code",
   "execution_count": 34,
   "id": "d7db5720",
   "metadata": {},
   "outputs": [
    {
     "data": {
      "text/plain": [
       "(8.0, 16.0)"
      ]
     },
     "execution_count": 34,
     "metadata": {},
     "output_type": "execute_result"
    }
   ],
   "source": [
    "a3,b3=[(bfs[bfs.loc[:,\"City\"]==\"C\"]).groupby(\"Product 2\")[\"Product 2\"].count().idxmax(),(bfs[bfs.loc[:,\"City\"]==\"C\"]).groupby(\"Product 3\")[\"Product 3\"].count().idxmax()]\n",
    "a3,b3"
   ]
  },
  {
   "cell_type": "markdown",
   "id": "fe45c6cd",
   "metadata": {},
   "source": [
    "In city A,B,C product 2 of category 8 and product 3 of category 16 is purchased maximum number of times , so we will fill all the null values according according to this criteria"
   ]
  },
  {
   "cell_type": "code",
   "execution_count": 18,
   "id": "b5e26011",
   "metadata": {},
   "outputs": [
    {
     "data": {
      "text/plain": [
       "<AxesSubplot:xlabel='City'>"
      ]
     },
     "execution_count": 18,
     "metadata": {},
     "output_type": "execute_result"
    },
    {
     "data": {
      "image/png": "[encoded data removed]",
      "text/plain": [
       "<Figure size 432x288 with 1 Axes>"
      ]
     },
     "metadata": {
      "needs_background": "light"
     },
     "output_type": "display_data"
    }
   ],
   "source": [
    "bfs.loc[:,['City',\"Product 1\",\"Product 2\",\"Product 3\"]].groupby(\"City\")[[\"Product 1\",\"Product 2\",\"Product 3\"]].agg([\"count\"]).plot(kind=\"bar\")"
   ]
  },
  {
   "cell_type": "markdown",
   "id": "027e4188",
   "metadata": {},
   "source": [
    "Inferences;\n",
    "- Purchase of Product 1 is maximum in all 3 cities\n",
    "- Product 1 is purchased maximum number of times from customers of city B followed by city C and at the last city  A\n",
    "- Product 2 is purchased maximum number of times from customers of city B followed by city C and at the last city  A\n",
    "- Product 3 is purchased maximum number of times from customers of city B followed by city C and at the last city  A"
   ]
  },
  {
   "cell_type": "code",
   "execution_count": 35,
   "id": "83048fbc",
   "metadata": {},
   "outputs": [],
   "source": [
    "bfs.loc[(bfs.loc[:,\"City\"]==\"A\") & (bfs[\"Product 2\"].isnull()),\"Product 2\"]=a1\n",
    "bfs.loc[(bfs.loc[:,\"City\"]==\"A\") & (bfs[\"Product 3\"].isnull()),\"Product 3\"]=b1\n",
    "bfs.loc[(bfs.loc[:,\"City\"]==\"B\") & (bfs[\"Product 2\"].isnull()),\"Product 2\"]=a2\n",
    "bfs.loc[(bfs.loc[:,\"City\"]==\"B\") & (bfs[\"Product 3\"].isnull()),\"Product 3\"]=b2\n",
    "bfs.loc[(bfs.loc[:,\"City\"]==\"C\") & (bfs[\"Product 2\"].isnull()),\"Product 2\"]=a3\n",
    "bfs.loc[(bfs.loc[:,\"City\"]==\"C\") & (bfs[\"Product 3\"].isnull()),\"Product 3\"]=b3"
   ]
  },
  {
   "cell_type": "code",
   "execution_count": 36,
   "id": "7125e691",
   "metadata": {},
   "outputs": [
    {
     "name": "stdout",
     "output_type": "stream",
     "text": [
      "<class 'pandas.core.frame.DataFrame'>\n",
      "RangeIndex: 550068 entries, 0 to 550067\n",
      "Data columns (total 12 columns):\n",
      " #   Column      Non-Null Count   Dtype  \n",
      "---  ------      --------------   -----  \n",
      " 0   User_ID     550068 non-null  int64  \n",
      " 1   Product_ID  550068 non-null  object \n",
      " 2   Gender      550068 non-null  object \n",
      " 3   Age         550068 non-null  object \n",
      " 4   Occupation  550068 non-null  int64  \n",
      " 5   City        550068 non-null  object \n",
      " 6   Duration    550068 non-null  object \n",
      " 7   Married     550068 non-null  int64  \n",
      " 8   Product 1   550068 non-null  int64  \n",
      " 9   Product 2   550068 non-null  float64\n",
      " 10  Product 3   550068 non-null  float64\n",
      " 11  Purchase    550068 non-null  int64  \n",
      "dtypes: float64(2), int64(5), object(5)\n",
      "memory usage: 50.4+ MB\n"
     ]
    }
   ],
   "source": [
    "bfs.info()"
   ]
  },
  {
   "cell_type": "markdown",
   "id": "6fe73c4a",
   "metadata": {},
   "source": [
    "Here we have successfully handled all the null values"
   ]
  },
  {
   "cell_type": "markdown",
   "id": "11962f13",
   "metadata": {},
   "source": [
    "### DATA VISUALISATION"
   ]
  },
  {
   "cell_type": "code",
   "execution_count": 22,
   "id": "e34ff627",
   "metadata": {},
   "outputs": [
    {
     "data": {
      "text/html": [
       "<div>\n",
       "<style scoped>\n",
       "    .dataframe tbody tr th:only-of-type {\n",
       "        vertical-align: middle;\n",
       "    }\n",
       "\n",
       "    .dataframe tbody tr th {\n",
       "        vertical-align: top;\n",
       "    }\n",
       "\n",
       "    .dataframe thead th {\n",
       "        text-align: right;\n",
       "    }\n",
       "</style>\n",
       "<table border=\"1\" class=\"dataframe\">\n",
       "  <thead>\n",
       "    <tr style=\"text-align: right;\">\n",
       "      <th></th>\n",
       "      <th>User_ID</th>\n",
       "      <th>Product_ID</th>\n",
       "      <th>Gender</th>\n",
       "      <th>Age</th>\n",
       "      <th>Occupation</th>\n",
       "      <th>City</th>\n",
       "      <th>Duration</th>\n",
       "      <th>Married</th>\n",
       "      <th>Product 1</th>\n",
       "      <th>Product 2</th>\n",
       "      <th>Product 3</th>\n",
       "      <th>Purchase</th>\n",
       "    </tr>\n",
       "  </thead>\n",
       "  <tbody>\n",
       "    <tr>\n",
       "      <th>0</th>\n",
       "      <td>1000001</td>\n",
       "      <td>P00069042</td>\n",
       "      <td>F</td>\n",
       "      <td>Adult</td>\n",
       "      <td>10</td>\n",
       "      <td>A</td>\n",
       "      <td>2</td>\n",
       "      <td>0</td>\n",
       "      <td>3</td>\n",
       "      <td>8.0</td>\n",
       "      <td>16.0</td>\n",
       "      <td>8370</td>\n",
       "    </tr>\n",
       "    <tr>\n",
       "      <th>1</th>\n",
       "      <td>1000001</td>\n",
       "      <td>P00248942</td>\n",
       "      <td>F</td>\n",
       "      <td>Adult</td>\n",
       "      <td>10</td>\n",
       "      <td>A</td>\n",
       "      <td>2</td>\n",
       "      <td>0</td>\n",
       "      <td>1</td>\n",
       "      <td>6.0</td>\n",
       "      <td>14.0</td>\n",
       "      <td>15200</td>\n",
       "    </tr>\n",
       "    <tr>\n",
       "      <th>2</th>\n",
       "      <td>1000001</td>\n",
       "      <td>P00087842</td>\n",
       "      <td>F</td>\n",
       "      <td>Adult</td>\n",
       "      <td>10</td>\n",
       "      <td>A</td>\n",
       "      <td>2</td>\n",
       "      <td>0</td>\n",
       "      <td>12</td>\n",
       "      <td>8.0</td>\n",
       "      <td>16.0</td>\n",
       "      <td>1422</td>\n",
       "    </tr>\n",
       "    <tr>\n",
       "      <th>3</th>\n",
       "      <td>1000001</td>\n",
       "      <td>P00085442</td>\n",
       "      <td>F</td>\n",
       "      <td>Adult</td>\n",
       "      <td>10</td>\n",
       "      <td>A</td>\n",
       "      <td>2</td>\n",
       "      <td>0</td>\n",
       "      <td>12</td>\n",
       "      <td>14.0</td>\n",
       "      <td>16.0</td>\n",
       "      <td>1057</td>\n",
       "    </tr>\n",
       "    <tr>\n",
       "      <th>4</th>\n",
       "      <td>1000002</td>\n",
       "      <td>P00285442</td>\n",
       "      <td>M</td>\n",
       "      <td>Old-aged</td>\n",
       "      <td>16</td>\n",
       "      <td>C</td>\n",
       "      <td>4+</td>\n",
       "      <td>0</td>\n",
       "      <td>8</td>\n",
       "      <td>8.0</td>\n",
       "      <td>16.0</td>\n",
       "      <td>7969</td>\n",
       "    </tr>\n",
       "  </tbody>\n",
       "</table>\n",
       "</div>"
      ],
      "text/plain": [
       "   User_ID Product_ID Gender       Age  Occupation City Duration  Married  \\\n",
       "0  1000001  P00069042      F     Adult          10    A        2        0   \n",
       "1  1000001  P00248942      F     Adult          10    A        2        0   \n",
       "2  1000001  P00087842      F     Adult          10    A        2        0   \n",
       "3  1000001  P00085442      F     Adult          10    A        2        0   \n",
       "4  1000002  P00285442      M  Old-aged          16    C       4+        0   \n",
       "\n",
       "   Product 1  Product 2  Product 3  Purchase  \n",
       "0          3        8.0       16.0      8370  \n",
       "1          1        6.0       14.0     15200  \n",
       "2         12        8.0       16.0      1422  \n",
       "3         12       14.0       16.0      1057  \n",
       "4          8        8.0       16.0      7969  "
      ]
     },
     "execution_count": 22,
     "metadata": {},
     "output_type": "execute_result"
    }
   ],
   "source": [
    "bfs.head()"
   ]
  },
  {
   "cell_type": "code",
   "execution_count": 23,
   "id": "7223421f",
   "metadata": {},
   "outputs": [
    {
     "data": {
      "text/plain": [
       "<AxesSubplot:>"
      ]
     },
     "execution_count": 23,
     "metadata": {},
     "output_type": "execute_result"
    },
    {
     "data": {
      "image/png": "[encoded data removed]",
      "text/plain": [
       "<Figure size 432x216 with 1 Axes>"
      ]
     },
     "metadata": {
      "needs_background": "light"
     },
     "output_type": "display_data"
    }
   ],
   "source": [
    "d = bfs.User_ID.value_counts().nlargest(10)\n",
    "d.plot(kind=\"bar\",color=\"red\",figsize=(6,3))"
   ]
  },
  {
   "cell_type": "markdown",
   "id": "49af606c",
   "metadata": {},
   "source": [
    "Inferences;\n",
    "- Here we can infer that customer with ID 1001680 is most active in online purchasing followed by customer with ID 1004277"
   ]
  },
  {
   "cell_type": "code",
   "execution_count": 24,
   "id": "69fa6a30",
   "metadata": {},
   "outputs": [
    {
     "data": {
      "text/plain": [
       "<AxesSubplot:>"
      ]
     },
     "execution_count": 24,
     "metadata": {},
     "output_type": "execute_result"
    },
    {
     "data": {
      "image/png": "[encoded data removed]",
      "text/plain": [
       "<Figure size 432x216 with 1 Axes>"
      ]
     },
     "metadata": {
      "needs_background": "light"
     },
     "output_type": "display_data"
    }
   ],
   "source": [
    "d = bfs.Product_ID.value_counts().nlargest(15)\n",
    "d.plot(kind=\"bar\",color=\"green\",figsize=(6,3))"
   ]
  },
  {
   "cell_type": "markdown",
   "id": "24d48c8b",
   "metadata": {},
   "source": [
    "Inferences;\n",
    "- Here we can infer that product with ID P00265242 is purchased most number of times followed by product with ID P00025442 and P00112142"
   ]
  },
  {
   "cell_type": "code",
   "execution_count": 25,
   "id": "7bdab442",
   "metadata": {},
   "outputs": [
    {
     "data": {
      "text/plain": [
       "<AxesSubplot:xlabel='Age', ylabel='count'>"
      ]
     },
     "execution_count": 25,
     "metadata": {},
     "output_type": "execute_result"
    },
    {
     "data": {
      "image/png": "[encoded data removed]",
      "text/plain": [
       "<Figure size 1080x288 with 3 Axes>"
      ]
     },
     "metadata": {
      "needs_background": "light"
     },
     "output_type": "display_data"
    }
   ],
   "source": [
    "plt.figure(figsize=(15,4))\n",
    "sns.countplot(x=\"Gender\",data=bfs,hue=\"Age\",palette=\"inferno\",ax=plt.subplot(1,3,3))\n",
    "sns.countplot(x=\"Gender\",data=bfs,palette=\"inferno\",ax=plt.subplot(1,3,2))\n",
    "sns.countplot(x=\"Age\",data=bfs,palette=\"inferno\",ax=plt.subplot(1,3,1))"
   ]
  },
  {
   "cell_type": "markdown",
   "id": "57f30e91",
   "metadata": {},
   "source": [
    "Inferences;\n",
    "- Middle-aged people are most active members in online shopping \n",
    "- Male population is more active in online shopping\n",
    "- Contrary to second inference it can be observed that Middle-aged female are more active as compared to old-aged and adult males\n"
   ]
  },
  {
   "cell_type": "code",
   "execution_count": 26,
   "id": "0237fd76",
   "metadata": {
    "scrolled": true
   },
   "outputs": [
    {
     "data": {
      "text/plain": [
       "<AxesSubplot:xlabel='City', ylabel='count'>"
      ]
     },
     "execution_count": 26,
     "metadata": {},
     "output_type": "execute_result"
    },
    {
     "data": {
      "image/png": "[encoded data removed]",
      "text/plain": [
       "<Figure size 432x288 with 1 Axes>"
      ]
     },
     "metadata": {
      "needs_background": "light"
     },
     "output_type": "display_data"
    }
   ],
   "source": [
    "sns.countplot(x=\"City\",data=bfs,palette=\"inferno\")"
   ]
  },
  {
   "cell_type": "markdown",
   "id": "b88624d8",
   "metadata": {},
   "source": [
    "Inferences;\n",
    "- Most purchases are done by City B,followed by City C and at the last city A"
   ]
  },
  {
   "cell_type": "code",
   "execution_count": 27,
   "id": "d984e213",
   "metadata": {
    "scrolled": true
   },
   "outputs": [
    {
     "data": {
      "text/plain": [
       "<AxesSubplot:xlabel='City', ylabel='count'>"
      ]
     },
     "execution_count": 27,
     "metadata": {},
     "output_type": "execute_result"
    },
    {
     "data": {
      "image/png": "[encoded data removed]",
      "text/plain": [
       "<Figure size 432x288 with 1 Axes>"
      ]
     },
     "metadata": {
      "needs_background": "light"
     },
     "output_type": "display_data"
    }
   ],
   "source": [
    "sns.countplot(x=\"City\",data=bfs,hue=\"Age\",palette=\"inferno\")"
   ]
  },
  {
   "cell_type": "markdown",
   "id": "2542c3b0",
   "metadata": {},
   "source": [
    "Inferences;\n",
    "- City A consists least number of Old aged people shopping online \n",
    "- City A and city C consists equal number of Middle-aged people doing online shopping \n",
    "- City C consists of the maximum number of Old-aged people doing online shopping followed by city B"
   ]
  },
  {
   "cell_type": "code",
   "execution_count": 28,
   "id": "6804dd24",
   "metadata": {},
   "outputs": [
    {
     "data": {
      "text/plain": [
       "<AxesSubplot:title={'center':'Purchase'}>"
      ]
     },
     "execution_count": 28,
     "metadata": {},
     "output_type": "execute_result"
    },
    {
     "data": {
      "image/png": "[encoded data removed]",
      "text/plain": [
       "<Figure size 360x360 with 1 Axes>"
      ]
     },
     "metadata": {},
     "output_type": "display_data"
    }
   ],
   "source": [
    "d = (bfs.loc[:,'Product 1':'Product 3']!=0).sum()\n",
    "d.plot.pie(label=\"\",title=\"Purchase\",figsize=(5,5))"
   ]
  },
  {
   "cell_type": "markdown",
   "id": "33fb6098",
   "metadata": {},
   "source": [
    "inferences;\n",
    "- Product 1 is purchased maximum number of times followed by product 2 and at the last Product 2"
   ]
  },
  {
   "cell_type": "code",
   "execution_count": 29,
   "id": "4e6ca38f",
   "metadata": {},
   "outputs": [
    {
     "data": {
      "text/plain": [
       "<AxesSubplot:xlabel='Product 3', ylabel='Purchase'>"
      ]
     },
     "execution_count": 29,
     "metadata": {},
     "output_type": "execute_result"
    },
    {
     "data": {
      "image/png": "[encoded data removed]",
      "text/plain": [
       "<Figure size 1224x288 with 3 Axes>"
      ]
     },
     "metadata": {
      "needs_background": "light"
     },
     "output_type": "display_data"
    }
   ],
   "source": [
    "plt.figure(figsize=(17,4))\n",
    "d = bfs.loc[:,\"Product 1\":\"Purchase\"].astype(int)\n",
    "sns.barplot(x=\"Product 1\",y=\"Purchase\",data=d,ax=plt.subplot(1,3,1))\n",
    "sns.barplot(x=\"Product 2\",y=\"Purchase\",data=d,ax=plt.subplot(1,3,2))\n",
    "sns.barplot(x=\"Product 3\",y=\"Purchase\",data=d,ax=plt.subplot(1,3,3))"
   ]
  },
  {
   "cell_type": "markdown",
   "id": "5c2efc53",
   "metadata": {},
   "source": [
    "Inferences;\n",
    "- Product 1 of category 10 is purchased most number of times followed by category 7 then 6\n",
    "- Product 2 of category 10 is purchased most number of times followed by category 2 then 6\n",
    "- Product 3 of category 3 is purchased most number of times followed by category 10 then 13"
   ]
  },
  {
   "cell_type": "code",
   "execution_count": 30,
   "id": "5cf4a5ea",
   "metadata": {},
   "outputs": [
    {
     "data": {
      "text/plain": [
       "<AxesSubplot:xlabel='Occupation', ylabel='Purchase'>"
      ]
     },
     "execution_count": 30,
     "metadata": {},
     "output_type": "execute_result"
    },
    {
     "data": {
      "image/png": "[encoded data removed]",
      "text/plain": [
       "<Figure size 432x288 with 1 Axes>"
      ]
     },
     "metadata": {
      "needs_background": "light"
     },
     "output_type": "display_data"
    }
   ],
   "source": [
    "sns.barplot(x=\"Occupation\",y=\"Purchase\",data=bfs,palette=\"inferno\")"
   ]
  },
  {
   "cell_type": "markdown",
   "id": "05c7d3f7",
   "metadata": {},
   "source": [
    "Inferences;\n",
    "- Purchase rate of customers from occupation 12,15,17 is the highest"
   ]
  }
 ],
 "metadata": {
  "kernelspec": {
   "display_name": "Python 3 (ipykernel)",
   "language": "python",
   "name": "python3"
  },
  "language_info": {
   "codemirror_mode": {
    "name": "ipython",
    "version": 3
   },
   "file_extension": ".py",
   "mimetype": "text/x-python",
   "name": "python",
   "nbconvert_exporter": "python",
   "pygments_lexer": "ipython3",
   "version": "3.10.0"
  }
 },
 "nbformat": 4,
 "nbformat_minor": 5
}
