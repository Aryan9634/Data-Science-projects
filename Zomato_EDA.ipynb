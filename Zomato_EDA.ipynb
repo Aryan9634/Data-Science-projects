{
 "cells": [
  {
   "cell_type": "markdown",
   "id": "ed42425a",
   "metadata": {
    "papermill": {
     "duration": 0.026868,
     "end_time": "2022-11-25T07:02:45.449312",
     "exception": false,
     "start_time": "2022-11-25T07:02:45.422444",
     "status": "completed"
    },
    "tags": []
   },
   "source": [
    "## EDA : Exploratory Data Analysis\n",
    "Exploratory Data Analysis refers to the critical process of performing initial investigations on data so as to discover patterns,to spot anomalies,to test hypothesis and to check assumptions with the help of summary statistics and graphical representations.\n",
    "____________________________________________________________________________"
   ]
  },
  {
   "cell_type": "markdown",
   "id": "0ca8fdc0",
   "metadata": {
    "papermill": {
     "duration": 0.021201,
     "end_time": "2022-11-25T07:02:45.493307",
     "exception": false,
     "start_time": "2022-11-25T07:02:45.472106",
     "status": "completed"
    },
    "tags": []
   },
   "source": [
    "## Zomato EDA\n",
    "Zomato is food delivery company and multinational restaurant aggregator. Zomato Food Delivery service is\n",
    "available in 24 countries and more than 10,000 cities as of 2019. The major objective is to perform Exploratory\n",
    "Data Analysis, Geospatial Analysis and Sentiment analysis using Zomato dataset.\n",
    "_________________________________________________________________________"
   ]
  },
  {
   "cell_type": "markdown",
   "id": "2a8ed3ba",
   "metadata": {
    "papermill": {
     "duration": 0.021027,
     "end_time": "2022-11-25T07:02:45.535895",
     "exception": false,
     "start_time": "2022-11-25T07:02:45.514868",
     "status": "completed"
    },
    "tags": []
   },
   "source": [
    "Importing required modules for data manipulation and visiualization "
   ]
  },
  {
   "cell_type": "code",
   "execution_count": 1,
   "id": "e8844956",
   "metadata": {
    "execution": {
     "iopub.execute_input": "2022-11-25T07:02:45.583063Z",
     "iopub.status.busy": "2022-11-25T07:02:45.582016Z",
     "iopub.status.idle": "2022-11-25T07:02:46.841040Z",
     "shell.execute_reply": "2022-11-25T07:02:46.839831Z"
    },
    "papermill": {
     "duration": 1.286479,
     "end_time": "2022-11-25T07:02:46.844107",
     "exception": false,
     "start_time": "2022-11-25T07:02:45.557628",
     "status": "completed"
    },
    "tags": []
   },
   "outputs": [],
   "source": [
    "import numpy as np\n",
    "import pandas as pd\n",
    "import matplotlib.pyplot as plt\n",
    "import seaborn as sns\n",
    "%matplotlib inline"
   ]
  },
  {
   "cell_type": "markdown",
   "id": "d21e57aa",
   "metadata": {
    "papermill": {
     "duration": 0.020533,
     "end_time": "2022-11-25T07:02:46.885972",
     "exception": false,
     "start_time": "2022-11-25T07:02:46.865439",
     "status": "completed"
    },
    "tags": []
   },
   "source": [
    "Reading the Zomato dataset"
   ]
  },
  {
   "cell_type": "code",
   "execution_count": 2,
   "id": "6b264bd3",
   "metadata": {
    "execution": {
     "iopub.execute_input": "2022-11-25T07:02:46.930738Z",
     "iopub.status.busy": "2022-11-25T07:02:46.930309Z",
     "iopub.status.idle": "2022-11-25T07:02:58.580643Z",
     "shell.execute_reply": "2022-11-25T07:02:58.579438Z"
    },
    "papermill": {
     "duration": 11.677206,
     "end_time": "2022-11-25T07:02:58.584030",
     "exception": false,
     "start_time": "2022-11-25T07:02:46.906824",
     "status": "completed"
    },
    "tags": []
   },
   "outputs": [
    {
     "data": {
      "text/html": [
       "<div>\n",
       "<style scoped>\n",
       "    .dataframe tbody tr th:only-of-type {\n",
       "        vertical-align: middle;\n",
       "    }\n",
       "\n",
       "    .dataframe tbody tr th {\n",
       "        vertical-align: top;\n",
       "    }\n",
       "\n",
       "    .dataframe thead th {\n",
       "        text-align: right;\n",
       "    }\n",
       "</style>\n",
       "<table border=\"1\" class=\"dataframe\">\n",
       "  <thead>\n",
       "    <tr style=\"text-align: right;\">\n",
       "      <th></th>\n",
       "      <th>url</th>\n",
       "      <th>address</th>\n",
       "      <th>name</th>\n",
       "      <th>online_order</th>\n",
       "      <th>book_table</th>\n",
       "      <th>rate</th>\n",
       "      <th>votes</th>\n",
       "      <th>phone</th>\n",
       "      <th>location</th>\n",
       "      <th>rest_type</th>\n",
       "      <th>dish_liked</th>\n",
       "      <th>cuisines</th>\n",
       "      <th>approx_cost(for two people)</th>\n",
       "      <th>reviews_list</th>\n",
       "      <th>menu_item</th>\n",
       "      <th>listed_in(type)</th>\n",
       "      <th>listed_in(city)</th>\n",
       "    </tr>\n",
       "  </thead>\n",
       "  <tbody>\n",
       "    <tr>\n",
       "      <th>0</th>\n",
       "      <td>https://www.zomato.com/bangalore/jalsa-banasha...</td>\n",
       "      <td>942, 21st Main Road, 2nd Stage, Banashankari, ...</td>\n",
       "      <td>Jalsa</td>\n",
       "      <td>Yes</td>\n",
       "      <td>Yes</td>\n",
       "      <td>4.1/5</td>\n",
       "      <td>775</td>\n",
       "      <td>080 42297555\\r\\n+91 9743772233</td>\n",
       "      <td>Banashankari</td>\n",
       "      <td>Casual Dining</td>\n",
       "      <td>Pasta, Lunch Buffet, Masala Papad, Paneer Laja...</td>\n",
       "      <td>North Indian, Mughlai, Chinese</td>\n",
       "      <td>800</td>\n",
       "      <td>[('Rated 4.0', 'RATED\\n  A beautiful place to ...</td>\n",
       "      <td>[]</td>\n",
       "      <td>Buffet</td>\n",
       "      <td>Banashankari</td>\n",
       "    </tr>\n",
       "    <tr>\n",
       "      <th>1</th>\n",
       "      <td>https://www.zomato.com/bangalore/spice-elephan...</td>\n",
       "      <td>2nd Floor, 80 Feet Road, Near Big Bazaar, 6th ...</td>\n",
       "      <td>Spice Elephant</td>\n",
       "      <td>Yes</td>\n",
       "      <td>No</td>\n",
       "      <td>4.1/5</td>\n",
       "      <td>787</td>\n",
       "      <td>080 41714161</td>\n",
       "      <td>Banashankari</td>\n",
       "      <td>Casual Dining</td>\n",
       "      <td>Momos, Lunch Buffet, Chocolate Nirvana, Thai G...</td>\n",
       "      <td>Chinese, North Indian, Thai</td>\n",
       "      <td>800</td>\n",
       "      <td>[('Rated 4.0', 'RATED\\n  Had been here for din...</td>\n",
       "      <td>[]</td>\n",
       "      <td>Buffet</td>\n",
       "      <td>Banashankari</td>\n",
       "    </tr>\n",
       "    <tr>\n",
       "      <th>2</th>\n",
       "      <td>https://www.zomato.com/SanchurroBangalore?cont...</td>\n",
       "      <td>1112, Next to KIMS Medical College, 17th Cross...</td>\n",
       "      <td>San Churro Cafe</td>\n",
       "      <td>Yes</td>\n",
       "      <td>No</td>\n",
       "      <td>3.8/5</td>\n",
       "      <td>918</td>\n",
       "      <td>+91 9663487993</td>\n",
       "      <td>Banashankari</td>\n",
       "      <td>Cafe, Casual Dining</td>\n",
       "      <td>Churros, Cannelloni, Minestrone Soup, Hot Choc...</td>\n",
       "      <td>Cafe, Mexican, Italian</td>\n",
       "      <td>800</td>\n",
       "      <td>[('Rated 3.0', \"RATED\\n  Ambience is not that ...</td>\n",
       "      <td>[]</td>\n",
       "      <td>Buffet</td>\n",
       "      <td>Banashankari</td>\n",
       "    </tr>\n",
       "  </tbody>\n",
       "</table>\n",
       "</div>"
      ],
      "text/plain": [
       "                                                 url  \\\n",
       "0  https://www.zomato.com/bangalore/jalsa-banasha...   \n",
       "1  https://www.zomato.com/bangalore/spice-elephan...   \n",
       "2  https://www.zomato.com/SanchurroBangalore?cont...   \n",
       "\n",
       "                                             address             name  \\\n",
       "0  942, 21st Main Road, 2nd Stage, Banashankari, ...            Jalsa   \n",
       "1  2nd Floor, 80 Feet Road, Near Big Bazaar, 6th ...   Spice Elephant   \n",
       "2  1112, Next to KIMS Medical College, 17th Cross...  San Churro Cafe   \n",
       "\n",
       "  online_order book_table   rate  votes                           phone  \\\n",
       "0          Yes        Yes  4.1/5    775  080 42297555\\r\\n+91 9743772233   \n",
       "1          Yes         No  4.1/5    787                    080 41714161   \n",
       "2          Yes         No  3.8/5    918                  +91 9663487993   \n",
       "\n",
       "       location            rest_type  \\\n",
       "0  Banashankari        Casual Dining   \n",
       "1  Banashankari        Casual Dining   \n",
       "2  Banashankari  Cafe, Casual Dining   \n",
       "\n",
       "                                          dish_liked  \\\n",
       "0  Pasta, Lunch Buffet, Masala Papad, Paneer Laja...   \n",
       "1  Momos, Lunch Buffet, Chocolate Nirvana, Thai G...   \n",
       "2  Churros, Cannelloni, Minestrone Soup, Hot Choc...   \n",
       "\n",
       "                         cuisines approx_cost(for two people)  \\\n",
       "0  North Indian, Mughlai, Chinese                         800   \n",
       "1     Chinese, North Indian, Thai                         800   \n",
       "2          Cafe, Mexican, Italian                         800   \n",
       "\n",
       "                                        reviews_list menu_item  \\\n",
       "0  [('Rated 4.0', 'RATED\\n  A beautiful place to ...        []   \n",
       "1  [('Rated 4.0', 'RATED\\n  Had been here for din...        []   \n",
       "2  [('Rated 3.0', \"RATED\\n  Ambience is not that ...        []   \n",
       "\n",
       "  listed_in(type) listed_in(city)  \n",
       "0          Buffet    Banashankari  \n",
       "1          Buffet    Banashankari  \n",
       "2          Buffet    Banashankari  "
      ]
     },
     "execution_count": 2,
     "metadata": {},
     "output_type": "execute_result"
    }
   ],
   "source": [
    "zomato = pd.read_csv(\"/kaggle/input/zomato-eda/zomato.csv\")\n",
    "zomato.head(3)"
   ]
  },
  {
   "cell_type": "markdown",
   "id": "aae86cdf",
   "metadata": {
    "papermill": {
     "duration": 0.020648,
     "end_time": "2022-11-25T07:02:58.626039",
     "exception": false,
     "start_time": "2022-11-25T07:02:58.605391",
     "status": "completed"
    },
    "tags": []
   },
   "source": [
    "### - Data Cleaning "
   ]
  },
  {
   "cell_type": "markdown",
   "id": "6afb6503",
   "metadata": {
    "papermill": {
     "duration": 0.020642,
     "end_time": "2022-11-25T07:02:58.667815",
     "exception": false,
     "start_time": "2022-11-25T07:02:58.647173",
     "status": "completed"
    },
    "tags": []
   },
   "source": [
    "#### - Deleting redundant columns.\n",
    "\n",
    "Redundant columns are the columns which do not contribute in analysis of data or column in the spreadsheet table that does not contribute to the semantic meaning of the table.\n",
    "\n",
    "Columns : url , address , reviews_list , listed_in(city) , dish_liked , phone , menu_item are redundant columns"
   ]
  },
  {
   "cell_type": "code",
   "execution_count": 3,
   "id": "5a1d8d8c",
   "metadata": {
    "execution": {
     "iopub.execute_input": "2022-11-25T07:02:58.711778Z",
     "iopub.status.busy": "2022-11-25T07:02:58.711386Z",
     "iopub.status.idle": "2022-11-25T07:02:58.728389Z",
     "shell.execute_reply": "2022-11-25T07:02:58.727430Z"
    },
    "papermill": {
     "duration": 0.04203,
     "end_time": "2022-11-25T07:02:58.730804",
     "exception": false,
     "start_time": "2022-11-25T07:02:58.688774",
     "status": "completed"
    },
    "tags": []
   },
   "outputs": [],
   "source": [
    "zomato.drop([\"url\",\"address\",\"phone\",\"dish_liked\",\"reviews_list\",\"listed_in(city)\",\"menu_item\"],axis=1,inplace=True)"
   ]
  },
  {
   "cell_type": "code",
   "execution_count": 4,
   "id": "e833ff89",
   "metadata": {
    "execution": {
     "iopub.execute_input": "2022-11-25T07:02:58.775972Z",
     "iopub.status.busy": "2022-11-25T07:02:58.775314Z",
     "iopub.status.idle": "2022-11-25T07:02:58.789864Z",
     "shell.execute_reply": "2022-11-25T07:02:58.788652Z"
    },
    "papermill": {
     "duration": 0.040215,
     "end_time": "2022-11-25T07:02:58.792198",
     "exception": false,
     "start_time": "2022-11-25T07:02:58.751983",
     "status": "completed"
    },
    "tags": []
   },
   "outputs": [
    {
     "data": {
      "text/html": [
       "<div>\n",
       "<style scoped>\n",
       "    .dataframe tbody tr th:only-of-type {\n",
       "        vertical-align: middle;\n",
       "    }\n",
       "\n",
       "    .dataframe tbody tr th {\n",
       "        vertical-align: top;\n",
       "    }\n",
       "\n",
       "    .dataframe thead th {\n",
       "        text-align: right;\n",
       "    }\n",
       "</style>\n",
       "<table border=\"1\" class=\"dataframe\">\n",
       "  <thead>\n",
       "    <tr style=\"text-align: right;\">\n",
       "      <th></th>\n",
       "      <th>name</th>\n",
       "      <th>online_order</th>\n",
       "      <th>book_table</th>\n",
       "      <th>rate</th>\n",
       "      <th>votes</th>\n",
       "      <th>location</th>\n",
       "      <th>rest_type</th>\n",
       "      <th>cuisines</th>\n",
       "      <th>approx_cost(for two people)</th>\n",
       "      <th>listed_in(type)</th>\n",
       "    </tr>\n",
       "  </thead>\n",
       "  <tbody>\n",
       "    <tr>\n",
       "      <th>0</th>\n",
       "      <td>Jalsa</td>\n",
       "      <td>Yes</td>\n",
       "      <td>Yes</td>\n",
       "      <td>4.1/5</td>\n",
       "      <td>775</td>\n",
       "      <td>Banashankari</td>\n",
       "      <td>Casual Dining</td>\n",
       "      <td>North Indian, Mughlai, Chinese</td>\n",
       "      <td>800</td>\n",
       "      <td>Buffet</td>\n",
       "    </tr>\n",
       "    <tr>\n",
       "      <th>1</th>\n",
       "      <td>Spice Elephant</td>\n",
       "      <td>Yes</td>\n",
       "      <td>No</td>\n",
       "      <td>4.1/5</td>\n",
       "      <td>787</td>\n",
       "      <td>Banashankari</td>\n",
       "      <td>Casual Dining</td>\n",
       "      <td>Chinese, North Indian, Thai</td>\n",
       "      <td>800</td>\n",
       "      <td>Buffet</td>\n",
       "    </tr>\n",
       "    <tr>\n",
       "      <th>2</th>\n",
       "      <td>San Churro Cafe</td>\n",
       "      <td>Yes</td>\n",
       "      <td>No</td>\n",
       "      <td>3.8/5</td>\n",
       "      <td>918</td>\n",
       "      <td>Banashankari</td>\n",
       "      <td>Cafe, Casual Dining</td>\n",
       "      <td>Cafe, Mexican, Italian</td>\n",
       "      <td>800</td>\n",
       "      <td>Buffet</td>\n",
       "    </tr>\n",
       "  </tbody>\n",
       "</table>\n",
       "</div>"
      ],
      "text/plain": [
       "              name online_order book_table   rate  votes      location  \\\n",
       "0            Jalsa          Yes        Yes  4.1/5    775  Banashankari   \n",
       "1   Spice Elephant          Yes         No  4.1/5    787  Banashankari   \n",
       "2  San Churro Cafe          Yes         No  3.8/5    918  Banashankari   \n",
       "\n",
       "             rest_type                        cuisines  \\\n",
       "0        Casual Dining  North Indian, Mughlai, Chinese   \n",
       "1        Casual Dining     Chinese, North Indian, Thai   \n",
       "2  Cafe, Casual Dining          Cafe, Mexican, Italian   \n",
       "\n",
       "  approx_cost(for two people) listed_in(type)  \n",
       "0                         800          Buffet  \n",
       "1                         800          Buffet  \n",
       "2                         800          Buffet  "
      ]
     },
     "execution_count": 4,
     "metadata": {},
     "output_type": "execute_result"
    }
   ],
   "source": [
    "zomato.head(3)"
   ]
  },
  {
   "cell_type": "markdown",
   "id": "7068e350",
   "metadata": {
    "papermill": {
     "duration": 0.021284,
     "end_time": "2022-11-25T07:02:58.834956",
     "exception": false,
     "start_time": "2022-11-25T07:02:58.813672",
     "status": "completed"
    },
    "tags": []
   },
   "source": [
    "#### - Renaming the columns."
   ]
  },
  {
   "cell_type": "code",
   "execution_count": 5,
   "id": "48be6027",
   "metadata": {
    "execution": {
     "iopub.execute_input": "2022-11-25T07:02:58.879645Z",
     "iopub.status.busy": "2022-11-25T07:02:58.879236Z",
     "iopub.status.idle": "2022-11-25T07:02:58.897914Z",
     "shell.execute_reply": "2022-11-25T07:02:58.896606Z"
    },
    "papermill": {
     "duration": 0.043906,
     "end_time": "2022-11-25T07:02:58.900479",
     "exception": false,
     "start_time": "2022-11-25T07:02:58.856573",
     "status": "completed"
    },
    "tags": []
   },
   "outputs": [
    {
     "data": {
      "text/html": [
       "<div>\n",
       "<style scoped>\n",
       "    .dataframe tbody tr th:only-of-type {\n",
       "        vertical-align: middle;\n",
       "    }\n",
       "\n",
       "    .dataframe tbody tr th {\n",
       "        vertical-align: top;\n",
       "    }\n",
       "\n",
       "    .dataframe thead th {\n",
       "        text-align: right;\n",
       "    }\n",
       "</style>\n",
       "<table border=\"1\" class=\"dataframe\">\n",
       "  <thead>\n",
       "    <tr style=\"text-align: right;\">\n",
       "      <th></th>\n",
       "      <th>Restaurant</th>\n",
       "      <th>Online service</th>\n",
       "      <th>Reservation service</th>\n",
       "      <th>Rating</th>\n",
       "      <th>Votes</th>\n",
       "      <th>Location</th>\n",
       "      <th>Restaurant type</th>\n",
       "      <th>Cuisines</th>\n",
       "      <th>Cost for two</th>\n",
       "      <th>Category</th>\n",
       "    </tr>\n",
       "  </thead>\n",
       "  <tbody>\n",
       "    <tr>\n",
       "      <th>0</th>\n",
       "      <td>Jalsa</td>\n",
       "      <td>Yes</td>\n",
       "      <td>Yes</td>\n",
       "      <td>4.1/5</td>\n",
       "      <td>775</td>\n",
       "      <td>Banashankari</td>\n",
       "      <td>Casual Dining</td>\n",
       "      <td>North Indian, Mughlai, Chinese</td>\n",
       "      <td>800</td>\n",
       "      <td>Buffet</td>\n",
       "    </tr>\n",
       "    <tr>\n",
       "      <th>1</th>\n",
       "      <td>Spice Elephant</td>\n",
       "      <td>Yes</td>\n",
       "      <td>No</td>\n",
       "      <td>4.1/5</td>\n",
       "      <td>787</td>\n",
       "      <td>Banashankari</td>\n",
       "      <td>Casual Dining</td>\n",
       "      <td>Chinese, North Indian, Thai</td>\n",
       "      <td>800</td>\n",
       "      <td>Buffet</td>\n",
       "    </tr>\n",
       "    <tr>\n",
       "      <th>2</th>\n",
       "      <td>San Churro Cafe</td>\n",
       "      <td>Yes</td>\n",
       "      <td>No</td>\n",
       "      <td>3.8/5</td>\n",
       "      <td>918</td>\n",
       "      <td>Banashankari</td>\n",
       "      <td>Cafe, Casual Dining</td>\n",
       "      <td>Cafe, Mexican, Italian</td>\n",
       "      <td>800</td>\n",
       "      <td>Buffet</td>\n",
       "    </tr>\n",
       "  </tbody>\n",
       "</table>\n",
       "</div>"
      ],
      "text/plain": [
       "        Restaurant Online service Reservation service Rating  Votes  \\\n",
       "0            Jalsa            Yes                 Yes  4.1/5    775   \n",
       "1   Spice Elephant            Yes                  No  4.1/5    787   \n",
       "2  San Churro Cafe            Yes                  No  3.8/5    918   \n",
       "\n",
       "       Location      Restaurant type                        Cuisines  \\\n",
       "0  Banashankari        Casual Dining  North Indian, Mughlai, Chinese   \n",
       "1  Banashankari        Casual Dining     Chinese, North Indian, Thai   \n",
       "2  Banashankari  Cafe, Casual Dining          Cafe, Mexican, Italian   \n",
       "\n",
       "  Cost for two Category  \n",
       "0          800   Buffet  \n",
       "1          800   Buffet  \n",
       "2          800   Buffet  "
      ]
     },
     "execution_count": 5,
     "metadata": {},
     "output_type": "execute_result"
    }
   ],
   "source": [
    "zomato.rename(columns={\n",
    "    \"name\":\"Restaurant\",\n",
    "    \"online_order\":\"Online service\",\n",
    "    \"book_table\":\"Reservation service\",\n",
    "    \"rate\":\"Rating\",\n",
    "    \"votes\":\"Votes\",\n",
    "    \"location\":\"Location\",\n",
    "    \"rest_type\":\"Restaurant type\",\n",
    "    \"cuisines\":\"Cuisines\",\n",
    "    \"approx_cost(for two people)\":\"Cost for two\",\n",
    "    \"listed_in(type)\":\"Category\" \n",
    "},inplace=True)\n",
    "zomato.head(3)"
   ]
  },
  {
   "cell_type": "markdown",
   "id": "724eeb1b",
   "metadata": {
    "papermill": {
     "duration": 0.021806,
     "end_time": "2022-11-25T07:02:58.944487",
     "exception": false,
     "start_time": "2022-11-25T07:02:58.922681",
     "status": "completed"
    },
    "tags": []
   },
   "source": [
    "#### - Dropping duplicates"
   ]
  },
  {
   "cell_type": "code",
   "execution_count": 6,
   "id": "05cbb0bc",
   "metadata": {
    "execution": {
     "iopub.execute_input": "2022-11-25T07:02:58.989645Z",
     "iopub.status.busy": "2022-11-25T07:02:58.989227Z",
     "iopub.status.idle": "2022-11-25T07:02:59.047487Z",
     "shell.execute_reply": "2022-11-25T07:02:59.046261Z"
    },
    "papermill": {
     "duration": 0.083972,
     "end_time": "2022-11-25T07:02:59.050135",
     "exception": false,
     "start_time": "2022-11-25T07:02:58.966163",
     "status": "completed"
    },
    "tags": []
   },
   "outputs": [
    {
     "data": {
      "text/plain": [
       "False    35011\n",
       "True     16706\n",
       "dtype: int64"
      ]
     },
     "execution_count": 6,
     "metadata": {},
     "output_type": "execute_result"
    }
   ],
   "source": [
    "zomato.duplicated(keep=\"first\").value_counts()"
   ]
  },
  {
   "cell_type": "markdown",
   "id": "208fcda1",
   "metadata": {
    "papermill": {
     "duration": 0.021557,
     "end_time": "2022-11-25T07:02:59.093553",
     "exception": false,
     "start_time": "2022-11-25T07:02:59.071996",
     "status": "completed"
    },
    "tags": []
   },
   "source": [
    "There are 16706 duplicate rows , which should be dropped"
   ]
  },
  {
   "cell_type": "code",
   "execution_count": 7,
   "id": "f551bcf3",
   "metadata": {
    "execution": {
     "iopub.execute_input": "2022-11-25T07:02:59.139590Z",
     "iopub.status.busy": "2022-11-25T07:02:59.139130Z",
     "iopub.status.idle": "2022-11-25T07:02:59.191469Z",
     "shell.execute_reply": "2022-11-25T07:02:59.190200Z"
    },
    "papermill": {
     "duration": 0.078587,
     "end_time": "2022-11-25T07:02:59.194425",
     "exception": false,
     "start_time": "2022-11-25T07:02:59.115838",
     "status": "completed"
    },
    "tags": []
   },
   "outputs": [],
   "source": [
    "zomato.drop_duplicates(inplace=True)"
   ]
  },
  {
   "cell_type": "code",
   "execution_count": 8,
   "id": "fbac271d",
   "metadata": {
    "execution": {
     "iopub.execute_input": "2022-11-25T07:02:59.239912Z",
     "iopub.status.busy": "2022-11-25T07:02:59.239461Z",
     "iopub.status.idle": "2022-11-25T07:02:59.277580Z",
     "shell.execute_reply": "2022-11-25T07:02:59.276376Z"
    },
    "papermill": {
     "duration": 0.06372,
     "end_time": "2022-11-25T07:02:59.280063",
     "exception": false,
     "start_time": "2022-11-25T07:02:59.216343",
     "status": "completed"
    },
    "tags": []
   },
   "outputs": [
    {
     "data": {
      "text/plain": [
       "False    35011\n",
       "dtype: int64"
      ]
     },
     "execution_count": 8,
     "metadata": {},
     "output_type": "execute_result"
    }
   ],
   "source": [
    "zomato.duplicated().value_counts()"
   ]
  },
  {
   "cell_type": "markdown",
   "id": "6f7dd740",
   "metadata": {
    "papermill": {
     "duration": 0.023542,
     "end_time": "2022-11-25T07:02:59.326398",
     "exception": false,
     "start_time": "2022-11-25T07:02:59.302856",
     "status": "completed"
    },
    "tags": []
   },
   "source": [
    "Thus removed all the duplicate rows from the dataframe"
   ]
  },
  {
   "cell_type": "markdown",
   "id": "d59a4500",
   "metadata": {
    "papermill": {
     "duration": 0.026673,
     "end_time": "2022-11-25T07:02:59.379702",
     "exception": false,
     "start_time": "2022-11-25T07:02:59.353029",
     "status": "completed"
    },
    "tags": []
   },
   "source": [
    "#### - Cleaning individual columns."
   ]
  },
  {
   "cell_type": "code",
   "execution_count": 9,
   "id": "f8e8cf32",
   "metadata": {
    "execution": {
     "iopub.execute_input": "2022-11-25T07:02:59.431314Z",
     "iopub.status.busy": "2022-11-25T07:02:59.430930Z",
     "iopub.status.idle": "2022-11-25T07:02:59.438851Z",
     "shell.execute_reply": "2022-11-25T07:02:59.437689Z"
    },
    "papermill": {
     "duration": 0.035802,
     "end_time": "2022-11-25T07:02:59.441741",
     "exception": false,
     "start_time": "2022-11-25T07:02:59.405939",
     "status": "completed"
    },
    "tags": []
   },
   "outputs": [
    {
     "data": {
      "text/plain": [
       "Index(['Restaurant', 'Online service', 'Reservation service', 'Rating',\n",
       "       'Votes', 'Location', 'Restaurant type', 'Cuisines', 'Cost for two',\n",
       "       'Category'],\n",
       "      dtype='object')"
      ]
     },
     "execution_count": 9,
     "metadata": {},
     "output_type": "execute_result"
    }
   ],
   "source": [
    "zomato.columns"
   ]
  },
  {
   "cell_type": "markdown",
   "id": "ed1dde2f",
   "metadata": {
    "papermill": {
     "duration": 0.022164,
     "end_time": "2022-11-25T07:02:59.486882",
     "exception": false,
     "start_time": "2022-11-25T07:02:59.464718",
     "status": "completed"
    },
    "tags": []
   },
   "source": [
    "- Restaurant"
   ]
  },
  {
   "cell_type": "code",
   "execution_count": 10,
   "id": "1c2323cc",
   "metadata": {
    "execution": {
     "iopub.execute_input": "2022-11-25T07:02:59.534512Z",
     "iopub.status.busy": "2022-11-25T07:02:59.534053Z",
     "iopub.status.idle": "2022-11-25T07:02:59.539391Z",
     "shell.execute_reply": "2022-11-25T07:02:59.538149Z"
    },
    "papermill": {
     "duration": 0.03184,
     "end_time": "2022-11-25T07:02:59.541898",
     "exception": false,
     "start_time": "2022-11-25T07:02:59.510058",
     "status": "completed"
    },
    "scrolled": true,
    "tags": []
   },
   "outputs": [],
   "source": [
    "# list(zomato.Restaurant.unique())"
   ]
  },
  {
   "cell_type": "markdown",
   "id": "aed5087b",
   "metadata": {
    "papermill": {
     "duration": 0.021896,
     "end_time": "2022-11-25T07:02:59.585876",
     "exception": false,
     "start_time": "2022-11-25T07:02:59.563980",
     "status": "completed"
    },
    "tags": []
   },
   "source": [
    "As we can see column \"Restuarnt\" contains a garbage value \"CafÃ\\x83Â\\x83Ã\\x82Â\\x83Ã\\x83Â\\x82Ã\\x82Â\\x83Ã\\x83Â\\x83Ã\\x82Â\\x82Ã\\x83Â\\x82Ã\\x82Â©\", so we need to remove it"
   ]
  },
  {
   "cell_type": "code",
   "execution_count": 11,
   "id": "c7d693d5",
   "metadata": {
    "execution": {
     "iopub.execute_input": "2022-11-25T07:02:59.631711Z",
     "iopub.status.busy": "2022-11-25T07:02:59.631286Z",
     "iopub.status.idle": "2022-11-25T07:03:00.109743Z",
     "shell.execute_reply": "2022-11-25T07:03:00.108507Z"
    },
    "papermill": {
     "duration": 0.504717,
     "end_time": "2022-11-25T07:03:00.112703",
     "exception": false,
     "start_time": "2022-11-25T07:02:59.607986",
     "status": "completed"
    },
    "tags": []
   },
   "outputs": [],
   "source": [
    "zomato.replace(\"CafÃ\\x83Â\\x83Ã\\x82Â\\x83Ã\\x83Â\\x82Ã\\x82Â\\x83Ã\\x83Â\\x83Ã\\x82Â\\x82Ã\\x83Â\\x82Ã\\x82Â©\",\"\",regex=True,inplace=True)\n",
    "# list(zomato.Restaurant.unique())"
   ]
  },
  {
   "cell_type": "markdown",
   "id": "3b384759",
   "metadata": {
    "papermill": {
     "duration": 0.023566,
     "end_time": "2022-11-25T07:03:00.160033",
     "exception": false,
     "start_time": "2022-11-25T07:03:00.136467",
     "status": "completed"
    },
    "tags": []
   },
   "source": [
    "Thus we have successfully removed the garbage values from the Restaurant column"
   ]
  },
  {
   "cell_type": "markdown",
   "id": "b11175ae",
   "metadata": {
    "papermill": {
     "duration": 0.023683,
     "end_time": "2022-11-25T07:03:00.208692",
     "exception": false,
     "start_time": "2022-11-25T07:03:00.185009",
     "status": "completed"
    },
    "tags": []
   },
   "source": [
    "- Online Service"
   ]
  },
  {
   "cell_type": "code",
   "execution_count": 12,
   "id": "2cbdb36a",
   "metadata": {
    "execution": {
     "iopub.execute_input": "2022-11-25T07:03:00.261616Z",
     "iopub.status.busy": "2022-11-25T07:03:00.261145Z",
     "iopub.status.idle": "2022-11-25T07:03:00.273266Z",
     "shell.execute_reply": "2022-11-25T07:03:00.271962Z"
    },
    "papermill": {
     "duration": 0.040767,
     "end_time": "2022-11-25T07:03:00.275718",
     "exception": false,
     "start_time": "2022-11-25T07:03:00.234951",
     "status": "completed"
    },
    "tags": []
   },
   "outputs": [
    {
     "data": {
      "text/plain": [
       "False    35011\n",
       "Name: Online service, dtype: int64"
      ]
     },
     "execution_count": 12,
     "metadata": {},
     "output_type": "execute_result"
    }
   ],
   "source": [
    "zomato[\"Online service\"].isnull().value_counts()"
   ]
  },
  {
   "cell_type": "markdown",
   "id": "aa012e3a",
   "metadata": {
    "papermill": {
     "duration": 0.022621,
     "end_time": "2022-11-25T07:03:00.321573",
     "exception": false,
     "start_time": "2022-11-25T07:03:00.298952",
     "status": "completed"
    },
    "tags": []
   },
   "source": [
    "Online  Service column do not contain any null values"
   ]
  },
  {
   "cell_type": "code",
   "execution_count": 13,
   "id": "932cf9e1",
   "metadata": {
    "execution": {
     "iopub.execute_input": "2022-11-25T07:03:00.369657Z",
     "iopub.status.busy": "2022-11-25T07:03:00.369230Z",
     "iopub.status.idle": "2022-11-25T07:03:00.383520Z",
     "shell.execute_reply": "2022-11-25T07:03:00.382386Z"
    },
    "papermill": {
     "duration": 0.041912,
     "end_time": "2022-11-25T07:03:00.386193",
     "exception": false,
     "start_time": "2022-11-25T07:03:00.344281",
     "status": "completed"
    },
    "scrolled": true,
    "tags": []
   },
   "outputs": [
    {
     "data": {
      "text/plain": [
       "Yes    20813\n",
       "No     14198\n",
       "Name: Online service, dtype: int64"
      ]
     },
     "execution_count": 13,
     "metadata": {},
     "output_type": "execute_result"
    }
   ],
   "source": [
    "zomato[\"Online service\"].value_counts()"
   ]
  },
  {
   "cell_type": "markdown",
   "id": "544660e3",
   "metadata": {
    "papermill": {
     "duration": 0.022347,
     "end_time": "2022-11-25T07:03:00.431762",
     "exception": false,
     "start_time": "2022-11-25T07:03:00.409415",
     "status": "completed"
    },
    "tags": []
   },
   "source": [
    "Online Service column contain only two categorical values : 'Yes' and 'No' , thus we do not need to clean this column"
   ]
  },
  {
   "cell_type": "markdown",
   "id": "bcab6991",
   "metadata": {
    "papermill": {
     "duration": 0.022612,
     "end_time": "2022-11-25T07:03:00.476937",
     "exception": false,
     "start_time": "2022-11-25T07:03:00.454325",
     "status": "completed"
    },
    "tags": []
   },
   "source": [
    "- Reservation Service"
   ]
  },
  {
   "cell_type": "code",
   "execution_count": 14,
   "id": "17e07c5f",
   "metadata": {
    "execution": {
     "iopub.execute_input": "2022-11-25T07:03:00.524278Z",
     "iopub.status.busy": "2022-11-25T07:03:00.523545Z",
     "iopub.status.idle": "2022-11-25T07:03:00.533968Z",
     "shell.execute_reply": "2022-11-25T07:03:00.532934Z"
    },
    "papermill": {
     "duration": 0.037056,
     "end_time": "2022-11-25T07:03:00.536491",
     "exception": false,
     "start_time": "2022-11-25T07:03:00.499435",
     "status": "completed"
    },
    "scrolled": true,
    "tags": []
   },
   "outputs": [
    {
     "data": {
      "text/plain": [
       "False    35011\n",
       "Name: Reservation service, dtype: int64"
      ]
     },
     "execution_count": 14,
     "metadata": {},
     "output_type": "execute_result"
    }
   ],
   "source": [
    "zomato[\"Reservation service\"].isnull().value_counts()"
   ]
  },
  {
   "cell_type": "markdown",
   "id": "60d16f59",
   "metadata": {
    "papermill": {
     "duration": 0.023379,
     "end_time": "2022-11-25T07:03:00.583333",
     "exception": false,
     "start_time": "2022-11-25T07:03:00.559954",
     "status": "completed"
    },
    "tags": []
   },
   "source": [
    "Reservation service column do not contain any null values"
   ]
  },
  {
   "cell_type": "code",
   "execution_count": 15,
   "id": "2a101a3f",
   "metadata": {
    "execution": {
     "iopub.execute_input": "2022-11-25T07:03:00.632023Z",
     "iopub.status.busy": "2022-11-25T07:03:00.631467Z",
     "iopub.status.idle": "2022-11-25T07:03:00.642990Z",
     "shell.execute_reply": "2022-11-25T07:03:00.641745Z"
    },
    "papermill": {
     "duration": 0.038142,
     "end_time": "2022-11-25T07:03:00.645580",
     "exception": false,
     "start_time": "2022-11-25T07:03:00.607438",
     "status": "completed"
    },
    "scrolled": true,
    "tags": []
   },
   "outputs": [
    {
     "data": {
      "text/plain": [
       "No     29609\n",
       "Yes     5402\n",
       "Name: Reservation service, dtype: int64"
      ]
     },
     "execution_count": 15,
     "metadata": {},
     "output_type": "execute_result"
    }
   ],
   "source": [
    "zomato[\"Reservation service\"].value_counts()"
   ]
  },
  {
   "cell_type": "markdown",
   "id": "70706b02",
   "metadata": {
    "papermill": {
     "duration": 0.023102,
     "end_time": "2022-11-25T07:03:00.691840",
     "exception": false,
     "start_time": "2022-11-25T07:03:00.668738",
     "status": "completed"
    },
    "tags": []
   },
   "source": [
    "Reservation service column contain only two categorical values : 'Yes' and 'No' , thus we do not need to clean this column"
   ]
  },
  {
   "cell_type": "markdown",
   "id": "02637423",
   "metadata": {
    "papermill": {
     "duration": 0.022035,
     "end_time": "2022-11-25T07:03:00.736439",
     "exception": false,
     "start_time": "2022-11-25T07:03:00.714404",
     "status": "completed"
    },
    "tags": []
   },
   "source": [
    "- Rating"
   ]
  },
  {
   "cell_type": "code",
   "execution_count": 16,
   "id": "773165c7",
   "metadata": {
    "execution": {
     "iopub.execute_input": "2022-11-25T07:03:00.784240Z",
     "iopub.status.busy": "2022-11-25T07:03:00.783760Z",
     "iopub.status.idle": "2022-11-25T07:03:00.795937Z",
     "shell.execute_reply": "2022-11-25T07:03:00.794755Z"
    },
    "papermill": {
     "duration": 0.038819,
     "end_time": "2022-11-25T07:03:00.798416",
     "exception": false,
     "start_time": "2022-11-25T07:03:00.759597",
     "status": "completed"
    },
    "tags": []
   },
   "outputs": [
    {
     "data": {
      "text/plain": [
       "False    31241\n",
       "True      3770\n",
       "Name: Rating, dtype: int64"
      ]
     },
     "execution_count": 16,
     "metadata": {},
     "output_type": "execute_result"
    }
   ],
   "source": [
    "zomato[\"Rating\"].isnull().value_counts()"
   ]
  },
  {
   "cell_type": "markdown",
   "id": "ac9eea24",
   "metadata": {
    "papermill": {
     "duration": 0.023422,
     "end_time": "2022-11-25T07:03:00.845702",
     "exception": false,
     "start_time": "2022-11-25T07:03:00.822280",
     "status": "completed"
    },
    "tags": []
   },
   "source": [
    "Rating column contains 3770 null values , which we'll remove afterwards"
   ]
  },
  {
   "cell_type": "code",
   "execution_count": 17,
   "id": "f3f678a3",
   "metadata": {
    "execution": {
     "iopub.execute_input": "2022-11-25T07:03:00.894910Z",
     "iopub.status.busy": "2022-11-25T07:03:00.894464Z",
     "iopub.status.idle": "2022-11-25T07:03:00.904068Z",
     "shell.execute_reply": "2022-11-25T07:03:00.903077Z"
    },
    "papermill": {
     "duration": 0.037141,
     "end_time": "2022-11-25T07:03:00.906187",
     "exception": false,
     "start_time": "2022-11-25T07:03:00.869046",
     "status": "completed"
    },
    "scrolled": true,
    "tags": []
   },
   "outputs": [
    {
     "data": {
      "text/plain": [
       "array(['4.1/5', '3.8/5', '3.7/5', '3.6/5', '4.6/5', '4.0/5', '4.2/5',\n",
       "       '3.9/5', '3.1/5', '3.0/5', '3.2/5', '3.3/5', '2.8/5', '4.4/5',\n",
       "       '4.3/5', 'NEW', '2.9/5', '3.5/5', nan, '2.6/5', '3.8 /5', '3.4/5',\n",
       "       '4.5/5', '2.5/5', '2.7/5', '4.7/5', '2.4/5', '2.2/5', '2.3/5',\n",
       "       '3.4 /5', '-', '3.6 /5', '4.8/5', '3.9 /5', '4.2 /5', '4.0 /5',\n",
       "       '4.1 /5', '3.7 /5', '3.1 /5', '2.9 /5', '3.3 /5', '2.8 /5',\n",
       "       '3.5 /5', '2.7 /5', '2.5 /5', '3.2 /5', '2.6 /5', '4.5 /5',\n",
       "       '4.3 /5', '4.4 /5', '4.9/5', '2.1/5', '2.0/5', '1.8/5', '4.6 /5',\n",
       "       '4.9 /5', '3.0 /5', '4.8 /5', '2.3 /5', '4.7 /5', '2.4 /5',\n",
       "       '2.1 /5', '2.2 /5', '2.0 /5', '1.8 /5'], dtype=object)"
      ]
     },
     "execution_count": 17,
     "metadata": {},
     "output_type": "execute_result"
    }
   ],
   "source": [
    "zomato[\"Rating\"].unique()"
   ]
  },
  {
   "cell_type": "code",
   "execution_count": 18,
   "id": "607d8b8e",
   "metadata": {
    "execution": {
     "iopub.execute_input": "2022-11-25T07:03:00.954492Z",
     "iopub.status.busy": "2022-11-25T07:03:00.953557Z",
     "iopub.status.idle": "2022-11-25T07:03:00.964388Z",
     "shell.execute_reply": "2022-11-25T07:03:00.963500Z"
    },
    "papermill": {
     "duration": 0.037876,
     "end_time": "2022-11-25T07:03:00.966749",
     "exception": false,
     "start_time": "2022-11-25T07:03:00.928873",
     "status": "completed"
    },
    "tags": []
   },
   "outputs": [
    {
     "data": {
      "text/plain": [
       "1258"
      ]
     },
     "execution_count": 18,
     "metadata": {},
     "output_type": "execute_result"
    }
   ],
   "source": [
    "list(zomato[\"Rating\"]).count(\"NEW\")"
   ]
  },
  {
   "cell_type": "markdown",
   "id": "d7abd8ac",
   "metadata": {
    "papermill": {
     "duration": 0.023738,
     "end_time": "2022-11-25T07:03:01.013715",
     "exception": false,
     "start_time": "2022-11-25T07:03:00.989977",
     "status": "completed"
    },
    "tags": []
   },
   "source": [
    "As we can see Rating columns consists for null values,\"-\",1258 \"NEW\" values other than the required values , thus we need to clean the \"NEW\" and \"-\" values from the Rating column\n",
    "\n",
    "Note: NEW stands for restaurants whose ratings have yet to be defined , possible reasons : Restaurant has just started functioning , Restaurant has just started catching the eyes of people , Rating system or criteria has been just introduced \n",
    "\n",
    "So total 1258 Restaurants fall under this type"
   ]
  },
  {
   "cell_type": "code",
   "execution_count": 19,
   "id": "b30c4b26",
   "metadata": {
    "execution": {
     "iopub.execute_input": "2022-11-25T07:03:01.061489Z",
     "iopub.status.busy": "2022-11-25T07:03:01.061041Z",
     "iopub.status.idle": "2022-11-25T07:03:01.118074Z",
     "shell.execute_reply": "2022-11-25T07:03:01.116840Z"
    },
    "papermill": {
     "duration": 0.084317,
     "end_time": "2022-11-25T07:03:01.121011",
     "exception": false,
     "start_time": "2022-11-25T07:03:01.036694",
     "status": "completed"
    },
    "tags": []
   },
   "outputs": [],
   "source": [
    "zomato[\"Rating\"].replace({\"NEW|-\":\"0/0\"},regex=True,inplace=True)"
   ]
  },
  {
   "cell_type": "code",
   "execution_count": 20,
   "id": "668b578a",
   "metadata": {
    "execution": {
     "iopub.execute_input": "2022-11-25T07:03:01.169402Z",
     "iopub.status.busy": "2022-11-25T07:03:01.168940Z",
     "iopub.status.idle": "2022-11-25T07:03:01.178989Z",
     "shell.execute_reply": "2022-11-25T07:03:01.177818Z"
    },
    "papermill": {
     "duration": 0.036638,
     "end_time": "2022-11-25T07:03:01.181239",
     "exception": false,
     "start_time": "2022-11-25T07:03:01.144601",
     "status": "completed"
    },
    "scrolled": true,
    "tags": []
   },
   "outputs": [
    {
     "data": {
      "text/plain": [
       "array(['4.1/5', '3.8/5', '3.7/5', '3.6/5', '4.6/5', '4.0/5', '4.2/5',\n",
       "       '3.9/5', '3.1/5', '3.0/5', '3.2/5', '3.3/5', '2.8/5', '4.4/5',\n",
       "       '4.3/5', '0/0', '2.9/5', '3.5/5', nan, '2.6/5', '3.8 /5', '3.4/5',\n",
       "       '4.5/5', '2.5/5', '2.7/5', '4.7/5', '2.4/5', '2.2/5', '2.3/5',\n",
       "       '3.4 /5', '3.6 /5', '4.8/5', '3.9 /5', '4.2 /5', '4.0 /5',\n",
       "       '4.1 /5', '3.7 /5', '3.1 /5', '2.9 /5', '3.3 /5', '2.8 /5',\n",
       "       '3.5 /5', '2.7 /5', '2.5 /5', '3.2 /5', '2.6 /5', '4.5 /5',\n",
       "       '4.3 /5', '4.4 /5', '4.9/5', '2.1/5', '2.0/5', '1.8/5', '4.6 /5',\n",
       "       '4.9 /5', '3.0 /5', '4.8 /5', '2.3 /5', '4.7 /5', '2.4 /5',\n",
       "       '2.1 /5', '2.2 /5', '2.0 /5', '1.8 /5'], dtype=object)"
      ]
     },
     "execution_count": 20,
     "metadata": {},
     "output_type": "execute_result"
    }
   ],
   "source": [
    "zomato[\"Rating\"].unique()"
   ]
  },
  {
   "cell_type": "markdown",
   "id": "0703f7e8",
   "metadata": {
    "papermill": {
     "duration": 0.023554,
     "end_time": "2022-11-25T07:03:01.228287",
     "exception": false,
     "start_time": "2022-11-25T07:03:01.204733",
     "status": "completed"
    },
    "tags": []
   },
   "source": [
    "Here we have replaced the \"NEW\" values and \"-\" values with \"0/0\", since the restaurants may be newly opened , thus their rating is 0\n",
    "\n",
    "Now we need to convert the values of Rating column in numerical format for further processing "
   ]
  },
  {
   "cell_type": "code",
   "execution_count": 21,
   "id": "9fe0a048",
   "metadata": {
    "execution": {
     "iopub.execute_input": "2022-11-25T07:03:01.278171Z",
     "iopub.status.busy": "2022-11-25T07:03:01.277388Z",
     "iopub.status.idle": "2022-11-25T07:03:01.316660Z",
     "shell.execute_reply": "2022-11-25T07:03:01.315031Z"
    },
    "papermill": {
     "duration": 0.066864,
     "end_time": "2022-11-25T07:03:01.319584",
     "exception": false,
     "start_time": "2022-11-25T07:03:01.252720",
     "status": "completed"
    },
    "scrolled": true,
    "tags": []
   },
   "outputs": [
    {
     "data": {
      "text/plain": [
       "0    4.1\n",
       "1    4.1\n",
       "2    3.8\n",
       "Name: Rating, dtype: float64"
      ]
     },
     "execution_count": 21,
     "metadata": {},
     "output_type": "execute_result"
    }
   ],
   "source": [
    "zomato[\"Rating\"]=zomato[\"Rating\"].apply(lambda x:float(str(x).split(\"/\")[0]))\n",
    "zomato[\"Rating\"].head(3)"
   ]
  },
  {
   "cell_type": "markdown",
   "id": "f71c3115",
   "metadata": {
    "papermill": {
     "duration": 0.023698,
     "end_time": "2022-11-25T07:03:01.367438",
     "exception": false,
     "start_time": "2022-11-25T07:03:01.343740",
     "status": "completed"
    },
    "tags": []
   },
   "source": [
    "Here we gave converted the Rating values to float data type"
   ]
  },
  {
   "cell_type": "markdown",
   "id": "8a3385d2",
   "metadata": {
    "papermill": {
     "duration": 0.023751,
     "end_time": "2022-11-25T07:03:01.415294",
     "exception": false,
     "start_time": "2022-11-25T07:03:01.391543",
     "status": "completed"
    },
    "tags": []
   },
   "source": [
    "- Votes"
   ]
  },
  {
   "cell_type": "code",
   "execution_count": 22,
   "id": "28be9d7d",
   "metadata": {
    "execution": {
     "iopub.execute_input": "2022-11-25T07:03:01.466758Z",
     "iopub.status.busy": "2022-11-25T07:03:01.466310Z",
     "iopub.status.idle": "2022-11-25T07:03:01.474761Z",
     "shell.execute_reply": "2022-11-25T07:03:01.473521Z"
    },
    "papermill": {
     "duration": 0.036265,
     "end_time": "2022-11-25T07:03:01.477066",
     "exception": false,
     "start_time": "2022-11-25T07:03:01.440801",
     "status": "completed"
    },
    "scrolled": true,
    "tags": []
   },
   "outputs": [
    {
     "data": {
      "text/plain": [
       "False    35011\n",
       "Name: Votes, dtype: int64"
      ]
     },
     "execution_count": 22,
     "metadata": {},
     "output_type": "execute_result"
    }
   ],
   "source": [
    "zomato.Votes.isnull().value_counts()"
   ]
  },
  {
   "cell_type": "markdown",
   "id": "3c36d240",
   "metadata": {
    "papermill": {
     "duration": 0.022469,
     "end_time": "2022-11-25T07:03:01.524329",
     "exception": false,
     "start_time": "2022-11-25T07:03:01.501860",
     "status": "completed"
    },
    "tags": []
   },
   "source": [
    "Votes column do not contain any null values "
   ]
  },
  {
   "cell_type": "code",
   "execution_count": 23,
   "id": "9d87dd54",
   "metadata": {
    "execution": {
     "iopub.execute_input": "2022-11-25T07:03:01.572279Z",
     "iopub.status.busy": "2022-11-25T07:03:01.571439Z",
     "iopub.status.idle": "2022-11-25T07:03:01.580296Z",
     "shell.execute_reply": "2022-11-25T07:03:01.579378Z"
    },
    "papermill": {
     "duration": 0.035312,
     "end_time": "2022-11-25T07:03:01.582561",
     "exception": false,
     "start_time": "2022-11-25T07:03:01.547249",
     "status": "completed"
    },
    "scrolled": true,
    "tags": []
   },
   "outputs": [
    {
     "data": {
      "text/plain": [
       "0    775\n",
       "1    787\n",
       "2    918\n",
       "Name: Votes, dtype: int64"
      ]
     },
     "execution_count": 23,
     "metadata": {},
     "output_type": "execute_result"
    }
   ],
   "source": [
    "zomato.Votes.head(3)"
   ]
  },
  {
   "cell_type": "markdown",
   "id": "20d606be",
   "metadata": {
    "papermill": {
     "duration": 0.023538,
     "end_time": "2022-11-25T07:03:01.629723",
     "exception": false,
     "start_time": "2022-11-25T07:03:01.606185",
     "status": "completed"
    },
    "tags": []
   },
   "source": [
    "The data type is already in required format so we do not need to make any changes or cleaning"
   ]
  },
  {
   "cell_type": "markdown",
   "id": "69fe1363",
   "metadata": {
    "papermill": {
     "duration": 0.023142,
     "end_time": "2022-11-25T07:03:01.677020",
     "exception": false,
     "start_time": "2022-11-25T07:03:01.653878",
     "status": "completed"
    },
    "tags": []
   },
   "source": [
    "- Location"
   ]
  },
  {
   "cell_type": "code",
   "execution_count": 24,
   "id": "3ee50f2d",
   "metadata": {
    "execution": {
     "iopub.execute_input": "2022-11-25T07:03:01.725839Z",
     "iopub.status.busy": "2022-11-25T07:03:01.724720Z",
     "iopub.status.idle": "2022-11-25T07:03:01.736072Z",
     "shell.execute_reply": "2022-11-25T07:03:01.734794Z"
    },
    "papermill": {
     "duration": 0.038623,
     "end_time": "2022-11-25T07:03:01.738887",
     "exception": false,
     "start_time": "2022-11-25T07:03:01.700264",
     "status": "completed"
    },
    "scrolled": true,
    "tags": []
   },
   "outputs": [
    {
     "data": {
      "text/plain": [
       "False    34997\n",
       "True        14\n",
       "Name: Location, dtype: int64"
      ]
     },
     "execution_count": 24,
     "metadata": {},
     "output_type": "execute_result"
    }
   ],
   "source": [
    "zomato.Location.isnull().value_counts()"
   ]
  },
  {
   "cell_type": "markdown",
   "id": "e0fda969",
   "metadata": {
    "papermill": {
     "duration": 0.023081,
     "end_time": "2022-11-25T07:03:01.785896",
     "exception": false,
     "start_time": "2022-11-25T07:03:01.762815",
     "status": "completed"
    },
    "tags": []
   },
   "source": [
    "Location column consists of 14 null values which we will drop later"
   ]
  },
  {
   "cell_type": "markdown",
   "id": "881bab9d",
   "metadata": {
    "papermill": {
     "duration": 0.022979,
     "end_time": "2022-11-25T07:03:01.832422",
     "exception": false,
     "start_time": "2022-11-25T07:03:01.809443",
     "status": "completed"
    },
    "tags": []
   },
   "source": [
    "- Restaurant type"
   ]
  },
  {
   "cell_type": "code",
   "execution_count": 25,
   "id": "5b453168",
   "metadata": {
    "execution": {
     "iopub.execute_input": "2022-11-25T07:03:01.880563Z",
     "iopub.status.busy": "2022-11-25T07:03:01.880105Z",
     "iopub.status.idle": "2022-11-25T07:03:01.891432Z",
     "shell.execute_reply": "2022-11-25T07:03:01.890323Z"
    },
    "papermill": {
     "duration": 0.038425,
     "end_time": "2022-11-25T07:03:01.893955",
     "exception": false,
     "start_time": "2022-11-25T07:03:01.855530",
     "status": "completed"
    },
    "scrolled": true,
    "tags": []
   },
   "outputs": [
    {
     "data": {
      "text/plain": [
       "False    34855\n",
       "True       156\n",
       "Name: Restaurant type, dtype: int64"
      ]
     },
     "execution_count": 25,
     "metadata": {},
     "output_type": "execute_result"
    }
   ],
   "source": [
    "zomato[\"Restaurant type\"].isnull().value_counts()"
   ]
  },
  {
   "cell_type": "markdown",
   "id": "c93098a8",
   "metadata": {
    "papermill": {
     "duration": 0.023078,
     "end_time": "2022-11-25T07:03:01.941081",
     "exception": false,
     "start_time": "2022-11-25T07:03:01.918003",
     "status": "completed"
    },
    "tags": []
   },
   "source": [
    "Restaurant type column consists of 156 null values which we will drop later"
   ]
  },
  {
   "cell_type": "code",
   "execution_count": 26,
   "id": "ff4f387e",
   "metadata": {
    "execution": {
     "iopub.execute_input": "2022-11-25T07:03:01.990154Z",
     "iopub.status.busy": "2022-11-25T07:03:01.989699Z",
     "iopub.status.idle": "2022-11-25T07:03:02.001279Z",
     "shell.execute_reply": "2022-11-25T07:03:02.000011Z"
    },
    "papermill": {
     "duration": 0.03954,
     "end_time": "2022-11-25T07:03:02.004040",
     "exception": false,
     "start_time": "2022-11-25T07:03:01.964500",
     "status": "completed"
    },
    "scrolled": true,
    "tags": []
   },
   "outputs": [
    {
     "data": {
      "text/plain": [
       "False    34978\n",
       "True        33\n",
       "Name: Cuisines, dtype: int64"
      ]
     },
     "execution_count": 26,
     "metadata": {},
     "output_type": "execute_result"
    }
   ],
   "source": [
    "zomato[\"Cuisines\"].isnull().value_counts()"
   ]
  },
  {
   "cell_type": "markdown",
   "id": "d8a0a282",
   "metadata": {
    "papermill": {
     "duration": 0.023858,
     "end_time": "2022-11-25T07:03:02.051511",
     "exception": false,
     "start_time": "2022-11-25T07:03:02.027653",
     "status": "completed"
    },
    "tags": []
   },
   "source": [
    "Cuisines column consists of 33 null values which we will drop later"
   ]
  },
  {
   "cell_type": "markdown",
   "id": "2884cf4d",
   "metadata": {
    "papermill": {
     "duration": 0.023596,
     "end_time": "2022-11-25T07:03:02.099068",
     "exception": false,
     "start_time": "2022-11-25T07:03:02.075472",
     "status": "completed"
    },
    "tags": []
   },
   "source": [
    "- Cost for two"
   ]
  },
  {
   "cell_type": "code",
   "execution_count": 27,
   "id": "653ee608",
   "metadata": {
    "execution": {
     "iopub.execute_input": "2022-11-25T07:03:02.148007Z",
     "iopub.status.busy": "2022-11-25T07:03:02.147561Z",
     "iopub.status.idle": "2022-11-25T07:03:02.159444Z",
     "shell.execute_reply": "2022-11-25T07:03:02.158131Z"
    },
    "papermill": {
     "duration": 0.03962,
     "end_time": "2022-11-25T07:03:02.162309",
     "exception": false,
     "start_time": "2022-11-25T07:03:02.122689",
     "status": "completed"
    },
    "scrolled": true,
    "tags": []
   },
   "outputs": [
    {
     "data": {
      "text/plain": [
       "False    34790\n",
       "True       221\n",
       "Name: Cost for two, dtype: int64"
      ]
     },
     "execution_count": 27,
     "metadata": {},
     "output_type": "execute_result"
    }
   ],
   "source": [
    "zomato['Cost for two'].isnull().value_counts()"
   ]
  },
  {
   "cell_type": "markdown",
   "id": "fd6908b1",
   "metadata": {
    "papermill": {
     "duration": 0.023326,
     "end_time": "2022-11-25T07:03:02.209872",
     "exception": false,
     "start_time": "2022-11-25T07:03:02.186546",
     "status": "completed"
    },
    "tags": []
   },
   "source": [
    "'Cost for two' column consists of 221 null values which we will drop later"
   ]
  },
  {
   "cell_type": "code",
   "execution_count": 28,
   "id": "935c5b8e",
   "metadata": {
    "execution": {
     "iopub.execute_input": "2022-11-25T07:03:02.260093Z",
     "iopub.status.busy": "2022-11-25T07:03:02.258811Z",
     "iopub.status.idle": "2022-11-25T07:03:02.268944Z",
     "shell.execute_reply": "2022-11-25T07:03:02.267705Z"
    },
    "papermill": {
     "duration": 0.037528,
     "end_time": "2022-11-25T07:03:02.271261",
     "exception": false,
     "start_time": "2022-11-25T07:03:02.233733",
     "status": "completed"
    },
    "scrolled": true,
    "tags": []
   },
   "outputs": [
    {
     "data": {
      "text/plain": [
       "array(['800', '300', '600', '700', '550', '500', '450', '650', '400',\n",
       "       '900', '200', '750', '150', '850', '100', '1,200', '350', '250',\n",
       "       '950', '1,000', '1,500', '1,300', '199', '80', '1,100', '160',\n",
       "       '1,600', '230', '130', '50', '190', '1,700', nan, '1,400', '180',\n",
       "       '1,350', '2,200', '2,000', '1,800', '1,900', '330', '2,500',\n",
       "       '2,100', '3,000', '2,800', '3,400', '40', '1,250', '3,500',\n",
       "       '4,000', '2,400', '2,600', '120', '1,450', '469', '70', '3,200',\n",
       "       '60', '560', '240', '360', '6,000', '1,050', '2,300', '4,100',\n",
       "       '5,000', '3,700', '1,650', '2,700', '4,500', '140'], dtype=object)"
      ]
     },
     "execution_count": 28,
     "metadata": {},
     "output_type": "execute_result"
    }
   ],
   "source": [
    "zomato['Cost for two'].unique()"
   ]
  },
  {
   "cell_type": "markdown",
   "id": "49d01af9",
   "metadata": {
    "papermill": {
     "duration": 0.023493,
     "end_time": "2022-11-25T07:03:02.318578",
     "exception": false,
     "start_time": "2022-11-25T07:03:02.295085",
     "status": "completed"
    },
    "tags": []
   },
   "source": [
    "Here we need to convert the values into numerical format for which we need to remove the comas from the values and then convert to floats"
   ]
  },
  {
   "cell_type": "code",
   "execution_count": 29,
   "id": "ee10b072",
   "metadata": {
    "execution": {
     "iopub.execute_input": "2022-11-25T07:03:02.368187Z",
     "iopub.status.busy": "2022-11-25T07:03:02.367774Z",
     "iopub.status.idle": "2022-11-25T07:03:02.408901Z",
     "shell.execute_reply": "2022-11-25T07:03:02.407552Z"
    },
    "papermill": {
     "duration": 0.069496,
     "end_time": "2022-11-25T07:03:02.411698",
     "exception": false,
     "start_time": "2022-11-25T07:03:02.342202",
     "status": "completed"
    },
    "tags": []
   },
   "outputs": [
    {
     "data": {
      "text/plain": [
       "0    800.0\n",
       "1    800.0\n",
       "2    800.0\n",
       "Name: Cost for two, dtype: float64"
      ]
     },
     "execution_count": 29,
     "metadata": {},
     "output_type": "execute_result"
    }
   ],
   "source": [
    "zomato[\"Cost for two\"]=zomato['Cost for two'].apply(lambda x:float(\"\".join(str(x).split(\",\"))))\n",
    "zomato[\"Cost for two\"].head(3)"
   ]
  },
  {
   "cell_type": "markdown",
   "id": "daf6b774",
   "metadata": {
    "papermill": {
     "duration": 0.026087,
     "end_time": "2022-11-25T07:03:02.462952",
     "exception": false,
     "start_time": "2022-11-25T07:03:02.436865",
     "status": "completed"
    },
    "tags": []
   },
   "source": [
    "Here we gave converted the \"Cost for two\" values to required format and float data type"
   ]
  },
  {
   "cell_type": "markdown",
   "id": "a8724d15",
   "metadata": {
    "papermill": {
     "duration": 0.024185,
     "end_time": "2022-11-25T07:03:02.512879",
     "exception": false,
     "start_time": "2022-11-25T07:03:02.488694",
     "status": "completed"
    },
    "tags": []
   },
   "source": [
    "- Category"
   ]
  },
  {
   "cell_type": "code",
   "execution_count": 30,
   "id": "ea80c903",
   "metadata": {
    "execution": {
     "iopub.execute_input": "2022-11-25T07:03:02.563330Z",
     "iopub.status.busy": "2022-11-25T07:03:02.562899Z",
     "iopub.status.idle": "2022-11-25T07:03:02.573730Z",
     "shell.execute_reply": "2022-11-25T07:03:02.572422Z"
    },
    "papermill": {
     "duration": 0.039448,
     "end_time": "2022-11-25T07:03:02.576187",
     "exception": false,
     "start_time": "2022-11-25T07:03:02.536739",
     "status": "completed"
    },
    "scrolled": true,
    "tags": []
   },
   "outputs": [
    {
     "data": {
      "text/plain": [
       "False    35011\n",
       "Name: Category, dtype: int64"
      ]
     },
     "execution_count": 30,
     "metadata": {},
     "output_type": "execute_result"
    }
   ],
   "source": [
    "zomato.Category.isnull().value_counts()"
   ]
  },
  {
   "cell_type": "markdown",
   "id": "20e2f5a7",
   "metadata": {
    "papermill": {
     "duration": 0.024248,
     "end_time": "2022-11-25T07:03:02.625075",
     "exception": false,
     "start_time": "2022-11-25T07:03:02.600827",
     "status": "completed"
    },
    "tags": []
   },
   "source": [
    "Online Service column do not contain any null values"
   ]
  },
  {
   "cell_type": "code",
   "execution_count": 31,
   "id": "27ee5776",
   "metadata": {
    "execution": {
     "iopub.execute_input": "2022-11-25T07:03:02.674838Z",
     "iopub.status.busy": "2022-11-25T07:03:02.674445Z",
     "iopub.status.idle": "2022-11-25T07:03:02.684726Z",
     "shell.execute_reply": "2022-11-25T07:03:02.683425Z"
    },
    "papermill": {
     "duration": 0.038121,
     "end_time": "2022-11-25T07:03:02.687089",
     "exception": false,
     "start_time": "2022-11-25T07:03:02.648968",
     "status": "completed"
    },
    "scrolled": true,
    "tags": []
   },
   "outputs": [
    {
     "data": {
      "text/plain": [
       "Delivery              16169\n",
       "Dine-out              12929\n",
       "Desserts               2476\n",
       "Cafes                  1249\n",
       "Drinks & nightlife      909\n",
       "Buffet                  674\n",
       "Pubs and bars           605\n",
       "Name: Category, dtype: int64"
      ]
     },
     "execution_count": 31,
     "metadata": {},
     "output_type": "execute_result"
    }
   ],
   "source": [
    "zomato.Category.value_counts()"
   ]
  },
  {
   "cell_type": "markdown",
   "id": "7e20c97c",
   "metadata": {
    "papermill": {
     "duration": 0.02393,
     "end_time": "2022-11-25T07:03:02.735273",
     "exception": false,
     "start_time": "2022-11-25T07:03:02.711343",
     "status": "completed"
    },
    "tags": []
   },
   "source": [
    "Category columns are in required categorical format does we do not need to make any changes in the column"
   ]
  },
  {
   "cell_type": "markdown",
   "id": "13e679e9",
   "metadata": {
    "papermill": {
     "duration": 0.023598,
     "end_time": "2022-11-25T07:03:02.782889",
     "exception": false,
     "start_time": "2022-11-25T07:03:02.759291",
     "status": "completed"
    },
    "tags": []
   },
   "source": [
    "#### - Removing NaN values from the dataset"
   ]
  },
  {
   "cell_type": "code",
   "execution_count": 32,
   "id": "41eb8d44",
   "metadata": {
    "execution": {
     "iopub.execute_input": "2022-11-25T07:03:02.833282Z",
     "iopub.status.busy": "2022-11-25T07:03:02.832872Z",
     "iopub.status.idle": "2022-11-25T07:03:02.866607Z",
     "shell.execute_reply": "2022-11-25T07:03:02.864903Z"
    },
    "papermill": {
     "duration": 0.063217,
     "end_time": "2022-11-25T07:03:02.870550",
     "exception": false,
     "start_time": "2022-11-25T07:03:02.807333",
     "status": "completed"
    },
    "scrolled": true,
    "tags": []
   },
   "outputs": [
    {
     "name": "stdout",
     "output_type": "stream",
     "text": [
      "Restaurant                0\n",
      "Online service            0\n",
      "Reservation service       0\n",
      "Rating                 3770\n",
      "Votes                     0\n",
      "Location                 14\n",
      "Restaurant type         156\n",
      "Cuisines                 33\n",
      "Cost for two            221\n",
      "Category                  0\n",
      "dtype: int64\n",
      "\n",
      "Total null values :  4194\n"
     ]
    }
   ],
   "source": [
    "print(zomato.isnull().sum())\n",
    "print(\"\\nTotal null values : \",zomato.isnull().sum().sum())"
   ]
  },
  {
   "cell_type": "markdown",
   "id": "60869760",
   "metadata": {
    "papermill": {
     "duration": 0.023935,
     "end_time": "2022-11-25T07:03:02.919863",
     "exception": false,
     "start_time": "2022-11-25T07:03:02.895928",
     "status": "completed"
    },
    "tags": []
   },
   "source": [
    "Here columns Rating,Location,Restaurant type,Cuisines,Cost for two contain null values , all together there are 4194 null values which we need to drop"
   ]
  },
  {
   "cell_type": "code",
   "execution_count": 33,
   "id": "49924055",
   "metadata": {
    "execution": {
     "iopub.execute_input": "2022-11-25T07:03:02.969870Z",
     "iopub.status.busy": "2022-11-25T07:03:02.969471Z",
     "iopub.status.idle": "2022-11-25T07:03:02.994193Z",
     "shell.execute_reply": "2022-11-25T07:03:02.993226Z"
    },
    "papermill": {
     "duration": 0.052961,
     "end_time": "2022-11-25T07:03:02.996974",
     "exception": false,
     "start_time": "2022-11-25T07:03:02.944013",
     "status": "completed"
    },
    "tags": []
   },
   "outputs": [],
   "source": [
    "zomato=zomato.dropna()"
   ]
  },
  {
   "cell_type": "code",
   "execution_count": 34,
   "id": "618201d5",
   "metadata": {
    "execution": {
     "iopub.execute_input": "2022-11-25T07:03:03.049066Z",
     "iopub.status.busy": "2022-11-25T07:03:03.048626Z",
     "iopub.status.idle": "2022-11-25T07:03:03.068676Z",
     "shell.execute_reply": "2022-11-25T07:03:03.067598Z"
    },
    "papermill": {
     "duration": 0.048189,
     "end_time": "2022-11-25T07:03:03.071234",
     "exception": false,
     "start_time": "2022-11-25T07:03:03.023045",
     "status": "completed"
    },
    "tags": []
   },
   "outputs": [
    {
     "data": {
      "text/plain": [
       "Restaurant             0\n",
       "Online service         0\n",
       "Reservation service    0\n",
       "Rating                 0\n",
       "Votes                  0\n",
       "Location               0\n",
       "Restaurant type        0\n",
       "Cuisines               0\n",
       "Cost for two           0\n",
       "Category               0\n",
       "dtype: int64"
      ]
     },
     "execution_count": 34,
     "metadata": {},
     "output_type": "execute_result"
    }
   ],
   "source": [
    "zomato.isnull().sum()"
   ]
  },
  {
   "cell_type": "markdown",
   "id": "aa49a1d7",
   "metadata": {
    "papermill": {
     "duration": 0.023883,
     "end_time": "2022-11-25T07:03:03.119340",
     "exception": false,
     "start_time": "2022-11-25T07:03:03.095457",
     "status": "completed"
    },
    "tags": []
   },
   "source": [
    "Here we have successfully dropped all the null columns from the dataset"
   ]
  },
  {
   "cell_type": "markdown",
   "id": "020bcb27",
   "metadata": {
    "papermill": {
     "duration": 0.023985,
     "end_time": "2022-11-25T07:03:03.168207",
     "exception": false,
     "start_time": "2022-11-25T07:03:03.144222",
     "status": "completed"
    },
    "tags": []
   },
   "source": [
    "#### - Some more transformations"
   ]
  },
  {
   "cell_type": "markdown",
   "id": "9b060b92",
   "metadata": {
    "papermill": {
     "duration": 0.023968,
     "end_time": "2022-11-25T07:03:03.217216",
     "exception": false,
     "start_time": "2022-11-25T07:03:03.193248",
     "status": "completed"
    },
    "tags": []
   },
   "source": [
    "Depending upon the cost for two people we will classify the restaurants in categories like Very low, Low, Moderate, High ,Very high"
   ]
  },
  {
   "cell_type": "code",
   "execution_count": 35,
   "id": "325a28a8",
   "metadata": {
    "execution": {
     "iopub.execute_input": "2022-11-25T07:03:03.267651Z",
     "iopub.status.busy": "2022-11-25T07:03:03.267209Z",
     "iopub.status.idle": "2022-11-25T07:03:03.274456Z",
     "shell.execute_reply": "2022-11-25T07:03:03.273286Z"
    },
    "papermill": {
     "duration": 0.035151,
     "end_time": "2022-11-25T07:03:03.276716",
     "exception": false,
     "start_time": "2022-11-25T07:03:03.241565",
     "status": "completed"
    },
    "tags": []
   },
   "outputs": [
    {
     "name": "stdout",
     "output_type": "stream",
     "text": [
      "Minimum cost :  40.0 \n",
      "Maximum cost :  6000.0\n"
     ]
    }
   ],
   "source": [
    "print(\"Minimum cost : \",zomato[\"Cost for two\"].min(),\"\\nMaximum cost : \",zomato[\"Cost for two\"].max())"
   ]
  },
  {
   "cell_type": "code",
   "execution_count": 36,
   "id": "45a3344f",
   "metadata": {
    "execution": {
     "iopub.execute_input": "2022-11-25T07:03:03.327693Z",
     "iopub.status.busy": "2022-11-25T07:03:03.327273Z",
     "iopub.status.idle": "2022-11-25T07:03:03.334655Z",
     "shell.execute_reply": "2022-11-25T07:03:03.333427Z"
    },
    "papermill": {
     "duration": 0.03571,
     "end_time": "2022-11-25T07:03:03.336966",
     "exception": false,
     "start_time": "2022-11-25T07:03:03.301256",
     "status": "completed"
    },
    "tags": []
   },
   "outputs": [
    {
     "data": {
      "text/plain": [
       "array([  40., 1530., 3020., 4510., 6000.])"
      ]
     },
     "execution_count": 36,
     "metadata": {},
     "output_type": "execute_result"
    }
   ],
   "source": [
    "np.linspace(40,6000,5)"
   ]
  },
  {
   "cell_type": "markdown",
   "id": "ca6e65e0",
   "metadata": {
    "papermill": {
     "duration": 0.024175,
     "end_time": "2022-11-25T07:03:03.385664",
     "exception": false,
     "start_time": "2022-11-25T07:03:03.361489",
     "status": "completed"
    },
    "tags": []
   },
   "source": [
    "Criteria for splitting in the above cell"
   ]
  },
  {
   "cell_type": "code",
   "execution_count": 37,
   "id": "02928f42",
   "metadata": {
    "execution": {
     "iopub.execute_input": "2022-11-25T07:03:03.437024Z",
     "iopub.status.busy": "2022-11-25T07:03:03.436561Z",
     "iopub.status.idle": "2022-11-25T07:03:03.460089Z",
     "shell.execute_reply": "2022-11-25T07:03:03.458728Z"
    },
    "papermill": {
     "duration": 0.052768,
     "end_time": "2022-11-25T07:03:03.462867",
     "exception": false,
     "start_time": "2022-11-25T07:03:03.410099",
     "status": "completed"
    },
    "tags": []
   },
   "outputs": [
    {
     "data": {
      "text/plain": [
       "Low          29526\n",
       "Moderate      1370\n",
       "High            59\n",
       "Very high        3\n",
       "Name: Price level, dtype: int64"
      ]
     },
     "execution_count": 37,
     "metadata": {},
     "output_type": "execute_result"
    }
   ],
   "source": [
    "zomato[\"Price level\"]=\"x\"\n",
    "zomato.loc[(zomato[\"Cost for two\"]>=40)&(zomato[\"Cost for two\"]<=1530),\"Price level\"]=\"Low\"\n",
    "zomato.loc[(zomato[\"Cost for two\"]>1530)&(zomato[\"Cost for two\"]<=3020),\"Price level\"]=\"Moderate\"\n",
    "zomato.loc[(zomato[\"Cost for two\"]>3020)&(zomato[\"Cost for two\"]<=4510),\"Price level\"]=\"High\"\n",
    "zomato.loc[(zomato[\"Cost for two\"]>4510),\"Price level\"]=\"Very high\"\n",
    "zomato[\"Price level\"].value_counts()"
   ]
  },
  {
   "cell_type": "markdown",
   "id": "eea0a07b",
   "metadata": {
    "papermill": {
     "duration": 0.024581,
     "end_time": "2022-11-25T07:03:03.512605",
     "exception": false,
     "start_time": "2022-11-25T07:03:03.488024",
     "status": "completed"
    },
    "tags": []
   },
   "source": [
    "### - Data Visualization "
   ]
  },
  {
   "cell_type": "code",
   "execution_count": 38,
   "id": "ce19f151",
   "metadata": {
    "execution": {
     "iopub.execute_input": "2022-11-25T07:03:03.566022Z",
     "iopub.status.busy": "2022-11-25T07:03:03.565202Z",
     "iopub.status.idle": "2022-11-25T07:03:03.584956Z",
     "shell.execute_reply": "2022-11-25T07:03:03.583584Z"
    },
    "papermill": {
     "duration": 0.048827,
     "end_time": "2022-11-25T07:03:03.587302",
     "exception": false,
     "start_time": "2022-11-25T07:03:03.538475",
     "status": "completed"
    },
    "scrolled": true,
    "tags": []
   },
   "outputs": [
    {
     "data": {
      "text/html": [
       "<div>\n",
       "<style scoped>\n",
       "    .dataframe tbody tr th:only-of-type {\n",
       "        vertical-align: middle;\n",
       "    }\n",
       "\n",
       "    .dataframe tbody tr th {\n",
       "        vertical-align: top;\n",
       "    }\n",
       "\n",
       "    .dataframe thead th {\n",
       "        text-align: right;\n",
       "    }\n",
       "</style>\n",
       "<table border=\"1\" class=\"dataframe\">\n",
       "  <thead>\n",
       "    <tr style=\"text-align: right;\">\n",
       "      <th></th>\n",
       "      <th>Restaurant</th>\n",
       "      <th>Online service</th>\n",
       "      <th>Reservation service</th>\n",
       "      <th>Rating</th>\n",
       "      <th>Votes</th>\n",
       "      <th>Location</th>\n",
       "      <th>Restaurant type</th>\n",
       "      <th>Cuisines</th>\n",
       "      <th>Cost for two</th>\n",
       "      <th>Category</th>\n",
       "      <th>Price level</th>\n",
       "    </tr>\n",
       "  </thead>\n",
       "  <tbody>\n",
       "    <tr>\n",
       "      <th>0</th>\n",
       "      <td>Jalsa</td>\n",
       "      <td>Yes</td>\n",
       "      <td>Yes</td>\n",
       "      <td>4.1</td>\n",
       "      <td>775</td>\n",
       "      <td>Banashankari</td>\n",
       "      <td>Casual Dining</td>\n",
       "      <td>North Indian, Mughlai, Chinese</td>\n",
       "      <td>800.0</td>\n",
       "      <td>Buffet</td>\n",
       "      <td>Low</td>\n",
       "    </tr>\n",
       "    <tr>\n",
       "      <th>1</th>\n",
       "      <td>Spice Elephant</td>\n",
       "      <td>Yes</td>\n",
       "      <td>No</td>\n",
       "      <td>4.1</td>\n",
       "      <td>787</td>\n",
       "      <td>Banashankari</td>\n",
       "      <td>Casual Dining</td>\n",
       "      <td>Chinese, North Indian, Thai</td>\n",
       "      <td>800.0</td>\n",
       "      <td>Buffet</td>\n",
       "      <td>Low</td>\n",
       "    </tr>\n",
       "    <tr>\n",
       "      <th>2</th>\n",
       "      <td>San Churro Cafe</td>\n",
       "      <td>Yes</td>\n",
       "      <td>No</td>\n",
       "      <td>3.8</td>\n",
       "      <td>918</td>\n",
       "      <td>Banashankari</td>\n",
       "      <td>Cafe, Casual Dining</td>\n",
       "      <td>Cafe, Mexican, Italian</td>\n",
       "      <td>800.0</td>\n",
       "      <td>Buffet</td>\n",
       "      <td>Low</td>\n",
       "    </tr>\n",
       "    <tr>\n",
       "      <th>3</th>\n",
       "      <td>Addhuri Udupi Bhojana</td>\n",
       "      <td>No</td>\n",
       "      <td>No</td>\n",
       "      <td>3.7</td>\n",
       "      <td>88</td>\n",
       "      <td>Banashankari</td>\n",
       "      <td>Quick Bites</td>\n",
       "      <td>South Indian, North Indian</td>\n",
       "      <td>300.0</td>\n",
       "      <td>Buffet</td>\n",
       "      <td>Low</td>\n",
       "    </tr>\n",
       "  </tbody>\n",
       "</table>\n",
       "</div>"
      ],
      "text/plain": [
       "              Restaurant Online service Reservation service  Rating  Votes  \\\n",
       "0                  Jalsa            Yes                 Yes     4.1    775   \n",
       "1         Spice Elephant            Yes                  No     4.1    787   \n",
       "2        San Churro Cafe            Yes                  No     3.8    918   \n",
       "3  Addhuri Udupi Bhojana             No                  No     3.7     88   \n",
       "\n",
       "       Location      Restaurant type                        Cuisines  \\\n",
       "0  Banashankari        Casual Dining  North Indian, Mughlai, Chinese   \n",
       "1  Banashankari        Casual Dining     Chinese, North Indian, Thai   \n",
       "2  Banashankari  Cafe, Casual Dining          Cafe, Mexican, Italian   \n",
       "3  Banashankari          Quick Bites      South Indian, North Indian   \n",
       "\n",
       "   Cost for two Category Price level  \n",
       "0         800.0   Buffet         Low  \n",
       "1         800.0   Buffet         Low  \n",
       "2         800.0   Buffet         Low  \n",
       "3         300.0   Buffet         Low  "
      ]
     },
     "execution_count": 38,
     "metadata": {},
     "output_type": "execute_result"
    }
   ],
   "source": [
    "zomato.head(4)"
   ]
  },
  {
   "cell_type": "code",
   "execution_count": 39,
   "id": "0a8247f4",
   "metadata": {
    "execution": {
     "iopub.execute_input": "2022-11-25T07:03:03.640892Z",
     "iopub.status.busy": "2022-11-25T07:03:03.640100Z",
     "iopub.status.idle": "2022-11-25T07:03:03.887464Z",
     "shell.execute_reply": "2022-11-25T07:03:03.886167Z"
    },
    "papermill": {
     "duration": 0.277092,
     "end_time": "2022-11-25T07:03:03.890228",
     "exception": false,
     "start_time": "2022-11-25T07:03:03.613136",
     "status": "completed"
    },
    "tags": []
   },
   "outputs": [
    {
     "data": {
      "text/plain": [
       "<AxesSubplot:xlabel='Online service', ylabel='count'>"
      ]
     },
     "execution_count": 39,
     "metadata": {},
     "output_type": "execute_result"
    },
    {
     "data": {
      "image/png": "[encoded data removed]",
      "text/plain": [
       "<Figure size 432x288 with 1 Axes>"
      ]
     },
     "metadata": {
      "needs_background": "light"
     },
     "output_type": "display_data"
    }
   ],
   "source": [
    "sns.countplot(x=\"Online service\",data=zomato)"
   ]
  },
  {
   "cell_type": "markdown",
   "id": "82871995",
   "metadata": {
    "papermill": {
     "duration": 0.025895,
     "end_time": "2022-11-25T07:03:03.941501",
     "exception": false,
     "start_time": "2022-11-25T07:03:03.915606",
     "status": "completed"
    },
    "tags": []
   },
   "source": [
    "Here we can infer that the number of restaurants providing online service is more than that of restaurants which do not, with the digitalization of society it is obvious that most of the businesses have adapted digital means for business.  \n",
    "\n",
    "There still exists restaurants who do not offer online services, reasons may be financial, geographical, lack of facilities, etc. "
   ]
  },
  {
   "cell_type": "code",
   "execution_count": 40,
   "id": "df33f17e",
   "metadata": {
    "execution": {
     "iopub.execute_input": "2022-11-25T07:03:03.994391Z",
     "iopub.status.busy": "2022-11-25T07:03:03.993619Z",
     "iopub.status.idle": "2022-11-25T07:03:04.566087Z",
     "shell.execute_reply": "2022-11-25T07:03:04.565190Z"
    },
    "papermill": {
     "duration": 0.601445,
     "end_time": "2022-11-25T07:03:04.568385",
     "exception": false,
     "start_time": "2022-11-25T07:03:03.966940",
     "status": "completed"
    },
    "scrolled": true,
    "tags": []
   },
   "outputs": [
    {
     "data": {
      "text/plain": [
       "<AxesSubplot:xlabel='Online service', ylabel='Rating'>"
      ]
     },
     "execution_count": 40,
     "metadata": {},
     "output_type": "execute_result"
    },
    {
     "data": {
      "image/png": "[encoded data removed]",
      "text/plain": [
       "<Figure size 432x288 with 1 Axes>"
      ]
     },
     "metadata": {
      "needs_background": "light"
     },
     "output_type": "display_data"
    }
   ],
   "source": [
    "sns.barplot(x='Online service',y=\"Rating\",data=zomato)"
   ]
  },
  {
   "cell_type": "markdown",
   "id": "b28176bf",
   "metadata": {
    "papermill": {
     "duration": 0.02516,
     "end_time": "2022-11-25T07:03:04.619274",
     "exception": false,
     "start_time": "2022-11-25T07:03:04.594114",
     "status": "completed"
    },
    "tags": []
   },
   "source": [
    "Here we can infer that Rating of the restaurtants who offer online services have higher ratings as compared to restaurants which do not "
   ]
  },
  {
   "cell_type": "code",
   "execution_count": 41,
   "id": "8a6851a4",
   "metadata": {
    "execution": {
     "iopub.execute_input": "2022-11-25T07:03:04.672667Z",
     "iopub.status.busy": "2022-11-25T07:03:04.671952Z",
     "iopub.status.idle": "2022-11-25T07:03:04.855841Z",
     "shell.execute_reply": "2022-11-25T07:03:04.854870Z"
    },
    "papermill": {
     "duration": 0.213308,
     "end_time": "2022-11-25T07:03:04.858241",
     "exception": false,
     "start_time": "2022-11-25T07:03:04.644933",
     "status": "completed"
    },
    "scrolled": true,
    "tags": []
   },
   "outputs": [
    {
     "data": {
      "text/plain": [
       "<AxesSubplot:xlabel='Reservation service', ylabel='count'>"
      ]
     },
     "execution_count": 41,
     "metadata": {},
     "output_type": "execute_result"
    },
    {
     "data": {
      "image/png": "[encoded data removed]",
      "text/plain": [
       "<Figure size 432x288 with 1 Axes>"
      ]
     },
     "metadata": {
      "needs_background": "light"
     },
     "output_type": "display_data"
    }
   ],
   "source": [
    "sns.countplot(x=\"Reservation service\",data=zomato)"
   ]
  },
  {
   "cell_type": "markdown",
   "id": "38a5389a",
   "metadata": {
    "papermill": {
     "duration": 0.025471,
     "end_time": "2022-11-25T07:03:04.909858",
     "exception": false,
     "start_time": "2022-11-25T07:03:04.884387",
     "status": "completed"
    },
    "tags": []
   },
   "source": [
    "Here we can infer that hotels providing reservation services are lesser in number as compared to those which do not"
   ]
  },
  {
   "cell_type": "code",
   "execution_count": 42,
   "id": "4f9176a7",
   "metadata": {
    "execution": {
     "iopub.execute_input": "2022-11-25T07:03:04.963012Z",
     "iopub.status.busy": "2022-11-25T07:03:04.962609Z",
     "iopub.status.idle": "2022-11-25T07:03:05.539981Z",
     "shell.execute_reply": "2022-11-25T07:03:05.538969Z"
    },
    "papermill": {
     "duration": 0.606867,
     "end_time": "2022-11-25T07:03:05.542421",
     "exception": false,
     "start_time": "2022-11-25T07:03:04.935554",
     "status": "completed"
    },
    "tags": []
   },
   "outputs": [
    {
     "data": {
      "text/plain": [
       "<AxesSubplot:xlabel='Reservation service', ylabel='Rating'>"
      ]
     },
     "execution_count": 42,
     "metadata": {},
     "output_type": "execute_result"
    },
    {
     "data": {
      "image/png": "[encoded data removed]",
      "text/plain": [
       "<Figure size 432x288 with 1 Axes>"
      ]
     },
     "metadata": {
      "needs_background": "light"
     },
     "output_type": "display_data"
    }
   ],
   "source": [
    "sns.barplot(x=\"Reservation service\",y=\"Rating\",data=zomato)"
   ]
  },
  {
   "cell_type": "markdown",
   "id": "27878877",
   "metadata": {
    "papermill": {
     "duration": 0.026145,
     "end_time": "2022-11-25T07:03:05.595085",
     "exception": false,
     "start_time": "2022-11-25T07:03:05.568940",
     "status": "completed"
    },
    "tags": []
   },
   "source": [
    "Here we can infer that hotels providing reservation services have higher ratings than the hotels which do not."
   ]
  },
  {
   "cell_type": "code",
   "execution_count": 43,
   "id": "51ca4507",
   "metadata": {
    "execution": {
     "iopub.execute_input": "2022-11-25T07:03:05.650284Z",
     "iopub.status.busy": "2022-11-25T07:03:05.649111Z",
     "iopub.status.idle": "2022-11-25T07:03:05.889553Z",
     "shell.execute_reply": "2022-11-25T07:03:05.887897Z"
    },
    "papermill": {
     "duration": 0.270813,
     "end_time": "2022-11-25T07:03:05.892440",
     "exception": false,
     "start_time": "2022-11-25T07:03:05.621627",
     "status": "completed"
    },
    "scrolled": true,
    "tags": []
   },
   "outputs": [
    {
     "data": {
      "text/plain": [
       "<AxesSubplot:xlabel='Location'>"
      ]
     },
     "execution_count": 43,
     "metadata": {},
     "output_type": "execute_result"
    },
    {
     "data": {
      "image/png": "[encoded data removed]",
      "text/plain": [
       "<Figure size 720x360 with 1 Axes>"
      ]
     },
     "metadata": {
      "needs_background": "light"
     },
     "output_type": "display_data"
    }
   ],
   "source": [
    "(zomato.groupby([\"Location\"])['Rating'].mean()).nlargest(5).plot(kind=\"line\",figsize=(10,5))"
   ]
  },
  {
   "cell_type": "markdown",
   "id": "fa46ca5a",
   "metadata": {
    "papermill": {
     "duration": 0.026347,
     "end_time": "2022-11-25T07:03:05.946563",
     "exception": false,
     "start_time": "2022-11-25T07:03:05.920216",
     "status": "completed"
    },
    "tags": []
   },
   "source": [
    "Here we can infer that location \"Lavelle Road\" is the best location for providing food service"
   ]
  },
  {
   "cell_type": "code",
   "execution_count": 44,
   "id": "3453e4bc",
   "metadata": {
    "execution": {
     "iopub.execute_input": "2022-11-25T07:03:06.002381Z",
     "iopub.status.busy": "2022-11-25T07:03:06.001862Z",
     "iopub.status.idle": "2022-11-25T07:03:06.235696Z",
     "shell.execute_reply": "2022-11-25T07:03:06.234780Z"
    },
    "papermill": {
     "duration": 0.264809,
     "end_time": "2022-11-25T07:03:06.238057",
     "exception": false,
     "start_time": "2022-11-25T07:03:05.973248",
     "status": "completed"
    },
    "scrolled": true,
    "tags": []
   },
   "outputs": [
    {
     "data": {
      "text/plain": [
       "<AxesSubplot:xlabel='Location'>"
      ]
     },
     "execution_count": 44,
     "metadata": {},
     "output_type": "execute_result"
    },
    {
     "data": {
      "image/png": "[encoded data removed]",
      "text/plain": [
       "<Figure size 1152x360 with 1 Axes>"
      ]
     },
     "metadata": {
      "needs_background": "light"
     },
     "output_type": "display_data"
    }
   ],
   "source": [
    "a = zomato.groupby(\"Location\")[\"Rating\"].mean().head(15)\n",
    "a.plot(kind=\"line\",figsize=(16,5))"
   ]
  },
  {
   "cell_type": "markdown",
   "id": "10cc0171",
   "metadata": {
    "papermill": {
     "duration": 0.027782,
     "end_time": "2022-11-25T07:03:06.293497",
     "exception": false,
     "start_time": "2022-11-25T07:03:06.265715",
     "status": "completed"
    },
    "tags": []
   },
   "source": [
    "Here we can infer that Restaurants at locations BTM, Banaswadi, Basavanagudi, Belandur, CV Raman Nagar, Commmercail Street have near about similar ratings in the range of 3.3 to 3.5 and Church Street has the highest rating followed by Brigade road."
   ]
  },
  {
   "cell_type": "code",
   "execution_count": 45,
   "id": "4a406bee",
   "metadata": {
    "execution": {
     "iopub.execute_input": "2022-11-25T07:03:06.351958Z",
     "iopub.status.busy": "2022-11-25T07:03:06.351185Z",
     "iopub.status.idle": "2022-11-25T07:03:06.589196Z",
     "shell.execute_reply": "2022-11-25T07:03:06.588272Z"
    },
    "papermill": {
     "duration": 0.269943,
     "end_time": "2022-11-25T07:03:06.591667",
     "exception": false,
     "start_time": "2022-11-25T07:03:06.321724",
     "status": "completed"
    },
    "scrolled": true,
    "tags": []
   },
   "outputs": [
    {
     "data": {
      "text/plain": [
       "<AxesSubplot:xlabel='count', ylabel='Category'>"
      ]
     },
     "execution_count": 45,
     "metadata": {},
     "output_type": "execute_result"
    },
    {
     "data": {
      "image/png": "[encoded data removed]",
      "text/plain": [
       "<Figure size 432x288 with 1 Axes>"
      ]
     },
     "metadata": {
      "needs_background": "light"
     },
     "output_type": "display_data"
    }
   ],
   "source": [
    "sns.countplot(y=\"Category\",data=zomato)"
   ]
  },
  {
   "cell_type": "markdown",
   "id": "e0356c05",
   "metadata": {
    "papermill": {
     "duration": 0.027374,
     "end_time": "2022-11-25T07:03:06.647830",
     "exception": false,
     "start_time": "2022-11-25T07:03:06.620456",
     "status": "completed"
    },
    "tags": []
   },
   "source": [
    "Here we can infer that restaurants of delivery category are abundant followed by Dine-out and lowest being the buffet and Pubs"
   ]
  },
  {
   "cell_type": "code",
   "execution_count": 46,
   "id": "d24aa518",
   "metadata": {
    "execution": {
     "iopub.execute_input": "2022-11-25T07:03:06.705082Z",
     "iopub.status.busy": "2022-11-25T07:03:06.704669Z",
     "iopub.status.idle": "2022-11-25T07:03:06.939602Z",
     "shell.execute_reply": "2022-11-25T07:03:06.938414Z"
    },
    "papermill": {
     "duration": 0.266495,
     "end_time": "2022-11-25T07:03:06.942142",
     "exception": false,
     "start_time": "2022-11-25T07:03:06.675647",
     "status": "completed"
    },
    "tags": []
   },
   "outputs": [
    {
     "data": {
      "text/plain": [
       "<AxesSubplot:xlabel='Restaurant type'>"
      ]
     },
     "execution_count": 46,
     "metadata": {},
     "output_type": "execute_result"
    },
    {
     "data": {
      "image/png": "[encoded data removed]",
      "text/plain": [
       "<Figure size 1152x360 with 1 Axes>"
      ]
     },
     "metadata": {
      "needs_background": "light"
     },
     "output_type": "display_data"
    }
   ],
   "source": [
    "(zomato.groupby(\"Restaurant type\")[\"Rating\"].mean().head(15)).plot(kind=\"line\",figsize=(16,5))"
   ]
  },
  {
   "cell_type": "code",
   "execution_count": 47,
   "id": "cc12c933",
   "metadata": {
    "execution": {
     "iopub.execute_input": "2022-11-25T07:03:07.001046Z",
     "iopub.status.busy": "2022-11-25T07:03:07.000601Z",
     "iopub.status.idle": "2022-11-25T07:03:07.416162Z",
     "shell.execute_reply": "2022-11-25T07:03:07.415045Z"
    },
    "papermill": {
     "duration": 0.447995,
     "end_time": "2022-11-25T07:03:07.418816",
     "exception": false,
     "start_time": "2022-11-25T07:03:06.970821",
     "status": "completed"
    },
    "tags": []
   },
   "outputs": [
    {
     "data": {
      "text/plain": [
       "<AxesSubplot:xlabel='Cost for two', ylabel='Restaurant'>"
      ]
     },
     "execution_count": 47,
     "metadata": {},
     "output_type": "execute_result"
    },
    {
     "data": {
      "image/png": "[encoded data removed]",
      "text/plain": [
       "<Figure size 432x288 with 1 Axes>"
      ]
     },
     "metadata": {
      "needs_background": "light"
     },
     "output_type": "display_data"
    }
   ],
   "source": [
    "sns.barplot(x=\"Cost for two\",y=\"Restaurant\",data=zomato[[\"Restaurant\",\"Cost for two\"]].nlargest(15,\"Cost for two\"))"
   ]
  },
  {
   "cell_type": "markdown",
   "id": "03c15e52",
   "metadata": {
    "papermill": {
     "duration": 0.029435,
     "end_time": "2022-11-25T07:03:07.477314",
     "exception": false,
     "start_time": "2022-11-25T07:03:07.447879",
     "status": "completed"
    },
    "tags": []
   },
   "source": [
    "Here we can infer that Le Cirque Signature-The Leela Palace is the costliest restaurants followed by Royal Afghan-ITC Windsor"
   ]
  },
  {
   "cell_type": "code",
   "execution_count": 48,
   "id": "45ad8dc0",
   "metadata": {
    "execution": {
     "iopub.execute_input": "2022-11-25T07:03:07.537601Z",
     "iopub.status.busy": "2022-11-25T07:03:07.536889Z",
     "iopub.status.idle": "2022-11-25T07:03:07.768547Z",
     "shell.execute_reply": "2022-11-25T07:03:07.767417Z"
    },
    "papermill": {
     "duration": 0.264873,
     "end_time": "2022-11-25T07:03:07.771150",
     "exception": false,
     "start_time": "2022-11-25T07:03:07.506277",
     "status": "completed"
    },
    "scrolled": true,
    "tags": []
   },
   "outputs": [
    {
     "data": {
      "text/plain": [
       "<AxesSubplot:ylabel='Location'>"
      ]
     },
     "execution_count": 48,
     "metadata": {},
     "output_type": "execute_result"
    },
    {
     "data": {
      "image/png": "[encoded data removed]",
      "text/plain": [
       "<Figure size 720x360 with 1 Axes>"
      ]
     },
     "metadata": {
      "needs_background": "light"
     },
     "output_type": "display_data"
    }
   ],
   "source": [
    "(zomato.groupby(\"Location\")[\"Location\"].count().nlargest(10)).plot(kind=\"barh\",color=\"red\",figsize=(10,5))"
   ]
  },
  {
   "cell_type": "markdown",
   "id": "6904b52a",
   "metadata": {
    "papermill": {
     "duration": 0.028702,
     "end_time": "2022-11-25T07:03:07.829293",
     "exception": false,
     "start_time": "2022-11-25T07:03:07.800591",
     "status": "completed"
    },
    "tags": []
   },
   "source": [
    "Here we can infer that the location BTM consists maximum number of restaurants followed by Indiranagar"
   ]
  },
  {
   "cell_type": "code",
   "execution_count": 49,
   "id": "77595b1c",
   "metadata": {
    "execution": {
     "iopub.execute_input": "2022-11-25T07:03:07.890086Z",
     "iopub.status.busy": "2022-11-25T07:03:07.889658Z",
     "iopub.status.idle": "2022-11-25T07:03:08.098491Z",
     "shell.execute_reply": "2022-11-25T07:03:08.097319Z"
    },
    "papermill": {
     "duration": 0.242478,
     "end_time": "2022-11-25T07:03:08.101071",
     "exception": false,
     "start_time": "2022-11-25T07:03:07.858593",
     "status": "completed"
    },
    "tags": []
   },
   "outputs": [
    {
     "data": {
      "text/plain": [
       "<AxesSubplot:>"
      ]
     },
     "execution_count": 49,
     "metadata": {},
     "output_type": "execute_result"
    },
    {
     "data": {
      "image/png": "[encoded data removed]",
      "text/plain": [
       "<Figure size 1152x360 with 1 Axes>"
      ]
     },
     "metadata": {
      "needs_background": "light"
     },
     "output_type": "display_data"
    }
   ],
   "source": [
    "(zomato[\"Restaurant type\"].value_counts().head(6)).plot(kind=\"line\",figsize=(16,5))"
   ]
  },
  {
   "cell_type": "markdown",
   "id": "0796fc36",
   "metadata": {
    "papermill": {
     "duration": 0.029658,
     "end_time": "2022-11-25T07:03:08.160899",
     "exception": false,
     "start_time": "2022-11-25T07:03:08.131241",
     "status": "completed"
    },
    "tags": []
   },
   "source": [
    "Here we can infer that restaurants of type Quick bites are abundant followed by casual dining"
   ]
  },
  {
   "cell_type": "code",
   "execution_count": 50,
   "id": "26abbfaa",
   "metadata": {
    "execution": {
     "iopub.execute_input": "2022-11-25T07:03:08.223434Z",
     "iopub.status.busy": "2022-11-25T07:03:08.223004Z",
     "iopub.status.idle": "2022-11-25T07:03:13.368793Z",
     "shell.execute_reply": "2022-11-25T07:03:13.367368Z"
    },
    "papermill": {
     "duration": 5.180365,
     "end_time": "2022-11-25T07:03:13.371645",
     "exception": false,
     "start_time": "2022-11-25T07:03:08.191280",
     "status": "completed"
    },
    "tags": []
   },
   "outputs": [
    {
     "data": {
      "text/plain": [
       "<seaborn.axisgrid.JointGrid at 0x7f6e5ff8f310>"
      ]
     },
     "execution_count": 50,
     "metadata": {},
     "output_type": "execute_result"
    },
    {
     "data": {
      "image/png": "[encoded data removed]",
      "text/plain": [
       "<Figure size 648x648 with 3 Axes>"
      ]
     },
     "metadata": {
      "needs_background": "light"
     },
     "output_type": "display_data"
    }
   ],
   "source": [
    "sns.jointplot(x=\"Rating\",y=\"Votes\",data=zomato,kind=\"reg\",color=\"green\",height=9)"
   ]
  },
  {
   "cell_type": "markdown",
   "id": "a8621b2b",
   "metadata": {
    "papermill": {
     "duration": 0.032511,
     "end_time": "2022-11-25T07:03:13.437080",
     "exception": false,
     "start_time": "2022-11-25T07:03:13.404569",
     "status": "completed"
    },
    "tags": []
   },
   "source": [
    "Here we can infer that votes are directly proportional to rating and vice-versa , votes increase as rating increases as well as restaurants having rating between 4 to 5 recieve wide range of votes, dominant being the range 0 to 5000."
   ]
  },
  {
   "cell_type": "code",
   "execution_count": 51,
   "id": "4a8c5139",
   "metadata": {
    "execution": {
     "iopub.execute_input": "2022-11-25T07:03:13.504942Z",
     "iopub.status.busy": "2022-11-25T07:03:13.504149Z",
     "iopub.status.idle": "2022-11-25T07:03:13.712879Z",
     "shell.execute_reply": "2022-11-25T07:03:13.711622Z"
    },
    "papermill": {
     "duration": 0.245821,
     "end_time": "2022-11-25T07:03:13.715515",
     "exception": false,
     "start_time": "2022-11-25T07:03:13.469694",
     "status": "completed"
    },
    "tags": []
   },
   "outputs": [
    {
     "data": {
      "text/plain": [
       "<AxesSubplot:xlabel='Price level', ylabel='count'>"
      ]
     },
     "execution_count": 51,
     "metadata": {},
     "output_type": "execute_result"
    },
    {
     "data": {
      "image/png": "[encoded data removed]",
      "text/plain": [
       "<Figure size 432x288 with 1 Axes>"
      ]
     },
     "metadata": {
      "needs_background": "light"
     },
     "output_type": "display_data"
    }
   ],
   "source": [
    "sns.countplot(x=\"Price level\",data=zomato)"
   ]
  },
  {
   "cell_type": "markdown",
   "id": "5448b584",
   "metadata": {
    "papermill": {
     "duration": 0.031067,
     "end_time": "2022-11-25T07:03:13.777742",
     "exception": false,
     "start_time": "2022-11-25T07:03:13.746675",
     "status": "completed"
    },
    "tags": []
   },
   "source": [
    "Here we can infer that restaurants with low prices are abundant whereas there are very less number of costly restaurants"
   ]
  },
  {
   "cell_type": "code",
   "execution_count": 52,
   "id": "1d3aea7c",
   "metadata": {
    "execution": {
     "iopub.execute_input": "2022-11-25T07:03:13.846043Z",
     "iopub.status.busy": "2022-11-25T07:03:13.845280Z",
     "iopub.status.idle": "2022-11-25T07:03:15.130613Z",
     "shell.execute_reply": "2022-11-25T07:03:15.128775Z"
    },
    "papermill": {
     "duration": 1.324233,
     "end_time": "2022-11-25T07:03:15.133761",
     "exception": false,
     "start_time": "2022-11-25T07:03:13.809528",
     "status": "completed"
    },
    "tags": []
   },
   "outputs": [
    {
     "data": {
      "text/plain": [
       "<AxesSubplot:xlabel='Price level', ylabel='Votes'>"
      ]
     },
     "execution_count": 52,
     "metadata": {},
     "output_type": "execute_result"
    },
    {
     "data": {
      "image/png": "[encoded data removed]",
      "text/plain": [
       "<Figure size 1008x432 with 2 Axes>"
      ]
     },
     "metadata": {
      "needs_background": "light"
     },
     "output_type": "display_data"
    }
   ],
   "source": [
    "plt.figure(figsize=(14,6))\n",
    "sns.lineplot(x=\"Price level\",y=\"Rating\",data=zomato,ax=plt.subplot(1,2,1))\n",
    "sns.lineplot(x=\"Price level\",y=\"Votes\",data=zomato,ax=plt.subplot(1,2,2))"
   ]
  },
  {
   "cell_type": "markdown",
   "id": "b94754fe",
   "metadata": {
    "papermill": {
     "duration": 0.033756,
     "end_time": "2022-11-25T07:03:15.201775",
     "exception": false,
     "start_time": "2022-11-25T07:03:15.168019",
     "status": "completed"
    },
    "tags": []
   },
   "source": [
    "Here we can infer that as price of restaurants increase , ratings increase as well also restaurants with moderate price range recieve maximum votes and restaurants with high price range recieve less votes, There might be multiple reasons for that\n",
    "- Since the number of costly reastaurants is less , people going there are going to be less and there are high chances of those people to give a good feedback thus keeping the rating high coz of few people who rated them good\n",
    "- Restaurants might be worth the money , most of the people went there rated them well.\n",
    "- Restaurants with low pricing serve a lot of people , thus is rated by large number of people, here ratings may vary from 1 to 5 depending upon the customer satisfaction.\n"
   ]
  },
  {
   "cell_type": "code",
   "execution_count": 53,
   "id": "c17f79b8",
   "metadata": {
    "execution": {
     "iopub.execute_input": "2022-11-25T07:03:15.271139Z",
     "iopub.status.busy": "2022-11-25T07:03:15.270707Z",
     "iopub.status.idle": "2022-11-25T07:03:15.769987Z",
     "shell.execute_reply": "2022-11-25T07:03:15.768916Z"
    },
    "papermill": {
     "duration": 0.536855,
     "end_time": "2022-11-25T07:03:15.772710",
     "exception": false,
     "start_time": "2022-11-25T07:03:15.235855",
     "status": "completed"
    },
    "scrolled": true,
    "tags": []
   },
   "outputs": [
    {
     "data": {
      "text/plain": [
       "<AxesSubplot:xlabel='Category', ylabel='Rating'>"
      ]
     },
     "execution_count": 53,
     "metadata": {},
     "output_type": "execute_result"
    },
    {
     "data": {
      "image/png": "[encoded data removed]",
      "text/plain": [
       "<Figure size 1008x432 with 1 Axes>"
      ]
     },
     "metadata": {
      "needs_background": "light"
     },
     "output_type": "display_data"
    }
   ],
   "source": [
    "plt.figure(figsize=(14,6))\n",
    "s=pd.DataFrame(zomato.groupby([\"Category\",\"Price level\"])[\"Rating\"].mean()).reset_index()\n",
    "sns.barplot(data=s,x='Category',y='Rating',hue='Price level')"
   ]
  },
  {
   "cell_type": "markdown",
   "id": "bc1f0d3d",
   "metadata": {
    "papermill": {
     "duration": 0.032848,
     "end_time": "2022-11-25T07:03:15.907417",
     "exception": false,
     "start_time": "2022-11-25T07:03:15.874569",
     "status": "completed"
    },
    "tags": []
   },
   "source": [
    "Here we can infer the following\n",
    "- Only restaurants offering Dine-out service contain very high price range along with other price ranges\n",
    "- Cafes,Delivery,Desserts conatain low to moderate price range \n",
    "- Buffet, Drinks&nightlife, Pubs and bars providing restaurants offer good food in low price range \n",
    "- Delivery providing restaurants offer good food in moderate price range\n",
    "- Buffet providing restaurants offer good food in high price range\n",
    "- Dine-out providing restaurants are costly "
   ]
  },
  {
   "cell_type": "markdown",
   "id": "c04409d2",
   "metadata": {
    "papermill": {
     "duration": 0.032887,
     "end_time": "2022-11-25T07:03:15.973521",
     "exception": false,
     "start_time": "2022-11-25T07:03:15.940634",
     "status": "completed"
    },
    "tags": []
   },
   "source": [
    "## Conclusions"
   ]
  },
  {
   "cell_type": "markdown",
   "id": "96c0ef43",
   "metadata": {
    "papermill": {
     "duration": 0.032995,
     "end_time": "2022-11-25T07:03:16.040613",
     "exception": false,
     "start_time": "2022-11-25T07:03:16.007618",
     "status": "completed"
    },
    "tags": []
   },
   "source": [
    "#### 1.) 1258 restaurants have been newly developed \n",
    "\n",
    "#### 2.) For restaurants to increase their profit rate , they need to provide online servies as well as table reservation services to the customers\n",
    "\n",
    "#### 3.) Delivery service is one of the major services to gain the attention of customers, thus restaurants need to provide delivery service "
   ]
  }
 ],
 "metadata": {
  "kernelspec": {
   "display_name": "Python 3",
   "language": "python",
   "name": "python3"
  },
  "language_info": {
   "codemirror_mode": {
    "name": "ipython",
    "version": 3
   },
   "file_extension": ".py",
   "mimetype": "text/x-python",
   "name": "python",
   "nbconvert_exporter": "python",
   "pygments_lexer": "ipython3",
   "version": "3.7.12"
  },
  "papermill": {
   "default_parameters": {},
   "duration": 40.813297,
   "end_time": "2022-11-25T07:03:16.999033",
   "environment_variables": {},
   "exception": null,
   "input_path": "__notebook__.ipynb",
   "output_path": "__notebook__.ipynb",
   "parameters": {},
   "start_time": "2022-11-25T07:02:36.185736",
   "version": "2.3.4"
  }
 },
 "nbformat": 4,
 "nbformat_minor": 5
}
